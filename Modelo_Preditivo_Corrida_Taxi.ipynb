{
 "cells": [
  {
   "cell_type": "markdown",
   "metadata": {},
   "source": [
    "# Descrição do Projeto\n",
    "\n",
    "A empresa Sweet Lift Taxi coletou dados históricos sobre pedidos de táxi nos aeroportos. Para atrair mais motoristas durante o horário de pico, precisamos prever a quantidade de pedidos de **táxi para a próxima hora.** \t\n",
    "Construa um modelo para tal predição.\n",
    "\n",
    "A métrica REQM no conjunto de teste não deve ser superior a 48."
   ]
  },
  {
   "cell_type": "markdown",
   "metadata": {},
   "source": [
    "### Importando as bibliotecas"
   ]
  },
  {
   "cell_type": "code",
   "execution_count": 65,
   "metadata": {},
   "outputs": [
    {
     "name": "stdout",
     "output_type": "stream",
     "text": [
      "Note: you may need to restart the kernel to use updated packages.\n"
     ]
    }
   ],
   "source": [
    "%pip install statsmodels -q"
   ]
  },
  {
   "cell_type": "code",
   "execution_count": 66,
   "metadata": {},
   "outputs": [],
   "source": [
    "import pandas as pd\n",
    "import numpy as np\n",
    "from statsmodels.tsa.seasonal import seasonal_decompose\n",
    "import matplotlib.pyplot as plt\n",
    "from sklearn.model_selection import train_test_split\n",
    "from sklearn.linear_model import LinearRegression\n",
    "from sklearn.ensemble import RandomForestRegressor\n",
    "from sklearn.metrics import mean_absolute_error\n",
    "import warnings\n"
   ]
  },
  {
   "cell_type": "markdown",
   "metadata": {},
   "source": [
    "### Verificando o dataset"
   ]
  },
  {
   "cell_type": "code",
   "execution_count": 67,
   "metadata": {},
   "outputs": [
    {
     "data": {
      "text/html": [
       "<div>\n",
       "<style scoped>\n",
       "    .dataframe tbody tr th:only-of-type {\n",
       "        vertical-align: middle;\n",
       "    }\n",
       "\n",
       "    .dataframe tbody tr th {\n",
       "        vertical-align: top;\n",
       "    }\n",
       "\n",
       "    .dataframe thead th {\n",
       "        text-align: right;\n",
       "    }\n",
       "</style>\n",
       "<table border=\"1\" class=\"dataframe\">\n",
       "  <thead>\n",
       "    <tr style=\"text-align: right;\">\n",
       "      <th></th>\n",
       "      <th>num_orders</th>\n",
       "    </tr>\n",
       "    <tr>\n",
       "      <th>datetime</th>\n",
       "      <th></th>\n",
       "    </tr>\n",
       "  </thead>\n",
       "  <tbody>\n",
       "    <tr>\n",
       "      <th>2018-03-01 00:00:00</th>\n",
       "      <td>9</td>\n",
       "    </tr>\n",
       "    <tr>\n",
       "      <th>2018-03-01 00:10:00</th>\n",
       "      <td>14</td>\n",
       "    </tr>\n",
       "    <tr>\n",
       "      <th>2018-03-01 00:20:00</th>\n",
       "      <td>28</td>\n",
       "    </tr>\n",
       "    <tr>\n",
       "      <th>2018-03-01 00:30:00</th>\n",
       "      <td>20</td>\n",
       "    </tr>\n",
       "    <tr>\n",
       "      <th>2018-03-01 00:40:00</th>\n",
       "      <td>32</td>\n",
       "    </tr>\n",
       "  </tbody>\n",
       "</table>\n",
       "</div>"
      ],
      "text/plain": [
       "                     num_orders\n",
       "datetime                       \n",
       "2018-03-01 00:00:00           9\n",
       "2018-03-01 00:10:00          14\n",
       "2018-03-01 00:20:00          28\n",
       "2018-03-01 00:30:00          20\n",
       "2018-03-01 00:40:00          32"
      ]
     },
     "execution_count": 67,
     "metadata": {},
     "output_type": "execute_result"
    }
   ],
   "source": [
    "df = pd.read_csv('taxi.csv', parse_dates=[0],index_col = [0])\n",
    "df.sort_index(inplace=True)\n",
    "df.head()"
   ]
  },
  {
   "cell_type": "markdown",
   "metadata": {},
   "source": [
    "### informação dos dados"
   ]
  },
  {
   "cell_type": "code",
   "execution_count": 68,
   "metadata": {},
   "outputs": [
    {
     "name": "stdout",
     "output_type": "stream",
     "text": [
      "<class 'pandas.core.frame.DataFrame'>\n",
      "DatetimeIndex: 26496 entries, 2018-03-01 00:00:00 to 2018-08-31 23:50:00\n",
      "Data columns (total 1 columns):\n",
      " #   Column      Non-Null Count  Dtype\n",
      "---  ------      --------------  -----\n",
      " 0   num_orders  26496 non-null  int64\n",
      "dtypes: int64(1)\n",
      "memory usage: 414.0 KB\n"
     ]
    }
   ],
   "source": [
    "df.info()"
   ]
  },
  {
   "cell_type": "markdown",
   "metadata": {},
   "source": [
    "### Estatistica dos dados"
   ]
  },
  {
   "cell_type": "code",
   "execution_count": 69,
   "metadata": {},
   "outputs": [
    {
     "data": {
      "text/html": [
       "<div>\n",
       "<style scoped>\n",
       "    .dataframe tbody tr th:only-of-type {\n",
       "        vertical-align: middle;\n",
       "    }\n",
       "\n",
       "    .dataframe tbody tr th {\n",
       "        vertical-align: top;\n",
       "    }\n",
       "\n",
       "    .dataframe thead th {\n",
       "        text-align: right;\n",
       "    }\n",
       "</style>\n",
       "<table border=\"1\" class=\"dataframe\">\n",
       "  <thead>\n",
       "    <tr style=\"text-align: right;\">\n",
       "      <th></th>\n",
       "      <th>count</th>\n",
       "      <th>mean</th>\n",
       "      <th>std</th>\n",
       "      <th>min</th>\n",
       "      <th>25%</th>\n",
       "      <th>50%</th>\n",
       "      <th>75%</th>\n",
       "      <th>max</th>\n",
       "    </tr>\n",
       "  </thead>\n",
       "  <tbody>\n",
       "    <tr>\n",
       "      <th>num_orders</th>\n",
       "      <td>26496.0</td>\n",
       "      <td>14.070463</td>\n",
       "      <td>9.21133</td>\n",
       "      <td>0.0</td>\n",
       "      <td>8.0</td>\n",
       "      <td>13.0</td>\n",
       "      <td>19.0</td>\n",
       "      <td>119.0</td>\n",
       "    </tr>\n",
       "  </tbody>\n",
       "</table>\n",
       "</div>"
      ],
      "text/plain": [
       "              count       mean      std  min  25%   50%   75%    max\n",
       "num_orders  26496.0  14.070463  9.21133  0.0  8.0  13.0  19.0  119.0"
      ]
     },
     "execution_count": 69,
     "metadata": {},
     "output_type": "execute_result"
    }
   ],
   "source": [
    "df.describe().T"
   ]
  },
  {
   "cell_type": "code",
   "execution_count": 70,
   "metadata": {},
   "outputs": [
    {
     "data": {
      "text/plain": [
       "num_orders    0\n",
       "dtype: int64"
      ]
     },
     "execution_count": 70,
     "metadata": {},
     "output_type": "execute_result"
    }
   ],
   "source": [
    "df.isna().sum()"
   ]
  },
  {
   "cell_type": "markdown",
   "metadata": {},
   "source": [
    "### Amostragem para uma hora de diferença\n"
   ]
  },
  {
   "cell_type": "code",
   "execution_count": 71,
   "metadata": {},
   "outputs": [
    {
     "data": {
      "text/html": [
       "<div>\n",
       "<style scoped>\n",
       "    .dataframe tbody tr th:only-of-type {\n",
       "        vertical-align: middle;\n",
       "    }\n",
       "\n",
       "    .dataframe tbody tr th {\n",
       "        vertical-align: top;\n",
       "    }\n",
       "\n",
       "    .dataframe thead th {\n",
       "        text-align: right;\n",
       "    }\n",
       "</style>\n",
       "<table border=\"1\" class=\"dataframe\">\n",
       "  <thead>\n",
       "    <tr style=\"text-align: right;\">\n",
       "      <th></th>\n",
       "      <th>count</th>\n",
       "      <th>mean</th>\n",
       "      <th>std</th>\n",
       "      <th>min</th>\n",
       "      <th>25%</th>\n",
       "      <th>50%</th>\n",
       "      <th>75%</th>\n",
       "      <th>max</th>\n",
       "    </tr>\n",
       "  </thead>\n",
       "  <tbody>\n",
       "    <tr>\n",
       "      <th>num_orders</th>\n",
       "      <td>26496.0</td>\n",
       "      <td>14.070463</td>\n",
       "      <td>9.21133</td>\n",
       "      <td>0.0</td>\n",
       "      <td>8.0</td>\n",
       "      <td>13.0</td>\n",
       "      <td>19.0</td>\n",
       "      <td>119.0</td>\n",
       "    </tr>\n",
       "  </tbody>\n",
       "</table>\n",
       "</div>"
      ],
      "text/plain": [
       "              count       mean      std  min  25%   50%   75%    max\n",
       "num_orders  26496.0  14.070463  9.21133  0.0  8.0  13.0  19.0  119.0"
      ]
     },
     "execution_count": 71,
     "metadata": {},
     "output_type": "execute_result"
    }
   ],
   "source": [
    "df.describe().T"
   ]
  },
  {
   "cell_type": "code",
   "execution_count": 72,
   "metadata": {},
   "outputs": [
    {
     "name": "stdout",
     "output_type": "stream",
     "text": [
      "Index(['num_orders'], dtype='object')\n"
     ]
    }
   ],
   "source": [
    "print(df.columns)\n"
   ]
  },
  {
   "cell_type": "markdown",
   "metadata": {},
   "source": [
    "### Amostragem para uma hora de diferença"
   ]
  },
  {
   "cell_type": "code",
   "execution_count": 73,
   "metadata": {},
   "outputs": [
    {
     "name": "stderr",
     "output_type": "stream",
     "text": [
      "C:\\Users\\prasd\\AppData\\Local\\Temp\\ipykernel_27412\\170689485.py:1: FutureWarning: 'H' is deprecated and will be removed in a future version, please use 'h' instead.\n",
      "  df_1h = df.resample('1H').sum()\n"
     ]
    },
    {
     "data": {
      "text/html": [
       "<div>\n",
       "<style scoped>\n",
       "    .dataframe tbody tr th:only-of-type {\n",
       "        vertical-align: middle;\n",
       "    }\n",
       "\n",
       "    .dataframe tbody tr th {\n",
       "        vertical-align: top;\n",
       "    }\n",
       "\n",
       "    .dataframe thead th {\n",
       "        text-align: right;\n",
       "    }\n",
       "</style>\n",
       "<table border=\"1\" class=\"dataframe\">\n",
       "  <thead>\n",
       "    <tr style=\"text-align: right;\">\n",
       "      <th></th>\n",
       "      <th>num_orders</th>\n",
       "    </tr>\n",
       "    <tr>\n",
       "      <th>datetime</th>\n",
       "      <th></th>\n",
       "    </tr>\n",
       "  </thead>\n",
       "  <tbody>\n",
       "    <tr>\n",
       "      <th>2018-03-01 00:00:00</th>\n",
       "      <td>124</td>\n",
       "    </tr>\n",
       "    <tr>\n",
       "      <th>2018-03-01 01:00:00</th>\n",
       "      <td>85</td>\n",
       "    </tr>\n",
       "    <tr>\n",
       "      <th>2018-03-01 02:00:00</th>\n",
       "      <td>71</td>\n",
       "    </tr>\n",
       "    <tr>\n",
       "      <th>2018-03-01 03:00:00</th>\n",
       "      <td>66</td>\n",
       "    </tr>\n",
       "    <tr>\n",
       "      <th>2018-03-01 04:00:00</th>\n",
       "      <td>43</td>\n",
       "    </tr>\n",
       "    <tr>\n",
       "      <th>...</th>\n",
       "      <td>...</td>\n",
       "    </tr>\n",
       "    <tr>\n",
       "      <th>2018-08-31 19:00:00</th>\n",
       "      <td>136</td>\n",
       "    </tr>\n",
       "    <tr>\n",
       "      <th>2018-08-31 20:00:00</th>\n",
       "      <td>154</td>\n",
       "    </tr>\n",
       "    <tr>\n",
       "      <th>2018-08-31 21:00:00</th>\n",
       "      <td>159</td>\n",
       "    </tr>\n",
       "    <tr>\n",
       "      <th>2018-08-31 22:00:00</th>\n",
       "      <td>223</td>\n",
       "    </tr>\n",
       "    <tr>\n",
       "      <th>2018-08-31 23:00:00</th>\n",
       "      <td>205</td>\n",
       "    </tr>\n",
       "  </tbody>\n",
       "</table>\n",
       "<p>4416 rows × 1 columns</p>\n",
       "</div>"
      ],
      "text/plain": [
       "                     num_orders\n",
       "datetime                       \n",
       "2018-03-01 00:00:00         124\n",
       "2018-03-01 01:00:00          85\n",
       "2018-03-01 02:00:00          71\n",
       "2018-03-01 03:00:00          66\n",
       "2018-03-01 04:00:00          43\n",
       "...                         ...\n",
       "2018-08-31 19:00:00         136\n",
       "2018-08-31 20:00:00         154\n",
       "2018-08-31 21:00:00         159\n",
       "2018-08-31 22:00:00         223\n",
       "2018-08-31 23:00:00         205\n",
       "\n",
       "[4416 rows x 1 columns]"
      ]
     },
     "execution_count": 73,
     "metadata": {},
     "output_type": "execute_result"
    }
   ],
   "source": [
    "df_1h = df.resample('1H').sum()\n",
    "df_1h"
   ]
  },
  {
   "cell_type": "markdown",
   "metadata": {},
   "source": [
    "### Verificação do grafico"
   ]
  },
  {
   "cell_type": "code",
   "execution_count": 74,
   "metadata": {},
   "outputs": [
    {
     "data": {
      "image/png": "[encoded data removed]",
      "text/plain": [
       "<Figure size 800x1000 with 3 Axes>"
      ]
     },
     "metadata": {},
     "output_type": "display_data"
    }
   ],
   "source": [
    "result = seasonal_decompose(df_1h['num_orders'], model='additive', period=24) \n",
    "\n",
    "\n",
    "plt.figure(figsize=(8, 10))\n",
    "\n",
    "plt.subplot(311)\n",
    "result.trend.plot(ax=plt.gca(), color='blue')\n",
    "plt.title('Tendência')\n",
    "\n",
    "\n",
    "plt.subplot(312)\n",
    "result.seasonal.plot(ax=plt.gca(), color='green')\n",
    "plt.title('Sazonalidade')\n",
    "\n",
    "\n",
    "plt.subplot(313)\n",
    "result.resid.plot(ax=plt.gca(), color='red')\n",
    "plt.title('Resíduos')\n",
    "\n",
    "plt.tight_layout()\n",
    "plt.show()\n"
   ]
  },
  {
   "cell_type": "markdown",
   "metadata": {},
   "source": [
    "### Teste adfuller"
   ]
  },
  {
   "cell_type": "code",
   "execution_count": 75,
   "metadata": {},
   "outputs": [
    {
     "name": "stdout",
     "output_type": "stream",
     "text": [
      "saida do teste:\n",
      "{'1%': -3.431842162413052, '5%': -2.8621993540813637, '10%': -2.567120978470452}\n",
      "\n"
     ]
    }
   ],
   "source": [
    "from statsmodels.tsa.stattools import adfuller\n",
    "result = adfuller(df_1h.num_orders.values)\n",
    "print(f'saida do teste:\\n{result[4]}\\n')"
   ]
  },
  {
   "cell_type": "code",
   "execution_count": 76,
   "metadata": {},
   "outputs": [
    {
     "name": "stdout",
     "output_type": "stream",
     "text": [
      "Estatística do teste: -3.068924\n",
      "p-value: 0.028940\n",
      "Número de lags utilizados no teste: 30.000000\n",
      "Quantidade de observações utilizadas no teste: 4385\n",
      "Valores Críticos: {'1%': -3.431842162413052, '5%': -2.8621993540813637, '10%': -2.567120978470452}\n",
      "\n",
      "Valores Críticos:\n",
      "\t1%:-3.432 - A Série e não Estacionaria com 99.0% de confiança\n",
      "\t5%:-2.862 - A Série e  Estacionaria com 95.0% de confiança\n",
      "\t10%:-2.567 - A Série e  Estacionaria com 90.0% de confiança\n"
     ]
    }
   ],
   "source": [
    "print(f\"Estatística do teste: %f\" % result[0])\n",
    "print(f\"p-value: %f\" % result[1])\n",
    "print(f\"Número de lags utilizados no teste: %f\" % result[2])\n",
    "print(f\"Quantidade de observações utilizadas no teste: %i\" % result[3])\n",
    "print(f\"Valores Críticos: {result[4]}\")\n",
    "\n",
    "print(\"\\nValores Críticos:\")\n",
    "critical_values = result[4]\n",
    "for key, value in critical_values.items():\n",
    "    print('\\t{}:{:.3f} - A Série e {} Estacionaria com {}% de confiança'.format(\n",
    "    key, value, 'não' if value<result[0] else '', 100-float(key[:-1])))\n",
    "    "
   ]
  },
  {
   "cell_type": "markdown",
   "metadata": {},
   "source": [
    "### TesteKPSS"
   ]
  },
  {
   "cell_type": "code",
   "execution_count": 77,
   "metadata": {},
   "outputs": [
    {
     "name": "stdout",
     "output_type": "stream",
     "text": [
      "saida do teste:\n",
      "(10.913353384602186, 0.01, 32, {'10%': 0.347, '5%': 0.463, '2.5%': 0.574, '1%': 0.739})\n",
      "\n"
     ]
    }
   ],
   "source": [
    "import warnings\n",
    "from statsmodels.tools.sm_exceptions import InterpolationWarning\n",
    "from statsmodels.tsa.stattools import kpss\n",
    "warnings.filterwarnings('ignore', category=InterpolationWarning)\n",
    "\n",
    "\n",
    "result = kpss(df_1h.num_orders.values)\n",
    "print(f'saida do teste:\\n{result}\\n')"
   ]
  },
  {
   "cell_type": "code",
   "execution_count": 78,
   "metadata": {},
   "outputs": [
    {
     "name": "stdout",
     "output_type": "stream",
     "text": [
      "Estatística do teste: 10.913353\n",
      "p-value: 0.010000\n",
      "Número de lags utilizados no teste: 32.000000\n",
      "Valores Críticos: {'10%': 0.347, '5%': 0.463, '2.5%': 0.574, '1%': 0.739}\n",
      "\n",
      "Valores Críticos:\n",
      "\t10%: 0.347 - A Série  não Estacionaria com 90.0%  de confiança\n",
      "\t5%: 0.463 - A Série  não Estacionaria com 95.0%  de confiança\n",
      "\t2.5%: 0.574 - A Série  não Estacionaria com 97.5%  de confiança\n",
      "\t1%: 0.739 - A Série  não Estacionaria com 99.0%  de confiança\n"
     ]
    }
   ],
   "source": [
    "print(f\"Estatística do teste: %f\" % result[0])\n",
    "print(f\"p-value: %f\" % result[1])\n",
    "print(f\"Número de lags utilizados no teste: %f\" % result[2])\n",
    "print(f\"Valores Críticos: {result[3]}\")\n",
    "\n",
    "print(\"\\nValores Críticos:\")\n",
    "critical_values = result[3]\n",
    "for key, value in critical_values.items():\n",
    "    print(f'\\t{key}: {value:.3f} - A Série  {\"não\" if value< result[0] else \"é\"} Estacionaria com {100-float(key[:-1])}%  de confiança')"
   ]
  },
  {
   "cell_type": "markdown",
   "metadata": {},
   "source": [
    "### Juntando os dois testes"
   ]
  },
  {
   "cell_type": "code",
   "execution_count": 79,
   "metadata": {},
   "outputs": [
    {
     "name": "stdout",
     "output_type": "stream",
     "text": [
      "\u001b[34mAdfuller\u001b[0m\n",
      "p-value: 0.029\n",
      "\u001b[32mEstacionária com nível de confiança de 95%\u001b[0m\n",
      "\n",
      "\n",
      "\u001b[34mKPSS\u001b[0m\n",
      "p-value: 0.010\n",
      "\u001b[31mNão estacionária com nível de confiança de 95%\u001b[0m\n",
      "\n",
      "\n"
     ]
    }
   ],
   "source": [
    "from statsmodels.tsa.stattools import adfuller, kpss\n",
    "\n",
    "def check_stationarity(series):\n",
    "    for test_name, test in {'Adfuller': adfuller, 'KPSS': kpss}.items():\n",
    "        result = test(series.values)\n",
    "        print(f\"\\033[34m{test_name}\\033[0m\")\n",
    "        print(f'p-value: %.3f' % result[1])\n",
    "\n",
    "      \n",
    "        critical_values = result[4] if test_name == \"Adfuller\" else result[3]\n",
    "        critical_values = critical_values[\"5%\"] \n",
    "\n",
    "        check_adfuller = (test_name == \"Adfuller\") & (result[1] <= 0.05) & (critical_values > result[0])\n",
    "        check_kpss = (test_name == \"KPSS\") & (result[1] > 0.05) & (critical_values > result[0])\n",
    "\n",
    "\n",
    "        if check_adfuller | check_kpss:\n",
    "            print(\"\\033[32mEstacionária com nível de confiança de 95%\\033[0m\") \n",
    "        else:\n",
    "            print(\"\\033[31mNão estacionária com nível de confiança de 95%\\033[0m\") \n",
    "        print(\"\\n\")\n",
    "\n",
    "\n",
    "check_stationarity(df_1h.num_orders.dropna())\n",
    "\n"
   ]
  },
  {
   "cell_type": "markdown",
   "metadata": {},
   "source": [
    "### Dados de uma Hora"
   ]
  },
  {
   "cell_type": "code",
   "execution_count": 80,
   "metadata": {},
   "outputs": [
    {
     "data": {
      "text/plain": [
       "<Axes: xlabel='datetime'>"
      ]
     },
     "execution_count": 80,
     "metadata": {},
     "output_type": "execute_result"
    },
    {
     "data": {
      "image/png": "[encoded data removed]",
      "text/plain": [
       "<Figure size 640x480 with 1 Axes>"
      ]
     },
     "metadata": {},
     "output_type": "display_data"
    }
   ],
   "source": [
    "df_1h_mean = df_1h\n",
    "df_1h_mean['rolling_mean'] = df_1h.rolling(150).mean()\n",
    "df_1h_mean.plot()"
   ]
  },
  {
   "cell_type": "markdown",
   "metadata": {},
   "source": [
    "### Analisando periodo menor de 24 horas"
   ]
  },
  {
   "cell_type": "code",
   "execution_count": 81,
   "metadata": {},
   "outputs": [
    {
     "data": {
      "image/png": "[encoded data removed]",
      "text/plain": [
       "<Figure size 1500x600 with 1 Axes>"
      ]
     },
     "metadata": {},
     "output_type": "display_data"
    }
   ],
   "source": [
    "plt.figure(figsize=(15,6))\n",
    "plt.plot(df_1h.iloc[-24:])\n",
    "plt.title('Corridas')\n",
    "plt.show();"
   ]
  },
  {
   "cell_type": "markdown",
   "metadata": {},
   "source": [
    "\n",
    "### Treinamento\n"
   ]
  },
  {
   "cell_type": "markdown",
   "metadata": {},
   "source": [
    "#### Criando as características"
   ]
  },
  {
   "cell_type": "code",
   "execution_count": 82,
   "metadata": {},
   "outputs": [],
   "source": [
    "def make_features(df_1h, max_lag, rolling_mean_size):\n",
    "    df_1h['year'] = df_1h.index.year\n",
    "    df_1h['month'] = df_1h.index.month\n",
    "    df_1h['day'] = df_1h.index.day\n",
    "    df_1h['dayofweek'] = df_1h.index.dayofweek\n",
    "    \n",
    "    for lag in range(1, max_lag + 1):\n",
    "        df_1h['lag_{}'.format(lag)] = df_1h['num_orders'].shift(lag)\n",
    "\n",
    "    df_1h['rolling_mean'] = df_1h['num_orders'].shift().rolling(rolling_mean_size).mean()"
   ]
  },
  {
   "cell_type": "markdown",
   "metadata": {},
   "source": [
    "#### Aplicando a funçõa"
   ]
  },
  {
   "cell_type": "code",
   "execution_count": 83,
   "metadata": {},
   "outputs": [],
   "source": [
    "make_features(df_1h, 4, 4)"
   ]
  },
  {
   "cell_type": "markdown",
   "metadata": {},
   "source": [
    "\n",
    "\n",
    "Nesses dois últimos comandos, criei novas características para o modelo que vão ajudar na previsão. São elas:\n",
    "\n",
    "-  ano\n",
    "-  mês\n",
    "-  dia\n",
    "-  dia da semana\n",
    "\n",
    "Fiz isso para podermos ter um detalhamento maior de todos os fatores que podem afetar nosso modelo.\n"
   ]
  },
  {
   "cell_type": "markdown",
   "metadata": {},
   "source": [
    "### Separando o conjunto de teste e treino"
   ]
  },
  {
   "cell_type": "code",
   "execution_count": 84,
   "metadata": {},
   "outputs": [],
   "source": [
    "train, test = train_test_split(df_1h, shuffle=False, test_size=0.1)"
   ]
  },
  {
   "cell_type": "markdown",
   "metadata": {},
   "source": [
    "#### Separando as características e objetivos do modelo"
   ]
  },
  {
   "cell_type": "code",
   "execution_count": 85,
   "metadata": {},
   "outputs": [],
   "source": [
    "train = train.dropna()\n",
    "\n",
    "features_train = train.drop(['num_orders'], axis=1)\n",
    "target_train = train['num_orders']\n",
    "features_test = test.drop(['num_orders'], axis=1)\n",
    "target_test = test['num_orders']"
   ]
  },
  {
   "cell_type": "markdown",
   "metadata": {},
   "source": [
    "### Treinando o modelo de regressão linear"
   ]
  },
  {
   "cell_type": "code",
   "execution_count": 86,
   "metadata": {},
   "outputs": [
    {
     "data": {
      "text/html": [
       "<style>#sk-container-id-3 {\n",
       "  /* Definition of color scheme common for light and dark mode */\n",
       "  --sklearn-color-text: black;\n",
       "  --sklearn-color-line: gray;\n",
       "  /* Definition of color scheme for unfitted estimators */\n",
       "  --sklearn-color-unfitted-level-0: #fff5e6;\n",
       "  --sklearn-color-unfitted-level-1: #f6e4d2;\n",
       "  --sklearn-color-unfitted-level-2: #ffe0b3;\n",
       "  --sklearn-color-unfitted-level-3: chocolate;\n",
       "  /* Definition of color scheme for fitted estimators */\n",
       "  --sklearn-color-fitted-level-0: #f0f8ff;\n",
       "  --sklearn-color-fitted-level-1: #d4ebff;\n",
       "  --sklearn-color-fitted-level-2: #b3dbfd;\n",
       "  --sklearn-color-fitted-level-3: cornflowerblue;\n",
       "\n",
       "  /* Specific color for light theme */\n",
       "  --sklearn-color-text-on-default-background: var(--sg-text-color, var(--theme-code-foreground, var(--jp-content-font-color1, black)));\n",
       "  --sklearn-color-background: var(--sg-background-color, var(--theme-background, var(--jp-layout-color0, white)));\n",
       "  --sklearn-color-border-box: var(--sg-text-color, var(--theme-code-foreground, var(--jp-content-font-color1, black)));\n",
       "  --sklearn-color-icon: #696969;\n",
       "\n",
       "  @media (prefers-color-scheme: dark) {\n",
       "    /* Redefinition of color scheme for dark theme */\n",
       "    --sklearn-color-text-on-default-background: var(--sg-text-color, var(--theme-code-foreground, var(--jp-content-font-color1, white)));\n",
       "    --sklearn-color-background: var(--sg-background-color, var(--theme-background, var(--jp-layout-color0, #111)));\n",
       "    --sklearn-color-border-box: var(--sg-text-color, var(--theme-code-foreground, var(--jp-content-font-color1, white)));\n",
       "    --sklearn-color-icon: #878787;\n",
       "  }\n",
       "}\n",
       "\n",
       "#sk-container-id-3 {\n",
       "  color: var(--sklearn-color-text);\n",
       "}\n",
       "\n",
       "#sk-container-id-3 pre {\n",
       "  padding: 0;\n",
       "}\n",
       "\n",
       "#sk-container-id-3 input.sk-hidden--visually {\n",
       "  border: 0;\n",
       "  clip: rect(1px 1px 1px 1px);\n",
       "  clip: rect(1px, 1px, 1px, 1px);\n",
       "  height: 1px;\n",
       "  margin: -1px;\n",
       "  overflow: hidden;\n",
       "  padding: 0;\n",
       "  position: absolute;\n",
       "  width: 1px;\n",
       "}\n",
       "\n",
       "#sk-container-id-3 div.sk-dashed-wrapped {\n",
       "  border: 1px dashed var(--sklearn-color-line);\n",
       "  margin: 0 0.4em 0.5em 0.4em;\n",
       "  box-sizing: border-box;\n",
       "  padding-bottom: 0.4em;\n",
       "  background-color: var(--sklearn-color-background);\n",
       "}\n",
       "\n",
       "#sk-container-id-3 div.sk-container {\n",
       "  /* jupyter's `normalize.less` sets `[hidden] { display: none; }`\n",
       "     but bootstrap.min.css set `[hidden] { display: none !important; }`\n",
       "     so we also need the `!important` here to be able to override the\n",
       "     default hidden behavior on the sphinx rendered scikit-learn.org.\n",
       "     See: https://github.com/scikit-learn/scikit-learn/issues/21755 */\n",
       "  display: inline-block !important;\n",
       "  position: relative;\n",
       "}\n",
       "\n",
       "#sk-container-id-3 div.sk-text-repr-fallback {\n",
       "  display: none;\n",
       "}\n",
       "\n",
       "div.sk-parallel-item,\n",
       "div.sk-serial,\n",
       "div.sk-item {\n",
       "  /* draw centered vertical line to link estimators */\n",
       "  background-image: linear-gradient(var(--sklearn-color-text-on-default-background), var(--sklearn-color-text-on-default-background));\n",
       "  background-size: 2px 100%;\n",
       "  background-repeat: no-repeat;\n",
       "  background-position: center center;\n",
       "}\n",
       "\n",
       "/* Parallel-specific style estimator block */\n",
       "\n",
       "#sk-container-id-3 div.sk-parallel-item::after {\n",
       "  content: \"\";\n",
       "  width: 100%;\n",
       "  border-bottom: 2px solid var(--sklearn-color-text-on-default-background);\n",
       "  flex-grow: 1;\n",
       "}\n",
       "\n",
       "#sk-container-id-3 div.sk-parallel {\n",
       "  display: flex;\n",
       "  align-items: stretch;\n",
       "  justify-content: center;\n",
       "  background-color: var(--sklearn-color-background);\n",
       "  position: relative;\n",
       "}\n",
       "\n",
       "#sk-container-id-3 div.sk-parallel-item {\n",
       "  display: flex;\n",
       "  flex-direction: column;\n",
       "}\n",
       "\n",
       "#sk-container-id-3 div.sk-parallel-item:first-child::after {\n",
       "  align-self: flex-end;\n",
       "  width: 50%;\n",
       "}\n",
       "\n",
       "#sk-container-id-3 div.sk-parallel-item:last-child::after {\n",
       "  align-self: flex-start;\n",
       "  width: 50%;\n",
       "}\n",
       "\n",
       "#sk-container-id-3 div.sk-parallel-item:only-child::after {\n",
       "  width: 0;\n",
       "}\n",
       "\n",
       "/* Serial-specific style estimator block */\n",
       "\n",
       "#sk-container-id-3 div.sk-serial {\n",
       "  display: flex;\n",
       "  flex-direction: column;\n",
       "  align-items: center;\n",
       "  background-color: var(--sklearn-color-background);\n",
       "  padding-right: 1em;\n",
       "  padding-left: 1em;\n",
       "}\n",
       "\n",
       "\n",
       "/* Toggleable style: style used for estimator/Pipeline/ColumnTransformer box that is\n",
       "clickable and can be expanded/collapsed.\n",
       "- Pipeline and ColumnTransformer use this feature and define the default style\n",
       "- Estimators will overwrite some part of the style using the `sk-estimator` class\n",
       "*/\n",
       "\n",
       "/* Pipeline and ColumnTransformer style (default) */\n",
       "\n",
       "#sk-container-id-3 div.sk-toggleable {\n",
       "  /* Default theme specific background. It is overwritten whether we have a\n",
       "  specific estimator or a Pipeline/ColumnTransformer */\n",
       "  background-color: var(--sklearn-color-background);\n",
       "}\n",
       "\n",
       "/* Toggleable label */\n",
       "#sk-container-id-3 label.sk-toggleable__label {\n",
       "  cursor: pointer;\n",
       "  display: block;\n",
       "  width: 100%;\n",
       "  margin-bottom: 0;\n",
       "  padding: 0.5em;\n",
       "  box-sizing: border-box;\n",
       "  text-align: center;\n",
       "}\n",
       "\n",
       "#sk-container-id-3 label.sk-toggleable__label-arrow:before {\n",
       "  /* Arrow on the left of the label */\n",
       "  content: \"▸\";\n",
       "  float: left;\n",
       "  margin-right: 0.25em;\n",
       "  color: var(--sklearn-color-icon);\n",
       "}\n",
       "\n",
       "#sk-container-id-3 label.sk-toggleable__label-arrow:hover:before {\n",
       "  color: var(--sklearn-color-text);\n",
       "}\n",
       "\n",
       "/* Toggleable content - dropdown */\n",
       "\n",
       "#sk-container-id-3 div.sk-toggleable__content {\n",
       "  max-height: 0;\n",
       "  max-width: 0;\n",
       "  overflow: hidden;\n",
       "  text-align: left;\n",
       "  /* unfitted */\n",
       "  background-color: var(--sklearn-color-unfitted-level-0);\n",
       "}\n",
       "\n",
       "#sk-container-id-3 div.sk-toggleable__content.fitted {\n",
       "  /* fitted */\n",
       "  background-color: var(--sklearn-color-fitted-level-0);\n",
       "}\n",
       "\n",
       "#sk-container-id-3 div.sk-toggleable__content pre {\n",
       "  margin: 0.2em;\n",
       "  border-radius: 0.25em;\n",
       "  color: var(--sklearn-color-text);\n",
       "  /* unfitted */\n",
       "  background-color: var(--sklearn-color-unfitted-level-0);\n",
       "}\n",
       "\n",
       "#sk-container-id-3 div.sk-toggleable__content.fitted pre {\n",
       "  /* unfitted */\n",
       "  background-color: var(--sklearn-color-fitted-level-0);\n",
       "}\n",
       "\n",
       "#sk-container-id-3 input.sk-toggleable__control:checked~div.sk-toggleable__content {\n",
       "  /* Expand drop-down */\n",
       "  max-height: 200px;\n",
       "  max-width: 100%;\n",
       "  overflow: auto;\n",
       "}\n",
       "\n",
       "#sk-container-id-3 input.sk-toggleable__control:checked~label.sk-toggleable__label-arrow:before {\n",
       "  content: \"▾\";\n",
       "}\n",
       "\n",
       "/* Pipeline/ColumnTransformer-specific style */\n",
       "\n",
       "#sk-container-id-3 div.sk-label input.sk-toggleable__control:checked~label.sk-toggleable__label {\n",
       "  color: var(--sklearn-color-text);\n",
       "  background-color: var(--sklearn-color-unfitted-level-2);\n",
       "}\n",
       "\n",
       "#sk-container-id-3 div.sk-label.fitted input.sk-toggleable__control:checked~label.sk-toggleable__label {\n",
       "  background-color: var(--sklearn-color-fitted-level-2);\n",
       "}\n",
       "\n",
       "/* Estimator-specific style */\n",
       "\n",
       "/* Colorize estimator box */\n",
       "#sk-container-id-3 div.sk-estimator input.sk-toggleable__control:checked~label.sk-toggleable__label {\n",
       "  /* unfitted */\n",
       "  background-color: var(--sklearn-color-unfitted-level-2);\n",
       "}\n",
       "\n",
       "#sk-container-id-3 div.sk-estimator.fitted input.sk-toggleable__control:checked~label.sk-toggleable__label {\n",
       "  /* fitted */\n",
       "  background-color: var(--sklearn-color-fitted-level-2);\n",
       "}\n",
       "\n",
       "#sk-container-id-3 div.sk-label label.sk-toggleable__label,\n",
       "#sk-container-id-3 div.sk-label label {\n",
       "  /* The background is the default theme color */\n",
       "  color: var(--sklearn-color-text-on-default-background);\n",
       "}\n",
       "\n",
       "/* On hover, darken the color of the background */\n",
       "#sk-container-id-3 div.sk-label:hover label.sk-toggleable__label {\n",
       "  color: var(--sklearn-color-text);\n",
       "  background-color: var(--sklearn-color-unfitted-level-2);\n",
       "}\n",
       "\n",
       "/* Label box, darken color on hover, fitted */\n",
       "#sk-container-id-3 div.sk-label.fitted:hover label.sk-toggleable__label.fitted {\n",
       "  color: var(--sklearn-color-text);\n",
       "  background-color: var(--sklearn-color-fitted-level-2);\n",
       "}\n",
       "\n",
       "/* Estimator label */\n",
       "\n",
       "#sk-container-id-3 div.sk-label label {\n",
       "  font-family: monospace;\n",
       "  font-weight: bold;\n",
       "  display: inline-block;\n",
       "  line-height: 1.2em;\n",
       "}\n",
       "\n",
       "#sk-container-id-3 div.sk-label-container {\n",
       "  text-align: center;\n",
       "}\n",
       "\n",
       "/* Estimator-specific */\n",
       "#sk-container-id-3 div.sk-estimator {\n",
       "  font-family: monospace;\n",
       "  border: 1px dotted var(--sklearn-color-border-box);\n",
       "  border-radius: 0.25em;\n",
       "  box-sizing: border-box;\n",
       "  margin-bottom: 0.5em;\n",
       "  /* unfitted */\n",
       "  background-color: var(--sklearn-color-unfitted-level-0);\n",
       "}\n",
       "\n",
       "#sk-container-id-3 div.sk-estimator.fitted {\n",
       "  /* fitted */\n",
       "  background-color: var(--sklearn-color-fitted-level-0);\n",
       "}\n",
       "\n",
       "/* on hover */\n",
       "#sk-container-id-3 div.sk-estimator:hover {\n",
       "  /* unfitted */\n",
       "  background-color: var(--sklearn-color-unfitted-level-2);\n",
       "}\n",
       "\n",
       "#sk-container-id-3 div.sk-estimator.fitted:hover {\n",
       "  /* fitted */\n",
       "  background-color: var(--sklearn-color-fitted-level-2);\n",
       "}\n",
       "\n",
       "/* Specification for estimator info (e.g. \"i\" and \"?\") */\n",
       "\n",
       "/* Common style for \"i\" and \"?\" */\n",
       "\n",
       ".sk-estimator-doc-link,\n",
       "a:link.sk-estimator-doc-link,\n",
       "a:visited.sk-estimator-doc-link {\n",
       "  float: right;\n",
       "  font-size: smaller;\n",
       "  line-height: 1em;\n",
       "  font-family: monospace;\n",
       "  background-color: var(--sklearn-color-background);\n",
       "  border-radius: 1em;\n",
       "  height: 1em;\n",
       "  width: 1em;\n",
       "  text-decoration: none !important;\n",
       "  margin-left: 1ex;\n",
       "  /* unfitted */\n",
       "  border: var(--sklearn-color-unfitted-level-1) 1pt solid;\n",
       "  color: var(--sklearn-color-unfitted-level-1);\n",
       "}\n",
       "\n",
       ".sk-estimator-doc-link.fitted,\n",
       "a:link.sk-estimator-doc-link.fitted,\n",
       "a:visited.sk-estimator-doc-link.fitted {\n",
       "  /* fitted */\n",
       "  border: var(--sklearn-color-fitted-level-1) 1pt solid;\n",
       "  color: var(--sklearn-color-fitted-level-1);\n",
       "}\n",
       "\n",
       "/* On hover */\n",
       "div.sk-estimator:hover .sk-estimator-doc-link:hover,\n",
       ".sk-estimator-doc-link:hover,\n",
       "div.sk-label-container:hover .sk-estimator-doc-link:hover,\n",
       ".sk-estimator-doc-link:hover {\n",
       "  /* unfitted */\n",
       "  background-color: var(--sklearn-color-unfitted-level-3);\n",
       "  color: var(--sklearn-color-background);\n",
       "  text-decoration: none;\n",
       "}\n",
       "\n",
       "div.sk-estimator.fitted:hover .sk-estimator-doc-link.fitted:hover,\n",
       ".sk-estimator-doc-link.fitted:hover,\n",
       "div.sk-label-container:hover .sk-estimator-doc-link.fitted:hover,\n",
       ".sk-estimator-doc-link.fitted:hover {\n",
       "  /* fitted */\n",
       "  background-color: var(--sklearn-color-fitted-level-3);\n",
       "  color: var(--sklearn-color-background);\n",
       "  text-decoration: none;\n",
       "}\n",
       "\n",
       "/* Span, style for the box shown on hovering the info icon */\n",
       ".sk-estimator-doc-link span {\n",
       "  display: none;\n",
       "  z-index: 9999;\n",
       "  position: relative;\n",
       "  font-weight: normal;\n",
       "  right: .2ex;\n",
       "  padding: .5ex;\n",
       "  margin: .5ex;\n",
       "  width: min-content;\n",
       "  min-width: 20ex;\n",
       "  max-width: 50ex;\n",
       "  color: var(--sklearn-color-text);\n",
       "  box-shadow: 2pt 2pt 4pt #999;\n",
       "  /* unfitted */\n",
       "  background: var(--sklearn-color-unfitted-level-0);\n",
       "  border: .5pt solid var(--sklearn-color-unfitted-level-3);\n",
       "}\n",
       "\n",
       ".sk-estimator-doc-link.fitted span {\n",
       "  /* fitted */\n",
       "  background: var(--sklearn-color-fitted-level-0);\n",
       "  border: var(--sklearn-color-fitted-level-3);\n",
       "}\n",
       "\n",
       ".sk-estimator-doc-link:hover span {\n",
       "  display: block;\n",
       "}\n",
       "\n",
       "/* \"?\"-specific style due to the `<a>` HTML tag */\n",
       "\n",
       "#sk-container-id-3 a.estimator_doc_link {\n",
       "  float: right;\n",
       "  font-size: 1rem;\n",
       "  line-height: 1em;\n",
       "  font-family: monospace;\n",
       "  background-color: var(--sklearn-color-background);\n",
       "  border-radius: 1rem;\n",
       "  height: 1rem;\n",
       "  width: 1rem;\n",
       "  text-decoration: none;\n",
       "  /* unfitted */\n",
       "  color: var(--sklearn-color-unfitted-level-1);\n",
       "  border: var(--sklearn-color-unfitted-level-1) 1pt solid;\n",
       "}\n",
       "\n",
       "#sk-container-id-3 a.estimator_doc_link.fitted {\n",
       "  /* fitted */\n",
       "  border: var(--sklearn-color-fitted-level-1) 1pt solid;\n",
       "  color: var(--sklearn-color-fitted-level-1);\n",
       "}\n",
       "\n",
       "/* On hover */\n",
       "#sk-container-id-3 a.estimator_doc_link:hover {\n",
       "  /* unfitted */\n",
       "  background-color: var(--sklearn-color-unfitted-level-3);\n",
       "  color: var(--sklearn-color-background);\n",
       "  text-decoration: none;\n",
       "}\n",
       "\n",
       "#sk-container-id-3 a.estimator_doc_link.fitted:hover {\n",
       "  /* fitted */\n",
       "  background-color: var(--sklearn-color-fitted-level-3);\n",
       "}\n",
       "</style><div id=\"sk-container-id-3\" class=\"sk-top-container\"><div class=\"sk-text-repr-fallback\"><pre>LinearRegression()</pre><b>In a Jupyter environment, please rerun this cell to show the HTML representation or trust the notebook. <br />On GitHub, the HTML representation is unable to render, please try loading this page with nbviewer.org.</b></div><div class=\"sk-container\" hidden><div class=\"sk-item\"><div class=\"sk-estimator fitted sk-toggleable\"><input class=\"sk-toggleable__control sk-hidden--visually\" id=\"sk-estimator-id-3\" type=\"checkbox\" checked><label for=\"sk-estimator-id-3\" class=\"sk-toggleable__label fitted sk-toggleable__label-arrow fitted\">&nbsp;&nbsp;LinearRegression<a class=\"sk-estimator-doc-link fitted\" rel=\"noreferrer\" target=\"_blank\" href=\"https://scikit-learn.org/1.5/modules/generated/sklearn.linear_model.LinearRegression.html\">?<span>Documentation for LinearRegression</span></a><span class=\"sk-estimator-doc-link fitted\">i<span>Fitted</span></span></label><div class=\"sk-toggleable__content fitted\"><pre>LinearRegression()</pre></div> </div></div></div></div>"
      ],
      "text/plain": [
       "LinearRegression()"
      ]
     },
     "execution_count": 86,
     "metadata": {},
     "output_type": "execute_result"
    }
   ],
   "source": [
    "model = LinearRegression()\n",
    "model.fit(features_train, target_train)"
   ]
  },
  {
   "cell_type": "markdown",
   "metadata": {},
   "source": [
    "### Floresta Aleatória\n"
   ]
  },
  {
   "cell_type": "markdown",
   "metadata": {},
   "source": [
    "#### Calibrando os hiperparâmetros"
   ]
  },
  {
   "cell_type": "code",
   "execution_count": 87,
   "metadata": {},
   "outputs": [],
   "source": [
    "rf_model = RandomForestRegressor()\n",
    "\n",
    "param_grid = {\n",
    "    'n_estimators': [5, 10, 15,20], \n",
    "    'max_depth': [1, 5, 10]\n",
    "}"
   ]
  },
  {
   "cell_type": "code",
   "execution_count": 88,
   "metadata": {},
   "outputs": [
    {
     "name": "stdout",
     "output_type": "stream",
     "text": [
      "Melhores hiperparâmetros:  {'max_depth': 10, 'n_estimators': 15}\n",
      "Melhor pontuação REQM :  34.11038067603553\n"
     ]
    }
   ],
   "source": [
    "from sklearn.model_selection import GridSearchCV\n",
    "\n",
    "df_1h = df_1h.dropna()\n",
    "df_1h.drop(['rolling_mean'], axis=1)\n",
    "X = df_1h.drop(['num_orders'], axis=1)\n",
    "y = df_1h['num_orders']\n",
    "\n",
    "rf_grid2 = GridSearchCV(rf_model, param_grid, cv=10, scoring='neg_mean_squared_error')\n",
    "rf_grid2.fit(X, y)\n",
    "\n",
    "print('Melhores hiperparâmetros: ', rf_grid2.best_params_)\n",
    "print('Melhor pontuação REQM : ', np.sqrt((-1)*rf_grid2.best_score_))"
   ]
  },
  {
   "cell_type": "markdown",
   "metadata": {},
   "source": [
    "#### Treinando o modelo "
   ]
  },
  {
   "cell_type": "code",
   "execution_count": 89,
   "metadata": {},
   "outputs": [
    {
     "data": {
      "text/html": [
       "<style>#sk-container-id-4 {\n",
       "  /* Definition of color scheme common for light and dark mode */\n",
       "  --sklearn-color-text: black;\n",
       "  --sklearn-color-line: gray;\n",
       "  /* Definition of color scheme for unfitted estimators */\n",
       "  --sklearn-color-unfitted-level-0: #fff5e6;\n",
       "  --sklearn-color-unfitted-level-1: #f6e4d2;\n",
       "  --sklearn-color-unfitted-level-2: #ffe0b3;\n",
       "  --sklearn-color-unfitted-level-3: chocolate;\n",
       "  /* Definition of color scheme for fitted estimators */\n",
       "  --sklearn-color-fitted-level-0: #f0f8ff;\n",
       "  --sklearn-color-fitted-level-1: #d4ebff;\n",
       "  --sklearn-color-fitted-level-2: #b3dbfd;\n",
       "  --sklearn-color-fitted-level-3: cornflowerblue;\n",
       "\n",
       "  /* Specific color for light theme */\n",
       "  --sklearn-color-text-on-default-background: var(--sg-text-color, var(--theme-code-foreground, var(--jp-content-font-color1, black)));\n",
       "  --sklearn-color-background: var(--sg-background-color, var(--theme-background, var(--jp-layout-color0, white)));\n",
       "  --sklearn-color-border-box: var(--sg-text-color, var(--theme-code-foreground, var(--jp-content-font-color1, black)));\n",
       "  --sklearn-color-icon: #696969;\n",
       "\n",
       "  @media (prefers-color-scheme: dark) {\n",
       "    /* Redefinition of color scheme for dark theme */\n",
       "    --sklearn-color-text-on-default-background: var(--sg-text-color, var(--theme-code-foreground, var(--jp-content-font-color1, white)));\n",
       "    --sklearn-color-background: var(--sg-background-color, var(--theme-background, var(--jp-layout-color0, #111)));\n",
       "    --sklearn-color-border-box: var(--sg-text-color, var(--theme-code-foreground, var(--jp-content-font-color1, white)));\n",
       "    --sklearn-color-icon: #878787;\n",
       "  }\n",
       "}\n",
       "\n",
       "#sk-container-id-4 {\n",
       "  color: var(--sklearn-color-text);\n",
       "}\n",
       "\n",
       "#sk-container-id-4 pre {\n",
       "  padding: 0;\n",
       "}\n",
       "\n",
       "#sk-container-id-4 input.sk-hidden--visually {\n",
       "  border: 0;\n",
       "  clip: rect(1px 1px 1px 1px);\n",
       "  clip: rect(1px, 1px, 1px, 1px);\n",
       "  height: 1px;\n",
       "  margin: -1px;\n",
       "  overflow: hidden;\n",
       "  padding: 0;\n",
       "  position: absolute;\n",
       "  width: 1px;\n",
       "}\n",
       "\n",
       "#sk-container-id-4 div.sk-dashed-wrapped {\n",
       "  border: 1px dashed var(--sklearn-color-line);\n",
       "  margin: 0 0.4em 0.5em 0.4em;\n",
       "  box-sizing: border-box;\n",
       "  padding-bottom: 0.4em;\n",
       "  background-color: var(--sklearn-color-background);\n",
       "}\n",
       "\n",
       "#sk-container-id-4 div.sk-container {\n",
       "  /* jupyter's `normalize.less` sets `[hidden] { display: none; }`\n",
       "     but bootstrap.min.css set `[hidden] { display: none !important; }`\n",
       "     so we also need the `!important` here to be able to override the\n",
       "     default hidden behavior on the sphinx rendered scikit-learn.org.\n",
       "     See: https://github.com/scikit-learn/scikit-learn/issues/21755 */\n",
       "  display: inline-block !important;\n",
       "  position: relative;\n",
       "}\n",
       "\n",
       "#sk-container-id-4 div.sk-text-repr-fallback {\n",
       "  display: none;\n",
       "}\n",
       "\n",
       "div.sk-parallel-item,\n",
       "div.sk-serial,\n",
       "div.sk-item {\n",
       "  /* draw centered vertical line to link estimators */\n",
       "  background-image: linear-gradient(var(--sklearn-color-text-on-default-background), var(--sklearn-color-text-on-default-background));\n",
       "  background-size: 2px 100%;\n",
       "  background-repeat: no-repeat;\n",
       "  background-position: center center;\n",
       "}\n",
       "\n",
       "/* Parallel-specific style estimator block */\n",
       "\n",
       "#sk-container-id-4 div.sk-parallel-item::after {\n",
       "  content: \"\";\n",
       "  width: 100%;\n",
       "  border-bottom: 2px solid var(--sklearn-color-text-on-default-background);\n",
       "  flex-grow: 1;\n",
       "}\n",
       "\n",
       "#sk-container-id-4 div.sk-parallel {\n",
       "  display: flex;\n",
       "  align-items: stretch;\n",
       "  justify-content: center;\n",
       "  background-color: var(--sklearn-color-background);\n",
       "  position: relative;\n",
       "}\n",
       "\n",
       "#sk-container-id-4 div.sk-parallel-item {\n",
       "  display: flex;\n",
       "  flex-direction: column;\n",
       "}\n",
       "\n",
       "#sk-container-id-4 div.sk-parallel-item:first-child::after {\n",
       "  align-self: flex-end;\n",
       "  width: 50%;\n",
       "}\n",
       "\n",
       "#sk-container-id-4 div.sk-parallel-item:last-child::after {\n",
       "  align-self: flex-start;\n",
       "  width: 50%;\n",
       "}\n",
       "\n",
       "#sk-container-id-4 div.sk-parallel-item:only-child::after {\n",
       "  width: 0;\n",
       "}\n",
       "\n",
       "/* Serial-specific style estimator block */\n",
       "\n",
       "#sk-container-id-4 div.sk-serial {\n",
       "  display: flex;\n",
       "  flex-direction: column;\n",
       "  align-items: center;\n",
       "  background-color: var(--sklearn-color-background);\n",
       "  padding-right: 1em;\n",
       "  padding-left: 1em;\n",
       "}\n",
       "\n",
       "\n",
       "/* Toggleable style: style used for estimator/Pipeline/ColumnTransformer box that is\n",
       "clickable and can be expanded/collapsed.\n",
       "- Pipeline and ColumnTransformer use this feature and define the default style\n",
       "- Estimators will overwrite some part of the style using the `sk-estimator` class\n",
       "*/\n",
       "\n",
       "/* Pipeline and ColumnTransformer style (default) */\n",
       "\n",
       "#sk-container-id-4 div.sk-toggleable {\n",
       "  /* Default theme specific background. It is overwritten whether we have a\n",
       "  specific estimator or a Pipeline/ColumnTransformer */\n",
       "  background-color: var(--sklearn-color-background);\n",
       "}\n",
       "\n",
       "/* Toggleable label */\n",
       "#sk-container-id-4 label.sk-toggleable__label {\n",
       "  cursor: pointer;\n",
       "  display: block;\n",
       "  width: 100%;\n",
       "  margin-bottom: 0;\n",
       "  padding: 0.5em;\n",
       "  box-sizing: border-box;\n",
       "  text-align: center;\n",
       "}\n",
       "\n",
       "#sk-container-id-4 label.sk-toggleable__label-arrow:before {\n",
       "  /* Arrow on the left of the label */\n",
       "  content: \"▸\";\n",
       "  float: left;\n",
       "  margin-right: 0.25em;\n",
       "  color: var(--sklearn-color-icon);\n",
       "}\n",
       "\n",
       "#sk-container-id-4 label.sk-toggleable__label-arrow:hover:before {\n",
       "  color: var(--sklearn-color-text);\n",
       "}\n",
       "\n",
       "/* Toggleable content - dropdown */\n",
       "\n",
       "#sk-container-id-4 div.sk-toggleable__content {\n",
       "  max-height: 0;\n",
       "  max-width: 0;\n",
       "  overflow: hidden;\n",
       "  text-align: left;\n",
       "  /* unfitted */\n",
       "  background-color: var(--sklearn-color-unfitted-level-0);\n",
       "}\n",
       "\n",
       "#sk-container-id-4 div.sk-toggleable__content.fitted {\n",
       "  /* fitted */\n",
       "  background-color: var(--sklearn-color-fitted-level-0);\n",
       "}\n",
       "\n",
       "#sk-container-id-4 div.sk-toggleable__content pre {\n",
       "  margin: 0.2em;\n",
       "  border-radius: 0.25em;\n",
       "  color: var(--sklearn-color-text);\n",
       "  /* unfitted */\n",
       "  background-color: var(--sklearn-color-unfitted-level-0);\n",
       "}\n",
       "\n",
       "#sk-container-id-4 div.sk-toggleable__content.fitted pre {\n",
       "  /* unfitted */\n",
       "  background-color: var(--sklearn-color-fitted-level-0);\n",
       "}\n",
       "\n",
       "#sk-container-id-4 input.sk-toggleable__control:checked~div.sk-toggleable__content {\n",
       "  /* Expand drop-down */\n",
       "  max-height: 200px;\n",
       "  max-width: 100%;\n",
       "  overflow: auto;\n",
       "}\n",
       "\n",
       "#sk-container-id-4 input.sk-toggleable__control:checked~label.sk-toggleable__label-arrow:before {\n",
       "  content: \"▾\";\n",
       "}\n",
       "\n",
       "/* Pipeline/ColumnTransformer-specific style */\n",
       "\n",
       "#sk-container-id-4 div.sk-label input.sk-toggleable__control:checked~label.sk-toggleable__label {\n",
       "  color: var(--sklearn-color-text);\n",
       "  background-color: var(--sklearn-color-unfitted-level-2);\n",
       "}\n",
       "\n",
       "#sk-container-id-4 div.sk-label.fitted input.sk-toggleable__control:checked~label.sk-toggleable__label {\n",
       "  background-color: var(--sklearn-color-fitted-level-2);\n",
       "}\n",
       "\n",
       "/* Estimator-specific style */\n",
       "\n",
       "/* Colorize estimator box */\n",
       "#sk-container-id-4 div.sk-estimator input.sk-toggleable__control:checked~label.sk-toggleable__label {\n",
       "  /* unfitted */\n",
       "  background-color: var(--sklearn-color-unfitted-level-2);\n",
       "}\n",
       "\n",
       "#sk-container-id-4 div.sk-estimator.fitted input.sk-toggleable__control:checked~label.sk-toggleable__label {\n",
       "  /* fitted */\n",
       "  background-color: var(--sklearn-color-fitted-level-2);\n",
       "}\n",
       "\n",
       "#sk-container-id-4 div.sk-label label.sk-toggleable__label,\n",
       "#sk-container-id-4 div.sk-label label {\n",
       "  /* The background is the default theme color */\n",
       "  color: var(--sklearn-color-text-on-default-background);\n",
       "}\n",
       "\n",
       "/* On hover, darken the color of the background */\n",
       "#sk-container-id-4 div.sk-label:hover label.sk-toggleable__label {\n",
       "  color: var(--sklearn-color-text);\n",
       "  background-color: var(--sklearn-color-unfitted-level-2);\n",
       "}\n",
       "\n",
       "/* Label box, darken color on hover, fitted */\n",
       "#sk-container-id-4 div.sk-label.fitted:hover label.sk-toggleable__label.fitted {\n",
       "  color: var(--sklearn-color-text);\n",
       "  background-color: var(--sklearn-color-fitted-level-2);\n",
       "}\n",
       "\n",
       "/* Estimator label */\n",
       "\n",
       "#sk-container-id-4 div.sk-label label {\n",
       "  font-family: monospace;\n",
       "  font-weight: bold;\n",
       "  display: inline-block;\n",
       "  line-height: 1.2em;\n",
       "}\n",
       "\n",
       "#sk-container-id-4 div.sk-label-container {\n",
       "  text-align: center;\n",
       "}\n",
       "\n",
       "/* Estimator-specific */\n",
       "#sk-container-id-4 div.sk-estimator {\n",
       "  font-family: monospace;\n",
       "  border: 1px dotted var(--sklearn-color-border-box);\n",
       "  border-radius: 0.25em;\n",
       "  box-sizing: border-box;\n",
       "  margin-bottom: 0.5em;\n",
       "  /* unfitted */\n",
       "  background-color: var(--sklearn-color-unfitted-level-0);\n",
       "}\n",
       "\n",
       "#sk-container-id-4 div.sk-estimator.fitted {\n",
       "  /* fitted */\n",
       "  background-color: var(--sklearn-color-fitted-level-0);\n",
       "}\n",
       "\n",
       "/* on hover */\n",
       "#sk-container-id-4 div.sk-estimator:hover {\n",
       "  /* unfitted */\n",
       "  background-color: var(--sklearn-color-unfitted-level-2);\n",
       "}\n",
       "\n",
       "#sk-container-id-4 div.sk-estimator.fitted:hover {\n",
       "  /* fitted */\n",
       "  background-color: var(--sklearn-color-fitted-level-2);\n",
       "}\n",
       "\n",
       "/* Specification for estimator info (e.g. \"i\" and \"?\") */\n",
       "\n",
       "/* Common style for \"i\" and \"?\" */\n",
       "\n",
       ".sk-estimator-doc-link,\n",
       "a:link.sk-estimator-doc-link,\n",
       "a:visited.sk-estimator-doc-link {\n",
       "  float: right;\n",
       "  font-size: smaller;\n",
       "  line-height: 1em;\n",
       "  font-family: monospace;\n",
       "  background-color: var(--sklearn-color-background);\n",
       "  border-radius: 1em;\n",
       "  height: 1em;\n",
       "  width: 1em;\n",
       "  text-decoration: none !important;\n",
       "  margin-left: 1ex;\n",
       "  /* unfitted */\n",
       "  border: var(--sklearn-color-unfitted-level-1) 1pt solid;\n",
       "  color: var(--sklearn-color-unfitted-level-1);\n",
       "}\n",
       "\n",
       ".sk-estimator-doc-link.fitted,\n",
       "a:link.sk-estimator-doc-link.fitted,\n",
       "a:visited.sk-estimator-doc-link.fitted {\n",
       "  /* fitted */\n",
       "  border: var(--sklearn-color-fitted-level-1) 1pt solid;\n",
       "  color: var(--sklearn-color-fitted-level-1);\n",
       "}\n",
       "\n",
       "/* On hover */\n",
       "div.sk-estimator:hover .sk-estimator-doc-link:hover,\n",
       ".sk-estimator-doc-link:hover,\n",
       "div.sk-label-container:hover .sk-estimator-doc-link:hover,\n",
       ".sk-estimator-doc-link:hover {\n",
       "  /* unfitted */\n",
       "  background-color: var(--sklearn-color-unfitted-level-3);\n",
       "  color: var(--sklearn-color-background);\n",
       "  text-decoration: none;\n",
       "}\n",
       "\n",
       "div.sk-estimator.fitted:hover .sk-estimator-doc-link.fitted:hover,\n",
       ".sk-estimator-doc-link.fitted:hover,\n",
       "div.sk-label-container:hover .sk-estimator-doc-link.fitted:hover,\n",
       ".sk-estimator-doc-link.fitted:hover {\n",
       "  /* fitted */\n",
       "  background-color: var(--sklearn-color-fitted-level-3);\n",
       "  color: var(--sklearn-color-background);\n",
       "  text-decoration: none;\n",
       "}\n",
       "\n",
       "/* Span, style for the box shown on hovering the info icon */\n",
       ".sk-estimator-doc-link span {\n",
       "  display: none;\n",
       "  z-index: 9999;\n",
       "  position: relative;\n",
       "  font-weight: normal;\n",
       "  right: .2ex;\n",
       "  padding: .5ex;\n",
       "  margin: .5ex;\n",
       "  width: min-content;\n",
       "  min-width: 20ex;\n",
       "  max-width: 50ex;\n",
       "  color: var(--sklearn-color-text);\n",
       "  box-shadow: 2pt 2pt 4pt #999;\n",
       "  /* unfitted */\n",
       "  background: var(--sklearn-color-unfitted-level-0);\n",
       "  border: .5pt solid var(--sklearn-color-unfitted-level-3);\n",
       "}\n",
       "\n",
       ".sk-estimator-doc-link.fitted span {\n",
       "  /* fitted */\n",
       "  background: var(--sklearn-color-fitted-level-0);\n",
       "  border: var(--sklearn-color-fitted-level-3);\n",
       "}\n",
       "\n",
       ".sk-estimator-doc-link:hover span {\n",
       "  display: block;\n",
       "}\n",
       "\n",
       "/* \"?\"-specific style due to the `<a>` HTML tag */\n",
       "\n",
       "#sk-container-id-4 a.estimator_doc_link {\n",
       "  float: right;\n",
       "  font-size: 1rem;\n",
       "  line-height: 1em;\n",
       "  font-family: monospace;\n",
       "  background-color: var(--sklearn-color-background);\n",
       "  border-radius: 1rem;\n",
       "  height: 1rem;\n",
       "  width: 1rem;\n",
       "  text-decoration: none;\n",
       "  /* unfitted */\n",
       "  color: var(--sklearn-color-unfitted-level-1);\n",
       "  border: var(--sklearn-color-unfitted-level-1) 1pt solid;\n",
       "}\n",
       "\n",
       "#sk-container-id-4 a.estimator_doc_link.fitted {\n",
       "  /* fitted */\n",
       "  border: var(--sklearn-color-fitted-level-1) 1pt solid;\n",
       "  color: var(--sklearn-color-fitted-level-1);\n",
       "}\n",
       "\n",
       "/* On hover */\n",
       "#sk-container-id-4 a.estimator_doc_link:hover {\n",
       "  /* unfitted */\n",
       "  background-color: var(--sklearn-color-unfitted-level-3);\n",
       "  color: var(--sklearn-color-background);\n",
       "  text-decoration: none;\n",
       "}\n",
       "\n",
       "#sk-container-id-4 a.estimator_doc_link.fitted:hover {\n",
       "  /* fitted */\n",
       "  background-color: var(--sklearn-color-fitted-level-3);\n",
       "}\n",
       "</style><div id=\"sk-container-id-4\" class=\"sk-top-container\"><div class=\"sk-text-repr-fallback\"><pre>RandomForestRegressor(max_depth=5, n_estimators=15)</pre><b>In a Jupyter environment, please rerun this cell to show the HTML representation or trust the notebook. <br />On GitHub, the HTML representation is unable to render, please try loading this page with nbviewer.org.</b></div><div class=\"sk-container\" hidden><div class=\"sk-item\"><div class=\"sk-estimator fitted sk-toggleable\"><input class=\"sk-toggleable__control sk-hidden--visually\" id=\"sk-estimator-id-4\" type=\"checkbox\" checked><label for=\"sk-estimator-id-4\" class=\"sk-toggleable__label fitted sk-toggleable__label-arrow fitted\">&nbsp;&nbsp;RandomForestRegressor<a class=\"sk-estimator-doc-link fitted\" rel=\"noreferrer\" target=\"_blank\" href=\"https://scikit-learn.org/1.5/modules/generated/sklearn.ensemble.RandomForestRegressor.html\">?<span>Documentation for RandomForestRegressor</span></a><span class=\"sk-estimator-doc-link fitted\">i<span>Fitted</span></span></label><div class=\"sk-toggleable__content fitted\"><pre>RandomForestRegressor(max_depth=5, n_estimators=15)</pre></div> </div></div></div></div>"
      ],
      "text/plain": [
       "RandomForestRegressor(max_depth=5, n_estimators=15)"
      ]
     },
     "execution_count": 89,
     "metadata": {},
     "output_type": "execute_result"
    }
   ],
   "source": [
    "rf_model = RandomForestRegressor(max_depth= 5, n_estimators= 15)\n",
    "\n",
    "rf_model.fit(X, y)"
   ]
  },
  {
   "cell_type": "markdown",
   "metadata": {},
   "source": [
    "## Testando"
   ]
  },
  {
   "cell_type": "markdown",
   "metadata": {},
   "source": [
    "###  Modelo de regressão linear\n"
   ]
  },
  {
   "cell_type": "code",
   "execution_count": 90,
   "metadata": {},
   "outputs": [
    {
     "name": "stdout",
     "output_type": "stream",
     "text": [
      "REQM para o conjunto de teste: 52.60663237167778\n"
     ]
    }
   ],
   "source": [
    "import numpy as np\n",
    "from sklearn.metrics import mean_squared_error\n",
    "pred_rl = model.predict(features_test)\n",
    "\n",
    "\n",
    "rla = np.sqrt(mean_squared_error(target_test, pred_rl))\n",
    "\n",
    "\n",
    "print('REQM para o conjunto de teste:', rla)"
   ]
  },
  {
   "cell_type": "markdown",
   "metadata": {},
   "source": [
    "### Modelo de Floresta Aleatória"
   ]
  },
  {
   "cell_type": "code",
   "execution_count": 91,
   "metadata": {},
   "outputs": [
    {
     "name": "stdout",
     "output_type": "stream",
     "text": [
      "REQM para o conjunto de teste: 31.735421875020094\n"
     ]
    }
   ],
   "source": [
    "from sklearn.model_selection import train_test_split\n",
    "X_train, X_test, y_train, y_test = train_test_split(X, y, test_size=0.2, random_state=42)\n",
    "\n",
    "rf3 = RandomForestRegressor(random_state=42)\n",
    "rf3.fit(X_train, y_train)\n",
    "pred_rf3 = rf3.predict(X_test)\n",
    "mfa = np.sqrt(mean_squared_error(y_test, pred_rf3))\n",
    "print('REQM para o conjunto de teste:', mfa)"
   ]
  },
  {
   "cell_type": "markdown",
   "metadata": {},
   "source": [
    "### Modelo Arima"
   ]
  },
  {
   "cell_type": "code",
   "execution_count": 92,
   "metadata": {},
   "outputs": [
    {
     "name": "stderr",
     "output_type": "stream",
     "text": [
      "c:\\Users\\prasd\\webScraping\\webScraping-1\\.conda\\Lib\\site-packages\\statsmodels\\tsa\\statespace\\sarimax.py:978: UserWarning: Non-invertible starting MA parameters found. Using zeros as starting parameters.\n",
      "  warn('Non-invertible starting MA parameters found.'\n",
      "c:\\Users\\prasd\\webScraping\\webScraping-1\\.conda\\Lib\\site-packages\\statsmodels\\base\\model.py:607: ConvergenceWarning: Maximum Likelihood optimization failed to converge. Check mle_retvals\n",
      "  warnings.warn(\"Maximum Likelihood optimization failed to \"\n",
      "c:\\Users\\prasd\\webScraping\\webScraping-1\\.conda\\Lib\\site-packages\\statsmodels\\base\\model.py:607: ConvergenceWarning: Maximum Likelihood optimization failed to converge. Check mle_retvals\n",
      "  warnings.warn(\"Maximum Likelihood optimization failed to \"\n",
      "c:\\Users\\prasd\\webScraping\\webScraping-1\\.conda\\Lib\\site-packages\\statsmodels\\base\\model.py:607: ConvergenceWarning: Maximum Likelihood optimization failed to converge. Check mle_retvals\n",
      "  warnings.warn(\"Maximum Likelihood optimization failed to \"\n",
      "c:\\Users\\prasd\\webScraping\\webScraping-1\\.conda\\Lib\\site-packages\\statsmodels\\tsa\\statespace\\sarimax.py:966: UserWarning: Non-stationary starting autoregressive parameters found. Using zeros as starting parameters.\n",
      "  warn('Non-stationary starting autoregressive parameters'\n",
      "c:\\Users\\prasd\\webScraping\\webScraping-1\\.conda\\Lib\\site-packages\\statsmodels\\base\\model.py:607: ConvergenceWarning: Maximum Likelihood optimization failed to converge. Check mle_retvals\n",
      "  warnings.warn(\"Maximum Likelihood optimization failed to \"\n",
      "c:\\Users\\prasd\\webScraping\\webScraping-1\\.conda\\Lib\\site-packages\\statsmodels\\base\\model.py:607: ConvergenceWarning: Maximum Likelihood optimization failed to converge. Check mle_retvals\n",
      "  warnings.warn(\"Maximum Likelihood optimization failed to \"\n",
      "c:\\Users\\prasd\\webScraping\\webScraping-1\\.conda\\Lib\\site-packages\\statsmodels\\base\\model.py:607: ConvergenceWarning: Maximum Likelihood optimization failed to converge. Check mle_retvals\n",
      "  warnings.warn(\"Maximum Likelihood optimization failed to \"\n",
      "c:\\Users\\prasd\\webScraping\\webScraping-1\\.conda\\Lib\\site-packages\\statsmodels\\base\\model.py:607: ConvergenceWarning: Maximum Likelihood optimization failed to converge. Check mle_retvals\n",
      "  warnings.warn(\"Maximum Likelihood optimization failed to \"\n",
      "c:\\Users\\prasd\\webScraping\\webScraping-1\\.conda\\Lib\\site-packages\\statsmodels\\base\\model.py:607: ConvergenceWarning: Maximum Likelihood optimization failed to converge. Check mle_retvals\n",
      "  warnings.warn(\"Maximum Likelihood optimization failed to \"\n",
      "c:\\Users\\prasd\\webScraping\\webScraping-1\\.conda\\Lib\\site-packages\\statsmodels\\base\\model.py:607: ConvergenceWarning: Maximum Likelihood optimization failed to converge. Check mle_retvals\n",
      "  warnings.warn(\"Maximum Likelihood optimization failed to \"\n",
      "c:\\Users\\prasd\\webScraping\\webScraping-1\\.conda\\Lib\\site-packages\\statsmodels\\base\\model.py:607: ConvergenceWarning: Maximum Likelihood optimization failed to converge. Check mle_retvals\n",
      "  warnings.warn(\"Maximum Likelihood optimization failed to \"\n",
      "c:\\Users\\prasd\\webScraping\\webScraping-1\\.conda\\Lib\\site-packages\\statsmodels\\base\\model.py:607: ConvergenceWarning: Maximum Likelihood optimization failed to converge. Check mle_retvals\n",
      "  warnings.warn(\"Maximum Likelihood optimization failed to \"\n",
      "c:\\Users\\prasd\\webScraping\\webScraping-1\\.conda\\Lib\\site-packages\\statsmodels\\base\\model.py:607: ConvergenceWarning: Maximum Likelihood optimization failed to converge. Check mle_retvals\n",
      "  warnings.warn(\"Maximum Likelihood optimization failed to \"\n",
      "c:\\Users\\prasd\\webScraping\\webScraping-1\\.conda\\Lib\\site-packages\\statsmodels\\base\\model.py:607: ConvergenceWarning: Maximum Likelihood optimization failed to converge. Check mle_retvals\n",
      "  warnings.warn(\"Maximum Likelihood optimization failed to \"\n",
      "c:\\Users\\prasd\\webScraping\\webScraping-1\\.conda\\Lib\\site-packages\\statsmodels\\base\\model.py:607: ConvergenceWarning: Maximum Likelihood optimization failed to converge. Check mle_retvals\n",
      "  warnings.warn(\"Maximum Likelihood optimization failed to \"\n",
      "c:\\Users\\prasd\\webScraping\\webScraping-1\\.conda\\Lib\\site-packages\\statsmodels\\base\\model.py:607: ConvergenceWarning: Maximum Likelihood optimization failed to converge. Check mle_retvals\n",
      "  warnings.warn(\"Maximum Likelihood optimization failed to \"\n",
      "c:\\Users\\prasd\\webScraping\\webScraping-1\\.conda\\Lib\\site-packages\\statsmodels\\base\\model.py:607: ConvergenceWarning: Maximum Likelihood optimization failed to converge. Check mle_retvals\n",
      "  warnings.warn(\"Maximum Likelihood optimization failed to \"\n",
      "c:\\Users\\prasd\\webScraping\\webScraping-1\\.conda\\Lib\\site-packages\\statsmodels\\base\\model.py:607: ConvergenceWarning: Maximum Likelihood optimization failed to converge. Check mle_retvals\n",
      "  warnings.warn(\"Maximum Likelihood optimization failed to \"\n",
      "c:\\Users\\prasd\\webScraping\\webScraping-1\\.conda\\Lib\\site-packages\\statsmodels\\base\\model.py:607: ConvergenceWarning: Maximum Likelihood optimization failed to converge. Check mle_retvals\n",
      "  warnings.warn(\"Maximum Likelihood optimization failed to \"\n",
      "c:\\Users\\prasd\\webScraping\\webScraping-1\\.conda\\Lib\\site-packages\\statsmodels\\base\\model.py:607: ConvergenceWarning: Maximum Likelihood optimization failed to converge. Check mle_retvals\n",
      "  warnings.warn(\"Maximum Likelihood optimization failed to \"\n",
      "c:\\Users\\prasd\\webScraping\\webScraping-1\\.conda\\Lib\\site-packages\\statsmodels\\base\\model.py:607: ConvergenceWarning: Maximum Likelihood optimization failed to converge. Check mle_retvals\n",
      "  warnings.warn(\"Maximum Likelihood optimization failed to \"\n",
      "c:\\Users\\prasd\\webScraping\\webScraping-1\\.conda\\Lib\\site-packages\\statsmodels\\base\\model.py:607: ConvergenceWarning: Maximum Likelihood optimization failed to converge. Check mle_retvals\n",
      "  warnings.warn(\"Maximum Likelihood optimization failed to \"\n",
      "c:\\Users\\prasd\\webScraping\\webScraping-1\\.conda\\Lib\\site-packages\\statsmodels\\base\\model.py:607: ConvergenceWarning: Maximum Likelihood optimization failed to converge. Check mle_retvals\n",
      "  warnings.warn(\"Maximum Likelihood optimization failed to \"\n",
      "c:\\Users\\prasd\\webScraping\\webScraping-1\\.conda\\Lib\\site-packages\\statsmodels\\base\\model.py:607: ConvergenceWarning: Maximum Likelihood optimization failed to converge. Check mle_retvals\n",
      "  warnings.warn(\"Maximum Likelihood optimization failed to \"\n",
      "c:\\Users\\prasd\\webScraping\\webScraping-1\\.conda\\Lib\\site-packages\\statsmodels\\base\\model.py:607: ConvergenceWarning: Maximum Likelihood optimization failed to converge. Check mle_retvals\n",
      "  warnings.warn(\"Maximum Likelihood optimization failed to \"\n",
      "c:\\Users\\prasd\\webScraping\\webScraping-1\\.conda\\Lib\\site-packages\\statsmodels\\base\\model.py:607: ConvergenceWarning: Maximum Likelihood optimization failed to converge. Check mle_retvals\n",
      "  warnings.warn(\"Maximum Likelihood optimization failed to \"\n",
      "c:\\Users\\prasd\\webScraping\\webScraping-1\\.conda\\Lib\\site-packages\\statsmodels\\base\\model.py:607: ConvergenceWarning: Maximum Likelihood optimization failed to converge. Check mle_retvals\n",
      "  warnings.warn(\"Maximum Likelihood optimization failed to \"\n",
      "c:\\Users\\prasd\\webScraping\\webScraping-1\\.conda\\Lib\\site-packages\\statsmodels\\base\\model.py:607: ConvergenceWarning: Maximum Likelihood optimization failed to converge. Check mle_retvals\n",
      "  warnings.warn(\"Maximum Likelihood optimization failed to \"\n",
      "c:\\Users\\prasd\\webScraping\\webScraping-1\\.conda\\Lib\\site-packages\\statsmodels\\base\\model.py:607: ConvergenceWarning: Maximum Likelihood optimization failed to converge. Check mle_retvals\n",
      "  warnings.warn(\"Maximum Likelihood optimization failed to \"\n",
      "c:\\Users\\prasd\\webScraping\\webScraping-1\\.conda\\Lib\\site-packages\\statsmodels\\base\\model.py:607: ConvergenceWarning: Maximum Likelihood optimization failed to converge. Check mle_retvals\n",
      "  warnings.warn(\"Maximum Likelihood optimization failed to \"\n",
      "c:\\Users\\prasd\\webScraping\\webScraping-1\\.conda\\Lib\\site-packages\\statsmodels\\base\\model.py:607: ConvergenceWarning: Maximum Likelihood optimization failed to converge. Check mle_retvals\n",
      "  warnings.warn(\"Maximum Likelihood optimization failed to \"\n",
      "c:\\Users\\prasd\\webScraping\\webScraping-1\\.conda\\Lib\\site-packages\\statsmodels\\base\\model.py:607: ConvergenceWarning: Maximum Likelihood optimization failed to converge. Check mle_retvals\n",
      "  warnings.warn(\"Maximum Likelihood optimization failed to \"\n",
      "c:\\Users\\prasd\\webScraping\\webScraping-1\\.conda\\Lib\\site-packages\\statsmodels\\base\\model.py:607: ConvergenceWarning: Maximum Likelihood optimization failed to converge. Check mle_retvals\n",
      "  warnings.warn(\"Maximum Likelihood optimization failed to \"\n",
      "c:\\Users\\prasd\\webScraping\\webScraping-1\\.conda\\Lib\\site-packages\\statsmodels\\base\\model.py:607: ConvergenceWarning: Maximum Likelihood optimization failed to converge. Check mle_retvals\n",
      "  warnings.warn(\"Maximum Likelihood optimization failed to \"\n",
      "c:\\Users\\prasd\\webScraping\\webScraping-1\\.conda\\Lib\\site-packages\\statsmodels\\base\\model.py:607: ConvergenceWarning: Maximum Likelihood optimization failed to converge. Check mle_retvals\n",
      "  warnings.warn(\"Maximum Likelihood optimization failed to \"\n",
      "c:\\Users\\prasd\\webScraping\\webScraping-1\\.conda\\Lib\\site-packages\\statsmodels\\base\\model.py:607: ConvergenceWarning: Maximum Likelihood optimization failed to converge. Check mle_retvals\n",
      "  warnings.warn(\"Maximum Likelihood optimization failed to \"\n",
      "c:\\Users\\prasd\\webScraping\\webScraping-1\\.conda\\Lib\\site-packages\\statsmodels\\base\\model.py:607: ConvergenceWarning: Maximum Likelihood optimization failed to converge. Check mle_retvals\n",
      "  warnings.warn(\"Maximum Likelihood optimization failed to \"\n",
      "c:\\Users\\prasd\\webScraping\\webScraping-1\\.conda\\Lib\\site-packages\\statsmodels\\base\\model.py:607: ConvergenceWarning: Maximum Likelihood optimization failed to converge. Check mle_retvals\n",
      "  warnings.warn(\"Maximum Likelihood optimization failed to \"\n",
      "c:\\Users\\prasd\\webScraping\\webScraping-1\\.conda\\Lib\\site-packages\\statsmodels\\base\\model.py:607: ConvergenceWarning: Maximum Likelihood optimization failed to converge. Check mle_retvals\n",
      "  warnings.warn(\"Maximum Likelihood optimization failed to \"\n",
      "c:\\Users\\prasd\\webScraping\\webScraping-1\\.conda\\Lib\\site-packages\\statsmodels\\base\\model.py:607: ConvergenceWarning: Maximum Likelihood optimization failed to converge. Check mle_retvals\n",
      "  warnings.warn(\"Maximum Likelihood optimization failed to \"\n",
      "c:\\Users\\prasd\\webScraping\\webScraping-1\\.conda\\Lib\\site-packages\\statsmodels\\base\\model.py:607: ConvergenceWarning: Maximum Likelihood optimization failed to converge. Check mle_retvals\n",
      "  warnings.warn(\"Maximum Likelihood optimization failed to \"\n",
      "c:\\Users\\prasd\\webScraping\\webScraping-1\\.conda\\Lib\\site-packages\\statsmodels\\base\\model.py:607: ConvergenceWarning: Maximum Likelihood optimization failed to converge. Check mle_retvals\n",
      "  warnings.warn(\"Maximum Likelihood optimization failed to \"\n",
      "c:\\Users\\prasd\\webScraping\\webScraping-1\\.conda\\Lib\\site-packages\\statsmodels\\base\\model.py:607: ConvergenceWarning: Maximum Likelihood optimization failed to converge. Check mle_retvals\n",
      "  warnings.warn(\"Maximum Likelihood optimization failed to \"\n",
      "c:\\Users\\prasd\\webScraping\\webScraping-1\\.conda\\Lib\\site-packages\\statsmodels\\base\\model.py:607: ConvergenceWarning: Maximum Likelihood optimization failed to converge. Check mle_retvals\n",
      "  warnings.warn(\"Maximum Likelihood optimization failed to \"\n",
      "c:\\Users\\prasd\\webScraping\\webScraping-1\\.conda\\Lib\\site-packages\\statsmodels\\base\\model.py:607: ConvergenceWarning: Maximum Likelihood optimization failed to converge. Check mle_retvals\n",
      "  warnings.warn(\"Maximum Likelihood optimization failed to \"\n",
      "c:\\Users\\prasd\\webScraping\\webScraping-1\\.conda\\Lib\\site-packages\\statsmodels\\base\\model.py:607: ConvergenceWarning: Maximum Likelihood optimization failed to converge. Check mle_retvals\n",
      "  warnings.warn(\"Maximum Likelihood optimization failed to \"\n",
      "c:\\Users\\prasd\\webScraping\\webScraping-1\\.conda\\Lib\\site-packages\\statsmodels\\base\\model.py:607: ConvergenceWarning: Maximum Likelihood optimization failed to converge. Check mle_retvals\n",
      "  warnings.warn(\"Maximum Likelihood optimization failed to \"\n",
      "c:\\Users\\prasd\\webScraping\\webScraping-1\\.conda\\Lib\\site-packages\\statsmodels\\base\\model.py:607: ConvergenceWarning: Maximum Likelihood optimization failed to converge. Check mle_retvals\n",
      "  warnings.warn(\"Maximum Likelihood optimization failed to \"\n",
      "c:\\Users\\prasd\\webScraping\\webScraping-1\\.conda\\Lib\\site-packages\\statsmodels\\base\\model.py:607: ConvergenceWarning: Maximum Likelihood optimization failed to converge. Check mle_retvals\n",
      "  warnings.warn(\"Maximum Likelihood optimization failed to \"\n",
      "c:\\Users\\prasd\\webScraping\\webScraping-1\\.conda\\Lib\\site-packages\\statsmodels\\base\\model.py:607: ConvergenceWarning: Maximum Likelihood optimization failed to converge. Check mle_retvals\n",
      "  warnings.warn(\"Maximum Likelihood optimization failed to \"\n",
      "c:\\Users\\prasd\\webScraping\\webScraping-1\\.conda\\Lib\\site-packages\\statsmodels\\base\\model.py:607: ConvergenceWarning: Maximum Likelihood optimization failed to converge. Check mle_retvals\n",
      "  warnings.warn(\"Maximum Likelihood optimization failed to \"\n",
      "c:\\Users\\prasd\\webScraping\\webScraping-1\\.conda\\Lib\\site-packages\\statsmodels\\base\\model.py:607: ConvergenceWarning: Maximum Likelihood optimization failed to converge. Check mle_retvals\n",
      "  warnings.warn(\"Maximum Likelihood optimization failed to \"\n",
      "c:\\Users\\prasd\\webScraping\\webScraping-1\\.conda\\Lib\\site-packages\\statsmodels\\base\\model.py:607: ConvergenceWarning: Maximum Likelihood optimization failed to converge. Check mle_retvals\n",
      "  warnings.warn(\"Maximum Likelihood optimization failed to \"\n",
      "c:\\Users\\prasd\\webScraping\\webScraping-1\\.conda\\Lib\\site-packages\\statsmodels\\base\\model.py:607: ConvergenceWarning: Maximum Likelihood optimization failed to converge. Check mle_retvals\n",
      "  warnings.warn(\"Maximum Likelihood optimization failed to \"\n",
      "c:\\Users\\prasd\\webScraping\\webScraping-1\\.conda\\Lib\\site-packages\\statsmodels\\base\\model.py:607: ConvergenceWarning: Maximum Likelihood optimization failed to converge. Check mle_retvals\n",
      "  warnings.warn(\"Maximum Likelihood optimization failed to \"\n",
      "c:\\Users\\prasd\\webScraping\\webScraping-1\\.conda\\Lib\\site-packages\\statsmodels\\base\\model.py:607: ConvergenceWarning: Maximum Likelihood optimization failed to converge. Check mle_retvals\n",
      "  warnings.warn(\"Maximum Likelihood optimization failed to \"\n",
      "c:\\Users\\prasd\\webScraping\\webScraping-1\\.conda\\Lib\\site-packages\\statsmodels\\base\\model.py:607: ConvergenceWarning: Maximum Likelihood optimization failed to converge. Check mle_retvals\n",
      "  warnings.warn(\"Maximum Likelihood optimization failed to \"\n",
      "c:\\Users\\prasd\\webScraping\\webScraping-1\\.conda\\Lib\\site-packages\\statsmodels\\base\\model.py:607: ConvergenceWarning: Maximum Likelihood optimization failed to converge. Check mle_retvals\n",
      "  warnings.warn(\"Maximum Likelihood optimization failed to \"\n",
      "c:\\Users\\prasd\\webScraping\\webScraping-1\\.conda\\Lib\\site-packages\\statsmodels\\base\\model.py:607: ConvergenceWarning: Maximum Likelihood optimization failed to converge. Check mle_retvals\n",
      "  warnings.warn(\"Maximum Likelihood optimization failed to \"\n",
      "c:\\Users\\prasd\\webScraping\\webScraping-1\\.conda\\Lib\\site-packages\\statsmodels\\base\\model.py:607: ConvergenceWarning: Maximum Likelihood optimization failed to converge. Check mle_retvals\n",
      "  warnings.warn(\"Maximum Likelihood optimization failed to \"\n",
      "c:\\Users\\prasd\\webScraping\\webScraping-1\\.conda\\Lib\\site-packages\\statsmodels\\base\\model.py:607: ConvergenceWarning: Maximum Likelihood optimization failed to converge. Check mle_retvals\n",
      "  warnings.warn(\"Maximum Likelihood optimization failed to \"\n",
      "c:\\Users\\prasd\\webScraping\\webScraping-1\\.conda\\Lib\\site-packages\\statsmodels\\base\\model.py:607: ConvergenceWarning: Maximum Likelihood optimization failed to converge. Check mle_retvals\n",
      "  warnings.warn(\"Maximum Likelihood optimization failed to \"\n",
      "c:\\Users\\prasd\\webScraping\\webScraping-1\\.conda\\Lib\\site-packages\\statsmodels\\base\\model.py:607: ConvergenceWarning: Maximum Likelihood optimization failed to converge. Check mle_retvals\n",
      "  warnings.warn(\"Maximum Likelihood optimization failed to \"\n",
      "c:\\Users\\prasd\\webScraping\\webScraping-1\\.conda\\Lib\\site-packages\\statsmodels\\base\\model.py:607: ConvergenceWarning: Maximum Likelihood optimization failed to converge. Check mle_retvals\n",
      "  warnings.warn(\"Maximum Likelihood optimization failed to \"\n",
      "c:\\Users\\prasd\\webScraping\\webScraping-1\\.conda\\Lib\\site-packages\\statsmodels\\base\\model.py:607: ConvergenceWarning: Maximum Likelihood optimization failed to converge. Check mle_retvals\n",
      "  warnings.warn(\"Maximum Likelihood optimization failed to \"\n",
      "c:\\Users\\prasd\\webScraping\\webScraping-1\\.conda\\Lib\\site-packages\\statsmodels\\base\\model.py:607: ConvergenceWarning: Maximum Likelihood optimization failed to converge. Check mle_retvals\n",
      "  warnings.warn(\"Maximum Likelihood optimization failed to \"\n",
      "c:\\Users\\prasd\\webScraping\\webScraping-1\\.conda\\Lib\\site-packages\\statsmodels\\base\\model.py:607: ConvergenceWarning: Maximum Likelihood optimization failed to converge. Check mle_retvals\n",
      "  warnings.warn(\"Maximum Likelihood optimization failed to \"\n",
      "c:\\Users\\prasd\\webScraping\\webScraping-1\\.conda\\Lib\\site-packages\\statsmodels\\base\\model.py:607: ConvergenceWarning: Maximum Likelihood optimization failed to converge. Check mle_retvals\n",
      "  warnings.warn(\"Maximum Likelihood optimization failed to \"\n",
      "c:\\Users\\prasd\\webScraping\\webScraping-1\\.conda\\Lib\\site-packages\\statsmodels\\base\\model.py:607: ConvergenceWarning: Maximum Likelihood optimization failed to converge. Check mle_retvals\n",
      "  warnings.warn(\"Maximum Likelihood optimization failed to \"\n",
      "c:\\Users\\prasd\\webScraping\\webScraping-1\\.conda\\Lib\\site-packages\\statsmodels\\base\\model.py:607: ConvergenceWarning: Maximum Likelihood optimization failed to converge. Check mle_retvals\n",
      "  warnings.warn(\"Maximum Likelihood optimization failed to \"\n",
      "c:\\Users\\prasd\\webScraping\\webScraping-1\\.conda\\Lib\\site-packages\\statsmodels\\base\\model.py:607: ConvergenceWarning: Maximum Likelihood optimization failed to converge. Check mle_retvals\n",
      "  warnings.warn(\"Maximum Likelihood optimization failed to \"\n",
      "c:\\Users\\prasd\\webScraping\\webScraping-1\\.conda\\Lib\\site-packages\\statsmodels\\base\\model.py:607: ConvergenceWarning: Maximum Likelihood optimization failed to converge. Check mle_retvals\n",
      "  warnings.warn(\"Maximum Likelihood optimization failed to \"\n",
      "c:\\Users\\prasd\\webScraping\\webScraping-1\\.conda\\Lib\\site-packages\\statsmodels\\base\\model.py:607: ConvergenceWarning: Maximum Likelihood optimization failed to converge. Check mle_retvals\n",
      "  warnings.warn(\"Maximum Likelihood optimization failed to \"\n",
      "c:\\Users\\prasd\\webScraping\\webScraping-1\\.conda\\Lib\\site-packages\\statsmodels\\base\\model.py:607: ConvergenceWarning: Maximum Likelihood optimization failed to converge. Check mle_retvals\n",
      "  warnings.warn(\"Maximum Likelihood optimization failed to \"\n",
      "c:\\Users\\prasd\\webScraping\\webScraping-1\\.conda\\Lib\\site-packages\\statsmodels\\base\\model.py:607: ConvergenceWarning: Maximum Likelihood optimization failed to converge. Check mle_retvals\n",
      "  warnings.warn(\"Maximum Likelihood optimization failed to \"\n",
      "c:\\Users\\prasd\\webScraping\\webScraping-1\\.conda\\Lib\\site-packages\\statsmodels\\base\\model.py:607: ConvergenceWarning: Maximum Likelihood optimization failed to converge. Check mle_retvals\n",
      "  warnings.warn(\"Maximum Likelihood optimization failed to \"\n",
      "c:\\Users\\prasd\\webScraping\\webScraping-1\\.conda\\Lib\\site-packages\\statsmodels\\base\\model.py:607: ConvergenceWarning: Maximum Likelihood optimization failed to converge. Check mle_retvals\n",
      "  warnings.warn(\"Maximum Likelihood optimization failed to \"\n",
      "c:\\Users\\prasd\\webScraping\\webScraping-1\\.conda\\Lib\\site-packages\\statsmodels\\base\\model.py:607: ConvergenceWarning: Maximum Likelihood optimization failed to converge. Check mle_retvals\n",
      "  warnings.warn(\"Maximum Likelihood optimization failed to \"\n",
      "c:\\Users\\prasd\\webScraping\\webScraping-1\\.conda\\Lib\\site-packages\\statsmodels\\base\\model.py:607: ConvergenceWarning: Maximum Likelihood optimization failed to converge. Check mle_retvals\n",
      "  warnings.warn(\"Maximum Likelihood optimization failed to \"\n",
      "c:\\Users\\prasd\\webScraping\\webScraping-1\\.conda\\Lib\\site-packages\\statsmodels\\base\\model.py:607: ConvergenceWarning: Maximum Likelihood optimization failed to converge. Check mle_retvals\n",
      "  warnings.warn(\"Maximum Likelihood optimization failed to \"\n",
      "c:\\Users\\prasd\\webScraping\\webScraping-1\\.conda\\Lib\\site-packages\\statsmodels\\base\\model.py:607: ConvergenceWarning: Maximum Likelihood optimization failed to converge. Check mle_retvals\n",
      "  warnings.warn(\"Maximum Likelihood optimization failed to \"\n",
      "c:\\Users\\prasd\\webScraping\\webScraping-1\\.conda\\Lib\\site-packages\\statsmodels\\base\\model.py:607: ConvergenceWarning: Maximum Likelihood optimization failed to converge. Check mle_retvals\n",
      "  warnings.warn(\"Maximum Likelihood optimization failed to \"\n",
      "c:\\Users\\prasd\\webScraping\\webScraping-1\\.conda\\Lib\\site-packages\\statsmodels\\base\\model.py:607: ConvergenceWarning: Maximum Likelihood optimization failed to converge. Check mle_retvals\n",
      "  warnings.warn(\"Maximum Likelihood optimization failed to \"\n"
     ]
    },
    {
     "name": "stdout",
     "output_type": "stream",
     "text": [
      "ARMA(p,q) = (10, 6) is the best.\n",
      "Order that minimizes AIC: (10, 6)\n",
      "Order that minimizes BIC: (10, 6)\n"
     ]
    }
   ],
   "source": [
    "import statsmodels.api as sm\n",
    "order_result = sm.tsa.arma_order_select_ic(\n",
    "    df_1h.num_orders.diff().dropna(),  # série temporal estacionária\n",
    "    max_ar=10,  # qual o valor máximo de p que ele irá buscar\n",
    "    max_ma=10,  # qual o valor máximo de q que ele irá buscar\n",
    "    ic=['aic', 'bic'],  # critérios a serem calculados durante a busca\n",
    "    trend='c'\n",
    ")\n",
    "print('ARMA(p,q) =', order_result['aic_min_order'], 'is the best.')\n",
    "\n",
    "print(\"Order that minimizes AIC:\", order_result.aic_min_order)\n",
    "print(\"Order that minimizes BIC:\", order_result.bic_min_order)\n"
   ]
  },
  {
   "cell_type": "code",
   "execution_count": 93,
   "metadata": {},
   "outputs": [
    {
     "name": "stderr",
     "output_type": "stream",
     "text": [
      "c:\\Users\\prasd\\webScraping\\webScraping-1\\.conda\\Lib\\site-packages\\statsmodels\\tsa\\statespace\\sarimax.py:966: UserWarning: Non-stationary starting autoregressive parameters found. Using zeros as starting parameters.\n",
      "  warn('Non-stationary starting autoregressive parameters'\n",
      "c:\\Users\\prasd\\webScraping\\webScraping-1\\.conda\\Lib\\site-packages\\statsmodels\\tsa\\statespace\\sarimax.py:978: UserWarning: Non-invertible starting MA parameters found. Using zeros as starting parameters.\n",
      "  warn('Non-invertible starting MA parameters found.'\n",
      "c:\\Users\\prasd\\webScraping\\webScraping-1\\.conda\\Lib\\site-packages\\statsmodels\\base\\model.py:607: ConvergenceWarning: Maximum Likelihood optimization failed to converge. Check mle_retvals\n",
      "  warnings.warn(\"Maximum Likelihood optimization failed to \"\n"
     ]
    },
    {
     "name": "stdout",
     "output_type": "stream",
     "text": [
      "                               SARIMAX Results                                \n",
      "==============================================================================\n",
      "Dep. Variable:             num_orders   No. Observations:                 4412\n",
      "Model:                ARIMA(10, 1, 6)   Log Likelihood              -21509.538\n",
      "Date:                Mon, 18 Nov 2024   AIC                          43053.076\n",
      "Time:                        23:31:11   BIC                          43161.738\n",
      "Sample:                    03-01-2018   HQIC                         43091.403\n",
      "                         - 08-31-2018                                         \n",
      "Covariance Type:                  opg                                         \n",
      "==============================================================================\n",
      "                 coef    std err          z      P>|z|      [0.025      0.975]\n",
      "------------------------------------------------------------------------------\n",
      "ar.L1         -0.7444      0.092     -8.050      0.000      -0.926      -0.563\n",
      "ar.L2         -0.2125      0.041     -5.169      0.000      -0.293      -0.132\n",
      "ar.L3         -0.4813      0.036    -13.501      0.000      -0.551      -0.411\n",
      "ar.L4         -0.8389      0.053    -15.968      0.000      -0.942      -0.736\n",
      "ar.L5         -0.2464      0.082     -3.015      0.003      -0.407      -0.086\n",
      "ar.L6          0.1770      0.041      4.282      0.000       0.096       0.258\n",
      "ar.L7         -0.1165      0.022     -5.304      0.000      -0.160      -0.073\n",
      "ar.L8         -0.1741      0.022     -7.931      0.000      -0.217      -0.131\n",
      "ar.L9         -0.1892      0.022     -8.446      0.000      -0.233      -0.145\n",
      "ar.L10        -0.1540      0.017     -8.913      0.000      -0.188      -0.120\n",
      "ma.L1          0.1467      0.092      1.595      0.111      -0.034       0.327\n",
      "ma.L2         -0.3347      0.054     -6.188      0.000      -0.441      -0.229\n",
      "ma.L3          0.1319      0.050      2.622      0.009       0.033       0.230\n",
      "ma.L4          0.2996      0.051      5.887      0.000       0.200       0.399\n",
      "ma.L5         -0.5432      0.058     -9.318      0.000      -0.657      -0.429\n",
      "ma.L6         -0.6289      0.092     -6.823      0.000      -0.810      -0.448\n",
      "sigma2      1089.2825     17.025     63.981      0.000    1055.914    1122.651\n",
      "===================================================================================\n",
      "Ljung-Box (L1) (Q):                   0.10   Jarque-Bera (JB):              3774.91\n",
      "Prob(Q):                              0.75   Prob(JB):                         0.00\n",
      "Heteroskedasticity (H):               2.41   Skew:                             1.03\n",
      "Prob(H) (two-sided):                  0.00   Kurtosis:                         7.03\n",
      "===================================================================================\n",
      "\n",
      "Warnings:\n",
      "[1] Covariance matrix calculated using the outer product of gradients (complex-step).\n"
     ]
    },
    {
     "data": {
      "image/png": "[encoded data removed]",
      "text/plain": [
       "<Figure size 640x480 with 4 Axes>"
      ]
     },
     "metadata": {},
     "output_type": "display_data"
    }
   ],
   "source": [
    "from statsmodels.tsa.arima.model import ARIMA\n",
    "decomposition = seasonal_decompose(df_1h.num_orders, model='additive')\n",
    "decomposition.plot()  \n",
    "model = ARIMA(df_1h.num_orders, order=(10, 1, 6))\n",
    "ar_model = model.fit()\n",
    "print(ar_model.summary())  \n"
   ]
  },
  {
   "cell_type": "code",
   "execution_count": 94,
   "metadata": {},
   "outputs": [
    {
     "name": "stdout",
     "output_type": "stream",
     "text": [
      "RMSE: 31.678053915075242\n"
     ]
    }
   ],
   "source": [
    "predictions = ar_model.predict(start=0, end=len(df_1h.num_orders)-1)\n",
    "rmse = np.sqrt(np.mean((df_1h.num_orders - predictions) ** 2))\n",
    "print(f'RMSE: {rmse}')"
   ]
  },
  {
   "cell_type": "code",
   "execution_count": 95,
   "metadata": {},
   "outputs": [
    {
     "name": "stdout",
     "output_type": "stream",
     "text": [
      "Arima RMSE 31.678053915075242\n",
      "Floresta aleatoria REQM 31.735421875020094\n",
      "Regressão linear 52.60663237167778\n"
     ]
    }
   ],
   "source": [
    "print('Arima RMSE',rmse)\n",
    "print('Floresta aleatoria REQM', mfa)\n",
    "print('Regressão linear', rla)\n"
   ]
  },
  {
   "cell_type": "markdown",
   "metadata": {},
   "source": [
    "## Conclusão"
   ]
  },
  {
   "cell_type": "markdown",
   "metadata": {},
   "source": [
    "Realizamos uma análise detalhada dos dados, identificando uma clara tendência de crescimento no número de pedidos de táxi no aeroporto ao longo do tempo. Em seguida, desenvolvemos dois modelos preditivos: Regressão Linear e Regressão com Floresta Aleatória. Ambos os modelos apresentaram um REQM inferior ao limite estipulado no exercício, que era 48. No entanto, como o modelo de Floresta Aleatória demonstrou melhor desempenho nessa tarefa, recomendo que adotemos este modelo para previsões futuras"
   ]
  }
 ],
 "metadata": {
  "ExecuteTimeLog": [
   {
    "duration": 156,
    "start_time": "2024-11-18T00:42:44.375Z"
   },
   {
    "duration": 2622,
    "start_time": "2024-11-18T00:42:56.741Z"
   },
   {
    "duration": 39,
    "start_time": "2024-11-18T00:43:03.971Z"
   },
   {
    "duration": 4,
    "start_time": "2024-11-18T00:43:17.430Z"
   },
   {
    "duration": 2,
    "start_time": "2024-11-18T00:43:36.150Z"
   },
   {
    "duration": 2,
    "start_time": "2024-11-18T00:44:21.287Z"
   },
   {
    "duration": 8,
    "start_time": "2024-11-18T00:44:27.275Z"
   },
   {
    "duration": 11,
    "start_time": "2024-11-18T00:45:00.951Z"
   },
   {
    "duration": 13,
    "start_time": "2024-11-18T00:45:05.060Z"
   },
   {
    "duration": 10,
    "start_time": "2024-11-18T00:45:12.625Z"
   },
   {
    "duration": 12,
    "start_time": "2024-11-18T00:45:18.342Z"
   },
   {
    "duration": 7,
    "start_time": "2024-11-18T00:47:13.720Z"
   },
   {
    "duration": 4,
    "start_time": "2024-11-18T00:47:18.631Z"
   },
   {
    "duration": 400,
    "start_time": "2024-11-18T00:48:49.963Z"
   },
   {
    "duration": 51,
    "start_time": "2024-11-18T00:50:50.319Z"
   },
   {
    "duration": 33,
    "start_time": "2024-11-18T00:51:04.988Z"
   },
   {
    "duration": 12,
    "start_time": "2024-11-18T00:53:34.039Z"
   },
   {
    "duration": 2,
    "start_time": "2024-11-18T00:54:03.610Z"
   },
   {
    "duration": 2,
    "start_time": "2024-11-18T00:54:07.023Z"
   },
   {
    "duration": 2,
    "start_time": "2024-11-18T00:54:11.051Z"
   },
   {
    "duration": 9,
    "start_time": "2024-11-18T00:54:19.647Z"
   },
   {
    "duration": 11,
    "start_time": "2024-11-18T00:54:25.641Z"
   },
   {
    "duration": 8,
    "start_time": "2024-11-18T00:54:49.241Z"
   },
   {
    "duration": 548,
    "start_time": "2024-11-18T00:55:11.386Z"
   },
   {
    "duration": 25,
    "start_time": "2024-11-18T00:58:05.721Z"
   },
   {
    "duration": 20,
    "start_time": "2024-11-18T00:59:29.491Z"
   },
   {
    "duration": 4,
    "start_time": "2024-11-18T01:00:39.500Z"
   },
   {
    "duration": 631,
    "start_time": "2024-11-18T01:02:16.473Z"
   },
   {
    "duration": 692,
    "start_time": "2024-11-18T01:04:24.972Z"
   },
   {
    "duration": 428,
    "start_time": "2024-11-18T01:05:31.547Z"
   },
   {
    "duration": 207,
    "start_time": "2024-11-18T01:06:05.229Z"
   },
   {
    "duration": 12,
    "start_time": "2024-11-18T01:06:56.362Z"
   },
   {
    "duration": 3,
    "start_time": "2024-11-18T01:06:58.332Z"
   },
   {
    "duration": 3,
    "start_time": "2024-11-18T01:07:10.733Z"
   },
   {
    "duration": 44,
    "start_time": "2024-11-18T01:07:12.712Z"
   },
   {
    "duration": 6,
    "start_time": "2024-11-18T01:07:34.613Z"
   },
   {
    "duration": 785,
    "start_time": "2024-11-18T01:07:55.780Z"
   },
   {
    "duration": 3,
    "start_time": "2024-11-18T01:08:48.859Z"
   },
   {
    "duration": 6,
    "start_time": "2024-11-18T01:08:50.986Z"
   },
   {
    "duration": 624,
    "start_time": "2024-11-18T01:08:52.569Z"
   },
   {
    "duration": 190,
    "start_time": "2024-11-18T01:10:43.658Z"
   },
   {
    "duration": 3,
    "start_time": "2024-11-18T01:11:43.419Z"
   },
   {
    "duration": 7,
    "start_time": "2024-11-18T01:12:11.244Z"
   },
   {
    "duration": 2,
    "start_time": "2024-11-18T01:14:10.229Z"
   },
   {
    "duration": 2,
    "start_time": "2024-11-18T01:14:18.875Z"
   },
   {
    "duration": 4,
    "start_time": "2024-11-18T01:14:30.840Z"
   },
   {
    "duration": 4,
    "start_time": "2024-11-18T01:14:39.986Z"
   },
   {
    "duration": 8,
    "start_time": "2024-11-18T01:15:06.332Z"
   },
   {
    "duration": 9,
    "start_time": "2024-11-18T01:15:40.989Z"
   },
   {
    "duration": 3,
    "start_time": "2024-11-18T01:16:35.489Z"
   },
   {
    "duration": 8061,
    "start_time": "2024-11-18T01:16:55.028Z"
   },
   {
    "duration": 5,
    "start_time": "2024-11-18T01:17:41.039Z"
   },
   {
    "duration": 2,
    "start_time": "2024-11-18T01:18:12.846Z"
   },
   {
    "duration": 2,
    "start_time": "2024-11-18T01:18:36.592Z"
   },
   {
    "duration": 6,
    "start_time": "2024-11-18T01:18:52.144Z"
   },
   {
    "duration": 88,
    "start_time": "2024-11-18T01:19:23.076Z"
   },
   {
    "duration": 10,
    "start_time": "2024-11-18T01:21:33.006Z"
   },
   {
    "duration": 6,
    "start_time": "2024-11-18T01:22:24.666Z"
   },
   {
    "duration": 673,
    "start_time": "2024-11-18T01:22:26.912Z"
   },
   {
    "duration": 6,
    "start_time": "2024-11-18T01:23:17.070Z"
   },
   {
    "duration": 326,
    "start_time": "2024-11-18T01:23:55.745Z"
   },
   {
    "duration": 142,
    "start_time": "2024-11-18T01:25:40.900Z"
   },
   {
    "duration": 144,
    "start_time": "2024-11-18T01:25:47.786Z"
   },
   {
    "duration": 188,
    "start_time": "2024-11-18T01:25:59.442Z"
   },
   {
    "duration": 143,
    "start_time": "2024-11-18T01:26:02.582Z"
   },
   {
    "duration": 190,
    "start_time": "2024-11-18T01:26:18.033Z"
   },
   {
    "duration": 2,
    "start_time": "2024-11-18T01:26:29.135Z"
   },
   {
    "duration": 3,
    "start_time": "2024-11-18T01:26:52.799Z"
   },
   {
    "duration": 23,
    "start_time": "2024-11-18T01:26:52.804Z"
   },
   {
    "duration": 7,
    "start_time": "2024-11-18T01:26:52.829Z"
   },
   {
    "duration": 11,
    "start_time": "2024-11-18T01:26:52.838Z"
   },
   {
    "duration": 5,
    "start_time": "2024-11-18T01:26:52.851Z"
   },
   {
    "duration": 9,
    "start_time": "2024-11-18T01:26:52.857Z"
   },
   {
    "duration": 11,
    "start_time": "2024-11-18T01:26:52.869Z"
   },
   {
    "duration": 3,
    "start_time": "2024-11-18T01:26:52.881Z"
   },
   {
    "duration": 5,
    "start_time": "2024-11-18T01:26:52.886Z"
   },
   {
    "duration": 691,
    "start_time": "2024-11-18T01:26:52.893Z"
   },
   {
    "duration": 197,
    "start_time": "2024-11-18T01:26:53.586Z"
   },
   {
    "duration": 2,
    "start_time": "2024-11-18T01:26:53.786Z"
   },
   {
    "duration": 146,
    "start_time": "2024-11-18T01:27:27.828Z"
   },
   {
    "duration": 318,
    "start_time": "2024-11-18T01:28:39.892Z"
   },
   {
    "duration": 146,
    "start_time": "2024-11-18T01:28:52.009Z"
   },
   {
    "duration": 145,
    "start_time": "2024-11-18T01:29:09.482Z"
   },
   {
    "duration": 4,
    "start_time": "2024-11-18T01:29:09.629Z"
   },
   {
    "duration": 7,
    "start_time": "2024-11-18T01:29:09.635Z"
   },
   {
    "duration": 4,
    "start_time": "2024-11-18T01:29:09.644Z"
   },
   {
    "duration": 21,
    "start_time": "2024-11-18T01:29:09.651Z"
   },
   {
    "duration": 7,
    "start_time": "2024-11-18T01:29:09.673Z"
   },
   {
    "duration": 3,
    "start_time": "2024-11-18T01:29:09.682Z"
   },
   {
    "duration": 8184,
    "start_time": "2024-11-18T01:29:09.686Z"
   },
   {
    "duration": 4,
    "start_time": "2024-11-18T01:29:17.872Z"
   },
   {
    "duration": 101,
    "start_time": "2024-11-18T01:29:17.878Z"
   },
   {
    "duration": 6,
    "start_time": "2024-11-18T01:30:09.628Z"
   },
   {
    "duration": 14,
    "start_time": "2024-11-18T01:30:27.557Z"
   },
   {
    "duration": 4,
    "start_time": "2024-11-18T01:30:34.785Z"
   },
   {
    "duration": 3,
    "start_time": "2024-11-18T01:30:38.492Z"
   },
   {
    "duration": 5,
    "start_time": "2024-11-18T01:30:44.432Z"
   },
   {
    "duration": 10,
    "start_time": "2024-11-18T01:31:03.077Z"
   },
   {
    "duration": 943,
    "start_time": "2024-11-18T01:31:40.485Z"
   },
   {
    "duration": 27,
    "start_time": "2024-11-18T01:31:41.430Z"
   },
   {
    "duration": 14,
    "start_time": "2024-11-18T01:31:41.458Z"
   },
   {
    "duration": 60,
    "start_time": "2024-11-18T01:31:41.474Z"
   },
   {
    "duration": 4,
    "start_time": "2024-11-18T01:31:41.538Z"
   },
   {
    "duration": 27,
    "start_time": "2024-11-18T01:31:41.544Z"
   },
   {
    "duration": 4,
    "start_time": "2024-11-18T01:31:41.572Z"
   },
   {
    "duration": 2,
    "start_time": "2024-11-18T01:31:41.578Z"
   },
   {
    "duration": 242,
    "start_time": "2024-11-18T01:31:41.581Z"
   },
   {
    "duration": 0,
    "start_time": "2024-11-18T01:31:41.825Z"
   },
   {
    "duration": 0,
    "start_time": "2024-11-18T01:31:41.826Z"
   },
   {
    "duration": 0,
    "start_time": "2024-11-18T01:31:41.826Z"
   },
   {
    "duration": 0,
    "start_time": "2024-11-18T01:31:41.828Z"
   },
   {
    "duration": 0,
    "start_time": "2024-11-18T01:31:41.829Z"
   },
   {
    "duration": 0,
    "start_time": "2024-11-18T01:31:41.830Z"
   },
   {
    "duration": 0,
    "start_time": "2024-11-18T01:31:41.831Z"
   },
   {
    "duration": 0,
    "start_time": "2024-11-18T01:31:41.832Z"
   },
   {
    "duration": 0,
    "start_time": "2024-11-18T01:31:41.833Z"
   },
   {
    "duration": 0,
    "start_time": "2024-11-18T01:31:41.835Z"
   },
   {
    "duration": 0,
    "start_time": "2024-11-18T01:31:41.835Z"
   },
   {
    "duration": 0,
    "start_time": "2024-11-18T01:31:41.838Z"
   },
   {
    "duration": 0,
    "start_time": "2024-11-18T01:31:41.839Z"
   },
   {
    "duration": 0,
    "start_time": "2024-11-18T01:31:41.840Z"
   },
   {
    "duration": 14,
    "start_time": "2024-11-18T01:32:02.826Z"
   },
   {
    "duration": 23,
    "start_time": "2024-11-18T01:32:32.651Z"
   },
   {
    "duration": 3,
    "start_time": "2024-11-18T01:32:38.346Z"
   },
   {
    "duration": 22,
    "start_time": "2024-11-18T01:32:39.063Z"
   },
   {
    "duration": 8,
    "start_time": "2024-11-18T01:32:40.299Z"
   },
   {
    "duration": 11,
    "start_time": "2024-11-18T01:32:42.591Z"
   },
   {
    "duration": 6,
    "start_time": "2024-11-18T01:32:44.982Z"
   },
   {
    "duration": 6,
    "start_time": "2024-11-18T01:32:46.339Z"
   },
   {
    "duration": 5,
    "start_time": "2024-11-18T01:32:47.090Z"
   },
   {
    "duration": 2,
    "start_time": "2024-11-18T01:32:49.455Z"
   },
   {
    "duration": 12,
    "start_time": "2024-11-18T01:32:50.733Z"
   },
   {
    "duration": 3,
    "start_time": "2024-11-18T01:33:07.614Z"
   },
   {
    "duration": 13,
    "start_time": "2024-11-18T01:33:13.199Z"
   },
   {
    "duration": 5,
    "start_time": "2024-11-18T01:33:19.393Z"
   },
   {
    "duration": 686,
    "start_time": "2024-11-18T01:33:21.756Z"
   },
   {
    "duration": 18,
    "start_time": "2024-11-18T01:33:31.918Z"
   },
   {
    "duration": 149,
    "start_time": "2024-11-18T01:33:44.411Z"
   },
   {
    "duration": 739,
    "start_time": "2024-11-18T01:34:36.381Z"
   },
   {
    "duration": 3,
    "start_time": "2024-11-18T01:34:41.475Z"
   },
   {
    "duration": 3,
    "start_time": "2024-11-18T01:34:45.063Z"
   },
   {
    "duration": 4,
    "start_time": "2024-11-18T01:34:49.350Z"
   },
   {
    "duration": 4,
    "start_time": "2024-11-18T01:34:56.178Z"
   },
   {
    "duration": 7,
    "start_time": "2024-11-18T01:35:04.270Z"
   },
   {
    "duration": 147,
    "start_time": "2024-11-18T01:35:25.631Z"
   },
   {
    "duration": 13,
    "start_time": "2024-11-18T01:35:42.268Z"
   },
   {
    "duration": 10,
    "start_time": "2024-11-18T01:35:52.456Z"
   },
   {
    "duration": 10,
    "start_time": "2024-11-18T01:36:05.791Z"
   },
   {
    "duration": 10,
    "start_time": "2024-11-18T01:36:06.056Z"
   },
   {
    "duration": 924,
    "start_time": "2024-11-18T01:36:24.794Z"
   },
   {
    "duration": 31,
    "start_time": "2024-11-18T01:36:25.721Z"
   },
   {
    "duration": 16,
    "start_time": "2024-11-18T01:36:25.754Z"
   },
   {
    "duration": 59,
    "start_time": "2024-11-18T01:36:25.772Z"
   },
   {
    "duration": 5,
    "start_time": "2024-11-18T01:36:25.833Z"
   },
   {
    "duration": 10,
    "start_time": "2024-11-18T01:36:25.840Z"
   },
   {
    "duration": 12,
    "start_time": "2024-11-18T01:36:25.870Z"
   },
   {
    "duration": 2,
    "start_time": "2024-11-18T01:36:25.883Z"
   },
   {
    "duration": 5,
    "start_time": "2024-11-18T01:36:25.887Z"
   },
   {
    "duration": 734,
    "start_time": "2024-11-18T01:36:25.896Z"
   },
   {
    "duration": 2,
    "start_time": "2024-11-18T01:36:26.632Z"
   },
   {
    "duration": 166,
    "start_time": "2024-11-18T01:36:26.636Z"
   },
   {
    "duration": 4,
    "start_time": "2024-11-18T01:36:26.804Z"
   },
   {
    "duration": 9,
    "start_time": "2024-11-18T01:36:26.810Z"
   },
   {
    "duration": 3,
    "start_time": "2024-11-18T01:36:26.821Z"
   },
   {
    "duration": 6,
    "start_time": "2024-11-18T01:36:26.826Z"
   },
   {
    "duration": 37,
    "start_time": "2024-11-18T01:36:26.834Z"
   },
   {
    "duration": 5,
    "start_time": "2024-11-18T01:36:26.873Z"
   },
   {
    "duration": 8130,
    "start_time": "2024-11-18T01:36:26.880Z"
   },
   {
    "duration": 5,
    "start_time": "2024-11-18T01:36:35.012Z"
   },
   {
    "duration": 100,
    "start_time": "2024-11-18T01:36:35.018Z"
   },
   {
    "duration": 3,
    "start_time": "2024-11-18T01:36:37.287Z"
   },
   {
    "duration": 21,
    "start_time": "2024-11-18T01:36:37.770Z"
   },
   {
    "duration": 8,
    "start_time": "2024-11-18T01:36:41.827Z"
   },
   {
    "duration": 13,
    "start_time": "2024-11-18T01:36:43.425Z"
   },
   {
    "duration": 5,
    "start_time": "2024-11-18T01:36:44.679Z"
   },
   {
    "duration": 9,
    "start_time": "2024-11-18T01:36:46.289Z"
   },
   {
    "duration": 12,
    "start_time": "2024-11-18T01:36:54.435Z"
   },
   {
    "duration": 3,
    "start_time": "2024-11-18T01:37:00.134Z"
   },
   {
    "duration": 6,
    "start_time": "2024-11-18T01:37:01.136Z"
   },
   {
    "duration": 729,
    "start_time": "2024-11-18T01:37:02.061Z"
   },
   {
    "duration": 2,
    "start_time": "2024-11-18T01:37:04.006Z"
   },
   {
    "duration": 152,
    "start_time": "2024-11-18T01:37:05.825Z"
   },
   {
    "duration": 3,
    "start_time": "2024-11-18T01:37:14.018Z"
   },
   {
    "duration": 8,
    "start_time": "2024-11-18T01:37:15.326Z"
   },
   {
    "duration": 4,
    "start_time": "2024-11-18T01:37:17.731Z"
   },
   {
    "duration": 7,
    "start_time": "2024-11-18T01:37:18.626Z"
   },
   {
    "duration": 10,
    "start_time": "2024-11-18T01:37:20.146Z"
   },
   {
    "duration": 3,
    "start_time": "2024-11-18T01:37:22.019Z"
   },
   {
    "duration": 8027,
    "start_time": "2024-11-18T01:37:22.339Z"
   },
   {
    "duration": 5,
    "start_time": "2024-11-18T01:37:30.371Z"
   },
   {
    "duration": 101,
    "start_time": "2024-11-18T01:37:30.378Z"
   },
   {
    "duration": 6,
    "start_time": "2024-11-18T01:39:10.383Z"
   },
   {
    "duration": 656,
    "start_time": "2024-11-18T01:39:12.420Z"
   },
   {
    "duration": 739,
    "start_time": "2024-11-18T01:40:51.262Z"
   },
   {
    "duration": 43,
    "start_time": "2024-11-18T01:41:03.053Z"
   },
   {
    "duration": 44,
    "start_time": "2024-11-18T01:41:29.931Z"
   },
   {
    "duration": 14,
    "start_time": "2024-11-18T01:42:01.825Z"
   },
   {
    "duration": 13,
    "start_time": "2024-11-18T01:42:45.215Z"
   },
   {
    "duration": 14,
    "start_time": "2024-11-18T01:43:27.356Z"
   },
   {
    "duration": 13,
    "start_time": "2024-11-18T01:44:13.234Z"
   },
   {
    "duration": 644,
    "start_time": "2024-11-18T01:44:25.640Z"
   },
   {
    "duration": 6,
    "start_time": "2024-11-18T01:45:04.254Z"
   },
   {
    "duration": 757,
    "start_time": "2024-11-18T01:45:28.776Z"
   },
   {
    "duration": 13,
    "start_time": "2024-11-18T01:46:19.756Z"
   },
   {
    "duration": 5,
    "start_time": "2024-11-18T01:47:13.966Z"
   },
   {
    "duration": 652,
    "start_time": "2024-11-18T01:47:16.052Z"
   },
   {
    "duration": 67,
    "start_time": "2024-11-18T01:48:06.617Z"
   },
   {
    "duration": 27,
    "start_time": "2024-11-18T01:48:29.571Z"
   },
   {
    "duration": 29,
    "start_time": "2024-11-18T01:48:30.317Z"
   },
   {
    "duration": 27,
    "start_time": "2024-11-18T01:48:30.839Z"
   },
   {
    "duration": 27,
    "start_time": "2024-11-18T01:48:31.183Z"
   },
   {
    "duration": 27,
    "start_time": "2024-11-18T01:48:31.435Z"
   },
   {
    "duration": 26,
    "start_time": "2024-11-18T01:48:32.463Z"
   },
   {
    "duration": 678,
    "start_time": "2024-11-18T01:48:37.384Z"
   },
   {
    "duration": 5,
    "start_time": "2024-11-18T01:50:25.888Z"
   },
   {
    "duration": 713,
    "start_time": "2024-11-18T01:50:28.459Z"
   },
   {
    "duration": 588,
    "start_time": "2024-11-18T01:50:45.290Z"
   },
   {
    "duration": 606,
    "start_time": "2024-11-18T01:51:19.913Z"
   },
   {
    "duration": 595,
    "start_time": "2024-11-18T01:51:37.681Z"
   },
   {
    "duration": 14,
    "start_time": "2024-11-18T01:52:12.104Z"
   },
   {
    "duration": 13,
    "start_time": "2024-11-18T01:52:24.242Z"
   },
   {
    "duration": 55,
    "start_time": "2024-11-18T01:53:24.783Z"
   },
   {
    "duration": 25,
    "start_time": "2024-11-18T01:53:37.902Z"
   },
   {
    "duration": 25,
    "start_time": "2024-11-18T01:53:46.446Z"
   },
   {
    "duration": 24,
    "start_time": "2024-11-18T01:54:42.278Z"
   },
   {
    "duration": 24,
    "start_time": "2024-11-18T01:54:43.439Z"
   },
   {
    "duration": 44,
    "start_time": "2024-11-18T01:55:29.366Z"
   },
   {
    "duration": 42,
    "start_time": "2024-11-18T01:55:53.087Z"
   },
   {
    "duration": 2,
    "start_time": "2024-11-18T01:56:48.625Z"
   },
   {
    "duration": 155,
    "start_time": "2024-11-18T01:56:56.066Z"
   },
   {
    "duration": 13,
    "start_time": "2024-11-18T01:57:16.241Z"
   },
   {
    "duration": 6,
    "start_time": "2024-11-18T01:57:25.055Z"
   },
   {
    "duration": 778,
    "start_time": "2024-11-18T01:57:27.573Z"
   },
   {
    "duration": 630,
    "start_time": "2024-11-18T01:57:38.062Z"
   },
   {
    "duration": 31,
    "start_time": "2024-11-18T01:57:50.586Z"
   },
   {
    "duration": 22,
    "start_time": "2024-11-18T01:57:58.878Z"
   },
   {
    "duration": 150,
    "start_time": "2024-11-18T01:58:13.162Z"
   },
   {
    "duration": 156,
    "start_time": "2024-11-18T01:58:22.526Z"
   },
   {
    "duration": 882,
    "start_time": "2024-11-18T01:58:50.850Z"
   },
   {
    "duration": 27,
    "start_time": "2024-11-18T01:58:51.734Z"
   },
   {
    "duration": 12,
    "start_time": "2024-11-18T01:58:51.762Z"
   },
   {
    "duration": 63,
    "start_time": "2024-11-18T01:58:51.776Z"
   },
   {
    "duration": 5,
    "start_time": "2024-11-18T01:58:51.840Z"
   },
   {
    "duration": 30,
    "start_time": "2024-11-18T01:58:51.847Z"
   },
   {
    "duration": 12,
    "start_time": "2024-11-18T01:58:51.879Z"
   },
   {
    "duration": 4,
    "start_time": "2024-11-18T01:58:51.892Z"
   },
   {
    "duration": 5,
    "start_time": "2024-11-18T01:58:51.897Z"
   },
   {
    "duration": 705,
    "start_time": "2024-11-18T01:58:51.905Z"
   },
   {
    "duration": 146,
    "start_time": "2024-11-18T01:58:52.612Z"
   },
   {
    "duration": 4,
    "start_time": "2024-11-18T01:58:52.759Z"
   },
   {
    "duration": 8,
    "start_time": "2024-11-18T01:58:52.764Z"
   },
   {
    "duration": 4,
    "start_time": "2024-11-18T01:58:52.774Z"
   },
   {
    "duration": 6,
    "start_time": "2024-11-18T01:58:52.780Z"
   },
   {
    "duration": 7,
    "start_time": "2024-11-18T01:58:52.788Z"
   },
   {
    "duration": 3,
    "start_time": "2024-11-18T01:58:52.797Z"
   },
   {
    "duration": 8032,
    "start_time": "2024-11-18T01:58:52.802Z"
   },
   {
    "duration": 5,
    "start_time": "2024-11-18T01:59:00.836Z"
   },
   {
    "duration": 99,
    "start_time": "2024-11-18T01:59:00.843Z"
   },
   {
    "duration": 3,
    "start_time": "2024-11-18T01:59:11.859Z"
   },
   {
    "duration": 156,
    "start_time": "2024-11-18T01:59:30.097Z"
   },
   {
    "duration": 153,
    "start_time": "2024-11-18T01:59:33.827Z"
   },
   {
    "duration": 874,
    "start_time": "2024-11-18T02:00:51.737Z"
   },
   {
    "duration": 26,
    "start_time": "2024-11-18T02:00:52.613Z"
   },
   {
    "duration": 8,
    "start_time": "2024-11-18T02:00:52.640Z"
   },
   {
    "duration": 74,
    "start_time": "2024-11-18T02:00:52.650Z"
   },
   {
    "duration": 5,
    "start_time": "2024-11-18T02:00:52.726Z"
   },
   {
    "duration": 10,
    "start_time": "2024-11-18T02:00:52.732Z"
   },
   {
    "duration": 27,
    "start_time": "2024-11-18T02:00:52.744Z"
   },
   {
    "duration": 3,
    "start_time": "2024-11-18T02:00:52.773Z"
   },
   {
    "duration": 6,
    "start_time": "2024-11-18T02:00:52.777Z"
   },
   {
    "duration": 729,
    "start_time": "2024-11-18T02:00:52.785Z"
   },
   {
    "duration": 146,
    "start_time": "2024-11-18T02:00:53.516Z"
   },
   {
    "duration": 149,
    "start_time": "2024-11-18T02:00:53.664Z"
   },
   {
    "duration": 4,
    "start_time": "2024-11-18T02:00:53.814Z"
   },
   {
    "duration": 7,
    "start_time": "2024-11-18T02:00:53.822Z"
   },
   {
    "duration": 4,
    "start_time": "2024-11-18T02:00:53.831Z"
   },
   {
    "duration": 7,
    "start_time": "2024-11-18T02:00:53.836Z"
   },
   {
    "duration": 29,
    "start_time": "2024-11-18T02:00:53.844Z"
   },
   {
    "duration": 2,
    "start_time": "2024-11-18T02:00:53.875Z"
   },
   {
    "duration": 8153,
    "start_time": "2024-11-18T02:00:53.879Z"
   },
   {
    "duration": 5,
    "start_time": "2024-11-18T02:01:02.034Z"
   },
   {
    "duration": 100,
    "start_time": "2024-11-18T02:01:02.040Z"
   },
   {
    "duration": 529,
    "start_time": "2024-11-18T02:02:24.562Z"
   },
   {
    "duration": 37,
    "start_time": "2024-11-18T02:03:06.164Z"
   },
   {
    "duration": 36,
    "start_time": "2024-11-18T02:03:37.361Z"
   },
   {
    "duration": 111,
    "start_time": "2024-11-18T02:03:42.169Z"
   },
   {
    "duration": 36,
    "start_time": "2024-11-18T02:03:53.023Z"
   },
   {
    "duration": 37,
    "start_time": "2024-11-18T02:04:12.871Z"
   },
   {
    "duration": 450,
    "start_time": "2024-11-18T02:04:41.156Z"
   },
   {
    "duration": 903,
    "start_time": "2024-11-18T02:04:56.166Z"
   },
   {
    "duration": 28,
    "start_time": "2024-11-18T02:04:57.071Z"
   },
   {
    "duration": 8,
    "start_time": "2024-11-18T02:04:57.101Z"
   },
   {
    "duration": 77,
    "start_time": "2024-11-18T02:04:57.110Z"
   },
   {
    "duration": 5,
    "start_time": "2024-11-18T02:04:57.190Z"
   },
   {
    "duration": 11,
    "start_time": "2024-11-18T02:04:57.196Z"
   },
   {
    "duration": 11,
    "start_time": "2024-11-18T02:04:57.209Z"
   },
   {
    "duration": 3,
    "start_time": "2024-11-18T02:04:57.222Z"
   },
   {
    "duration": 6,
    "start_time": "2024-11-18T02:04:57.227Z"
   },
   {
    "duration": 746,
    "start_time": "2024-11-18T02:04:57.236Z"
   },
   {
    "duration": 146,
    "start_time": "2024-11-18T02:04:57.984Z"
   },
   {
    "duration": 295,
    "start_time": "2024-11-18T02:04:58.132Z"
   },
   {
    "duration": 4,
    "start_time": "2024-11-18T02:04:58.429Z"
   },
   {
    "duration": 8,
    "start_time": "2024-11-18T02:04:58.437Z"
   },
   {
    "duration": 24,
    "start_time": "2024-11-18T02:04:58.446Z"
   },
   {
    "duration": 7,
    "start_time": "2024-11-18T02:04:58.471Z"
   },
   {
    "duration": 6,
    "start_time": "2024-11-18T02:04:58.479Z"
   },
   {
    "duration": 3,
    "start_time": "2024-11-18T02:04:58.487Z"
   },
   {
    "duration": 8100,
    "start_time": "2024-11-18T02:04:58.491Z"
   },
   {
    "duration": 5,
    "start_time": "2024-11-18T02:05:06.593Z"
   },
   {
    "duration": 103,
    "start_time": "2024-11-18T02:05:06.600Z"
   },
   {
    "duration": 634,
    "start_time": "2024-11-18T02:05:22.612Z"
   },
   {
    "duration": 159,
    "start_time": "2024-11-18T02:05:40.030Z"
   },
   {
    "duration": 489,
    "start_time": "2024-11-18T02:05:44.231Z"
   },
   {
    "duration": 166,
    "start_time": "2024-11-18T02:05:54.329Z"
   },
   {
    "duration": 455,
    "start_time": "2024-11-18T02:05:54.497Z"
   },
   {
    "duration": 5,
    "start_time": "2024-11-18T02:05:54.954Z"
   },
   {
    "duration": 5,
    "start_time": "2024-11-18T02:05:54.969Z"
   },
   {
    "duration": 3,
    "start_time": "2024-11-18T02:05:54.977Z"
   },
   {
    "duration": 6,
    "start_time": "2024-11-18T02:05:54.981Z"
   },
   {
    "duration": 6,
    "start_time": "2024-11-18T02:05:54.989Z"
   },
   {
    "duration": 3,
    "start_time": "2024-11-18T02:05:54.997Z"
   },
   {
    "duration": 914,
    "start_time": "2024-11-18T02:06:04.706Z"
   },
   {
    "duration": 27,
    "start_time": "2024-11-18T02:06:05.622Z"
   },
   {
    "duration": 8,
    "start_time": "2024-11-18T02:06:05.651Z"
   },
   {
    "duration": 59,
    "start_time": "2024-11-18T02:06:05.671Z"
   },
   {
    "duration": 5,
    "start_time": "2024-11-18T02:06:05.732Z"
   },
   {
    "duration": 11,
    "start_time": "2024-11-18T02:06:05.738Z"
   },
   {
    "duration": 12,
    "start_time": "2024-11-18T02:06:05.770Z"
   },
   {
    "duration": 4,
    "start_time": "2024-11-18T02:06:05.783Z"
   },
   {
    "duration": 6,
    "start_time": "2024-11-18T02:06:05.788Z"
   },
   {
    "duration": 731,
    "start_time": "2024-11-18T02:06:05.795Z"
   },
   {
    "duration": 163,
    "start_time": "2024-11-18T02:06:06.528Z"
   },
   {
    "duration": 317,
    "start_time": "2024-11-18T02:06:06.693Z"
   },
   {
    "duration": 4,
    "start_time": "2024-11-18T02:06:07.012Z"
   },
   {
    "duration": 7,
    "start_time": "2024-11-18T02:06:07.019Z"
   },
   {
    "duration": 4,
    "start_time": "2024-11-18T02:06:07.028Z"
   },
   {
    "duration": 6,
    "start_time": "2024-11-18T02:06:07.034Z"
   },
   {
    "duration": 30,
    "start_time": "2024-11-18T02:06:07.042Z"
   },
   {
    "duration": 2,
    "start_time": "2024-11-18T02:06:07.074Z"
   },
   {
    "duration": 8036,
    "start_time": "2024-11-18T02:06:07.078Z"
   },
   {
    "duration": 5,
    "start_time": "2024-11-18T02:06:15.115Z"
   },
   {
    "duration": 100,
    "start_time": "2024-11-18T02:06:15.121Z"
   },
   {
    "duration": 344,
    "start_time": "2024-11-18T02:07:10.707Z"
   },
   {
    "duration": 5,
    "start_time": "2024-11-18T02:07:36.674Z"
   },
   {
    "duration": 447,
    "start_time": "2024-11-18T02:08:00.413Z"
   },
   {
    "duration": 878,
    "start_time": "2024-11-18T02:08:08.842Z"
   },
   {
    "duration": 26,
    "start_time": "2024-11-18T02:08:09.722Z"
   },
   {
    "duration": 8,
    "start_time": "2024-11-18T02:08:09.750Z"
   },
   {
    "duration": 58,
    "start_time": "2024-11-18T02:08:09.770Z"
   },
   {
    "duration": 5,
    "start_time": "2024-11-18T02:08:09.829Z"
   },
   {
    "duration": 9,
    "start_time": "2024-11-18T02:08:09.836Z"
   },
   {
    "duration": 31,
    "start_time": "2024-11-18T02:08:09.847Z"
   },
   {
    "duration": 3,
    "start_time": "2024-11-18T02:08:09.879Z"
   },
   {
    "duration": 5,
    "start_time": "2024-11-18T02:08:09.884Z"
   },
   {
    "duration": 718,
    "start_time": "2024-11-18T02:08:09.892Z"
   },
   {
    "duration": 145,
    "start_time": "2024-11-18T02:08:10.612Z"
   },
   {
    "duration": 334,
    "start_time": "2024-11-18T02:08:10.758Z"
   },
   {
    "duration": 3,
    "start_time": "2024-11-18T02:08:11.094Z"
   },
   {
    "duration": 8,
    "start_time": "2024-11-18T02:08:11.099Z"
   },
   {
    "duration": 4,
    "start_time": "2024-11-18T02:08:11.108Z"
   },
   {
    "duration": 5,
    "start_time": "2024-11-18T02:08:11.114Z"
   },
   {
    "duration": 7,
    "start_time": "2024-11-18T02:08:11.121Z"
   },
   {
    "duration": 2,
    "start_time": "2024-11-18T02:08:11.130Z"
   },
   {
    "duration": 8113,
    "start_time": "2024-11-18T02:08:11.170Z"
   },
   {
    "duration": 5,
    "start_time": "2024-11-18T02:08:19.285Z"
   },
   {
    "duration": 99,
    "start_time": "2024-11-18T02:08:19.292Z"
   },
   {
    "duration": 441,
    "start_time": "2024-11-18T02:09:19.489Z"
   },
   {
    "duration": 941,
    "start_time": "2024-11-18T02:09:28.690Z"
   },
   {
    "duration": 26,
    "start_time": "2024-11-18T02:09:29.634Z"
   },
   {
    "duration": 15,
    "start_time": "2024-11-18T02:09:29.661Z"
   },
   {
    "duration": 59,
    "start_time": "2024-11-18T02:09:29.677Z"
   },
   {
    "duration": 5,
    "start_time": "2024-11-18T02:09:29.738Z"
   },
   {
    "duration": 30,
    "start_time": "2024-11-18T02:09:29.745Z"
   },
   {
    "duration": 11,
    "start_time": "2024-11-18T02:09:29.777Z"
   },
   {
    "duration": 2,
    "start_time": "2024-11-18T02:09:29.790Z"
   },
   {
    "duration": 4,
    "start_time": "2024-11-18T02:09:29.794Z"
   },
   {
    "duration": 702,
    "start_time": "2024-11-18T02:09:29.800Z"
   },
   {
    "duration": 146,
    "start_time": "2024-11-18T02:09:30.504Z"
   },
   {
    "duration": 331,
    "start_time": "2024-11-18T02:09:30.653Z"
   },
   {
    "duration": 5,
    "start_time": "2024-11-18T02:09:30.986Z"
   },
   {
    "duration": 7,
    "start_time": "2024-11-18T02:09:30.995Z"
   },
   {
    "duration": 4,
    "start_time": "2024-11-18T02:09:31.003Z"
   },
   {
    "duration": 6,
    "start_time": "2024-11-18T02:09:31.008Z"
   },
   {
    "duration": 6,
    "start_time": "2024-11-18T02:09:31.016Z"
   },
   {
    "duration": 7,
    "start_time": "2024-11-18T02:09:31.024Z"
   },
   {
    "duration": 7994,
    "start_time": "2024-11-18T02:09:31.069Z"
   },
   {
    "duration": 5,
    "start_time": "2024-11-18T02:09:39.069Z"
   },
   {
    "duration": 96,
    "start_time": "2024-11-18T02:09:39.075Z"
   },
   {
    "duration": 466,
    "start_time": "2024-11-18T02:10:10.330Z"
   },
   {
    "duration": 890,
    "start_time": "2024-11-18T02:10:19.635Z"
   },
   {
    "duration": 25,
    "start_time": "2024-11-18T02:10:20.527Z"
   },
   {
    "duration": 16,
    "start_time": "2024-11-18T02:10:20.554Z"
   },
   {
    "duration": 56,
    "start_time": "2024-11-18T02:10:20.572Z"
   },
   {
    "duration": 5,
    "start_time": "2024-11-18T02:10:20.630Z"
   },
   {
    "duration": 11,
    "start_time": "2024-11-18T02:10:20.636Z"
   },
   {
    "duration": 31,
    "start_time": "2024-11-18T02:10:20.648Z"
   },
   {
    "duration": 3,
    "start_time": "2024-11-18T02:10:20.681Z"
   },
   {
    "duration": 5,
    "start_time": "2024-11-18T02:10:20.686Z"
   },
   {
    "duration": 728,
    "start_time": "2024-11-18T02:10:20.694Z"
   },
   {
    "duration": 146,
    "start_time": "2024-11-18T02:10:21.424Z"
   },
   {
    "duration": 321,
    "start_time": "2024-11-18T02:10:21.573Z"
   },
   {
    "duration": 3,
    "start_time": "2024-11-18T02:10:21.896Z"
   },
   {
    "duration": 8,
    "start_time": "2024-11-18T02:10:21.901Z"
   },
   {
    "duration": 4,
    "start_time": "2024-11-18T02:10:21.911Z"
   },
   {
    "duration": 5,
    "start_time": "2024-11-18T02:10:21.917Z"
   },
   {
    "duration": 6,
    "start_time": "2024-11-18T02:10:21.924Z"
   },
   {
    "duration": 39,
    "start_time": "2024-11-18T02:10:21.931Z"
   },
   {
    "duration": 8154,
    "start_time": "2024-11-18T02:10:21.972Z"
   },
   {
    "duration": 5,
    "start_time": "2024-11-18T02:10:30.128Z"
   },
   {
    "duration": 99,
    "start_time": "2024-11-18T02:10:30.135Z"
   },
   {
    "duration": 3,
    "start_time": "2024-11-18T02:18:27.785Z"
   },
   {
    "duration": 411,
    "start_time": "2024-11-18T02:18:50.745Z"
   },
   {
    "duration": 1038,
    "start_time": "2024-11-18T02:19:16.089Z"
   },
   {
    "duration": 627,
    "start_time": "2024-11-18T02:20:15.513Z"
   },
   {
    "duration": 368,
    "start_time": "2024-11-18T02:24:47.547Z"
   },
   {
    "duration": 300,
    "start_time": "2024-11-18T02:24:52.258Z"
   },
   {
    "duration": 1572,
    "start_time": "2024-11-18T02:25:15.946Z"
   },
   {
    "duration": 1298,
    "start_time": "2024-11-18T02:25:39.274Z"
   },
   {
    "duration": 1285,
    "start_time": "2024-11-18T02:25:58.378Z"
   },
   {
    "duration": 1268,
    "start_time": "2024-11-18T02:27:05.068Z"
   },
   {
    "duration": 1217,
    "start_time": "2024-11-18T02:27:16.027Z"
   },
   {
    "duration": 1225,
    "start_time": "2024-11-18T02:27:45.451Z"
   },
   {
    "duration": 14,
    "start_time": "2024-11-18T02:28:06.154Z"
   },
   {
    "duration": 2049,
    "start_time": "2024-11-18T02:29:33.373Z"
   },
   {
    "duration": 1869,
    "start_time": "2024-11-18T02:29:41.517Z"
   },
   {
    "duration": 1812,
    "start_time": "2024-11-18T02:31:00.507Z"
   },
   {
    "duration": 22,
    "start_time": "2024-11-18T02:31:28.699Z"
   },
   {
    "duration": 128,
    "start_time": "2024-11-18T02:32:08.682Z"
   },
   {
    "duration": 6819,
    "start_time": "2024-11-18T02:33:01.263Z"
   },
   {
    "duration": 3,
    "start_time": "2024-11-18T02:34:03.915Z"
   },
   {
    "duration": 6144,
    "start_time": "2024-11-18T02:34:34.334Z"
   },
   {
    "duration": 5990,
    "start_time": "2024-11-18T02:35:53.102Z"
   },
   {
    "duration": 5,
    "start_time": "2024-11-18T02:40:54.226Z"
   },
   {
    "duration": 3,
    "start_time": "2024-11-18T02:41:32.909Z"
   },
   {
    "duration": 4,
    "start_time": "2024-11-18T02:43:12.719Z"
   },
   {
    "duration": 4,
    "start_time": "2024-11-18T02:44:39.900Z"
   },
   {
    "duration": 4,
    "start_time": "2024-11-18T02:44:52.159Z"
   },
   {
    "duration": 5,
    "start_time": "2024-11-18T02:46:57.575Z"
   },
   {
    "duration": 5978,
    "start_time": "2024-11-18T03:12:31.299Z"
   },
   {
    "duration": 4,
    "start_time": "2024-11-18T03:12:45.780Z"
   },
   {
    "duration": 912,
    "start_time": "2024-11-18T03:13:20.214Z"
   },
   {
    "duration": 27,
    "start_time": "2024-11-18T03:13:21.128Z"
   },
   {
    "duration": 13,
    "start_time": "2024-11-18T03:13:21.157Z"
   },
   {
    "duration": 58,
    "start_time": "2024-11-18T03:13:21.173Z"
   },
   {
    "duration": 5,
    "start_time": "2024-11-18T03:13:21.233Z"
   },
   {
    "duration": 11,
    "start_time": "2024-11-18T03:13:21.239Z"
   },
   {
    "duration": 12,
    "start_time": "2024-11-18T03:13:21.271Z"
   },
   {
    "duration": 3,
    "start_time": "2024-11-18T03:13:21.284Z"
   },
   {
    "duration": 434,
    "start_time": "2024-11-18T03:13:21.289Z"
   },
   {
    "duration": 1806,
    "start_time": "2024-11-18T03:13:21.726Z"
   },
   {
    "duration": 6651,
    "start_time": "2024-11-18T03:13:23.534Z"
   },
   {
    "duration": 4,
    "start_time": "2024-11-18T03:13:30.187Z"
   },
   {
    "duration": 7,
    "start_time": "2024-11-18T03:13:30.270Z"
   },
   {
    "duration": 592,
    "start_time": "2024-11-18T03:13:30.278Z"
   },
   {
    "duration": 146,
    "start_time": "2024-11-18T03:13:30.872Z"
   },
   {
    "duration": 381,
    "start_time": "2024-11-18T03:13:31.020Z"
   },
   {
    "duration": 3,
    "start_time": "2024-11-18T03:13:31.403Z"
   },
   {
    "duration": 7,
    "start_time": "2024-11-18T03:13:31.408Z"
   },
   {
    "duration": 4,
    "start_time": "2024-11-18T03:13:31.416Z"
   },
   {
    "duration": 6,
    "start_time": "2024-11-18T03:13:31.422Z"
   },
   {
    "duration": 41,
    "start_time": "2024-11-18T03:13:31.429Z"
   },
   {
    "duration": 3,
    "start_time": "2024-11-18T03:13:31.472Z"
   },
   {
    "duration": 8082,
    "start_time": "2024-11-18T03:13:31.477Z"
   },
   {
    "duration": 10,
    "start_time": "2024-11-18T03:13:39.561Z"
   },
   {
    "duration": 98,
    "start_time": "2024-11-18T03:13:39.572Z"
   },
   {
    "duration": 1815,
    "start_time": "2024-11-18T03:14:06.905Z"
   },
   {
    "duration": 5969,
    "start_time": "2024-11-18T03:14:10.815Z"
   },
   {
    "duration": 257,
    "start_time": "2024-11-18T03:14:36.514Z"
   },
   {
    "duration": 427,
    "start_time": "2024-11-18T03:14:41.747Z"
   },
   {
    "duration": 4,
    "start_time": "2024-11-18T03:14:45.880Z"
   },
   {
    "duration": 4,
    "start_time": "2024-11-18T03:16:49.344Z"
   },
   {
    "duration": 17,
    "start_time": "2024-11-18T03:17:21.262Z"
   },
   {
    "duration": 20,
    "start_time": "2024-11-18T03:17:30.258Z"
   },
   {
    "duration": 4,
    "start_time": "2024-11-18T03:17:42.993Z"
   },
   {
    "duration": 16,
    "start_time": "2024-11-18T03:18:12.033Z"
   },
   {
    "duration": 4,
    "start_time": "2024-11-18T03:18:16.913Z"
   },
   {
    "duration": 4,
    "start_time": "2024-11-18T03:19:39.812Z"
   },
   {
    "duration": 15,
    "start_time": "2024-11-18T03:20:38.818Z"
   },
   {
    "duration": 3,
    "start_time": "2024-11-18T03:22:13.829Z"
   },
   {
    "duration": 3,
    "start_time": "2024-11-18T03:22:32.532Z"
   },
   {
    "duration": 15,
    "start_time": "2024-11-18T03:22:46.690Z"
   },
   {
    "duration": 15,
    "start_time": "2024-11-18T03:23:14.546Z"
   },
   {
    "duration": 2,
    "start_time": "2024-11-18T03:23:54.546Z"
   },
   {
    "duration": 15,
    "start_time": "2024-11-18T03:23:56.821Z"
   },
   {
    "duration": 435,
    "start_time": "2024-11-18T03:24:21.190Z"
   },
   {
    "duration": 44,
    "start_time": "2024-11-18T03:25:03.347Z"
   },
   {
    "duration": 6045,
    "start_time": "2024-11-18T03:25:07.831Z"
   },
   {
    "duration": 6067,
    "start_time": "2024-11-18T03:25:32.915Z"
   },
   {
    "duration": 94,
    "start_time": "2024-11-18T03:25:38.988Z"
   },
   {
    "duration": 7,
    "start_time": "2024-11-18T03:26:36.965Z"
   },
   {
    "duration": 7,
    "start_time": "2024-11-18T03:27:16.772Z"
   },
   {
    "duration": 5,
    "start_time": "2024-11-18T03:27:32.113Z"
   },
   {
    "duration": 7,
    "start_time": "2024-11-18T03:28:49.575Z"
   },
   {
    "duration": 6,
    "start_time": "2024-11-18T03:28:58.933Z"
   },
   {
    "duration": 5,
    "start_time": "2024-11-18T03:29:25.796Z"
   },
   {
    "duration": 17,
    "start_time": "2024-11-18T03:30:05.907Z"
   },
   {
    "duration": 17,
    "start_time": "2024-11-18T03:30:15.923Z"
   },
   {
    "duration": 14,
    "start_time": "2024-11-18T03:30:38.037Z"
   },
   {
    "duration": 396,
    "start_time": "2024-11-18T03:30:49.779Z"
   },
   {
    "duration": 17,
    "start_time": "2024-11-18T03:30:51.907Z"
   },
   {
    "duration": 17,
    "start_time": "2024-11-18T03:30:58.948Z"
   },
   {
    "duration": 21,
    "start_time": "2024-11-18T03:31:17.524Z"
   },
   {
    "duration": 344,
    "start_time": "2024-11-18T03:33:41.331Z"
   },
   {
    "duration": 16,
    "start_time": "2024-11-18T03:33:43.093Z"
   },
   {
    "duration": 1824,
    "start_time": "2024-11-18T03:33:49.973Z"
   },
   {
    "duration": 1796,
    "start_time": "2024-11-18T03:33:53.724Z"
   },
   {
    "duration": 330,
    "start_time": "2024-11-18T03:33:55.845Z"
   },
   {
    "duration": 21,
    "start_time": "2024-11-18T03:33:56.980Z"
   },
   {
    "duration": 18,
    "start_time": "2024-11-18T03:34:10.629Z"
   },
   {
    "duration": 4,
    "start_time": "2024-11-18T03:34:25.251Z"
   },
   {
    "duration": 4,
    "start_time": "2024-11-18T03:34:30.467Z"
   },
   {
    "duration": 4,
    "start_time": "2024-11-18T03:34:31.654Z"
   },
   {
    "duration": 4,
    "start_time": "2024-11-18T03:34:32.266Z"
   },
   {
    "duration": 4,
    "start_time": "2024-11-18T03:34:32.809Z"
   },
   {
    "duration": 3,
    "start_time": "2024-11-18T03:34:33.318Z"
   },
   {
    "duration": 4,
    "start_time": "2024-11-18T03:34:33.865Z"
   },
   {
    "duration": 4,
    "start_time": "2024-11-18T03:34:34.391Z"
   },
   {
    "duration": 4,
    "start_time": "2024-11-18T03:34:34.942Z"
   },
   {
    "duration": 5,
    "start_time": "2024-11-18T03:34:35.384Z"
   },
   {
    "duration": 20,
    "start_time": "2024-11-18T03:34:38.205Z"
   },
   {
    "duration": 20,
    "start_time": "2024-11-18T03:34:38.759Z"
   },
   {
    "duration": 21,
    "start_time": "2024-11-18T03:34:39.249Z"
   },
   {
    "duration": 21,
    "start_time": "2024-11-18T03:34:48.828Z"
   },
   {
    "duration": 20,
    "start_time": "2024-11-18T03:35:38.792Z"
   },
   {
    "duration": 21,
    "start_time": "2024-11-18T03:36:40.503Z"
   },
   {
    "duration": 23,
    "start_time": "2024-11-18T03:37:27.544Z"
   },
   {
    "duration": 22,
    "start_time": "2024-11-18T03:37:39.747Z"
   },
   {
    "duration": 6,
    "start_time": "2024-11-18T03:37:43.748Z"
   },
   {
    "duration": 6,
    "start_time": "2024-11-18T03:38:41.511Z"
   },
   {
    "duration": 6,
    "start_time": "2024-11-18T03:39:59.414Z"
   },
   {
    "duration": 7,
    "start_time": "2024-11-18T03:41:49.494Z"
   },
   {
    "duration": 248,
    "start_time": "2024-11-18T03:42:09.943Z"
   },
   {
    "duration": 286,
    "start_time": "2024-11-18T03:42:44.501Z"
   },
   {
    "duration": 4,
    "start_time": "2024-11-18T03:42:47.301Z"
   },
   {
    "duration": 17,
    "start_time": "2024-11-18T03:43:36.167Z"
   },
   {
    "duration": 4,
    "start_time": "2024-11-18T03:45:32.182Z"
   },
   {
    "duration": 4,
    "start_time": "2024-11-18T03:45:44.917Z"
   },
   {
    "duration": 4,
    "start_time": "2024-11-18T03:46:01.627Z"
   },
   {
    "duration": 4,
    "start_time": "2024-11-18T03:46:36.552Z"
   },
   {
    "duration": 4,
    "start_time": "2024-11-18T03:47:17.581Z"
   },
   {
    "duration": 20,
    "start_time": "2024-11-18T03:47:51.760Z"
   },
   {
    "duration": 16,
    "start_time": "2024-11-18T03:49:54.583Z"
   },
   {
    "duration": 283,
    "start_time": "2024-11-18T03:49:58.205Z"
   },
   {
    "duration": 15,
    "start_time": "2024-11-18T03:50:36.462Z"
   },
   {
    "duration": 15,
    "start_time": "2024-11-18T03:51:51.193Z"
   },
   {
    "duration": 14,
    "start_time": "2024-11-18T03:51:52.216Z"
   },
   {
    "duration": 16,
    "start_time": "2024-11-18T03:51:52.760Z"
   },
   {
    "duration": 16,
    "start_time": "2024-11-18T03:52:00.734Z"
   },
   {
    "duration": 5,
    "start_time": "2024-11-18T03:52:36.984Z"
   },
   {
    "duration": 4,
    "start_time": "2024-11-18T03:52:48.392Z"
   },
   {
    "duration": 5,
    "start_time": "2024-11-18T03:52:49.257Z"
   },
   {
    "duration": 5,
    "start_time": "2024-11-18T03:52:51.546Z"
   },
   {
    "duration": 4,
    "start_time": "2024-11-18T03:53:20.552Z"
   },
   {
    "duration": 4,
    "start_time": "2024-11-18T03:53:48.861Z"
   },
   {
    "duration": 4,
    "start_time": "2024-11-18T03:53:51.006Z"
   },
   {
    "duration": 4,
    "start_time": "2024-11-18T03:55:27.362Z"
   },
   {
    "duration": 1814,
    "start_time": "2024-11-18T03:55:38.138Z"
   },
   {
    "duration": 408,
    "start_time": "2024-11-18T03:55:57.168Z"
   },
   {
    "duration": 19,
    "start_time": "2024-11-18T03:56:16.474Z"
   },
   {
    "duration": 5,
    "start_time": "2024-11-18T03:56:28.269Z"
   },
   {
    "duration": 3,
    "start_time": "2024-11-18T03:56:30.624Z"
   },
   {
    "duration": 4,
    "start_time": "2024-11-18T03:59:24.029Z"
   },
   {
    "duration": 4,
    "start_time": "2024-11-18T03:59:26.393Z"
   },
   {
    "duration": 4,
    "start_time": "2024-11-18T03:59:38.057Z"
   },
   {
    "duration": 4,
    "start_time": "2024-11-18T04:01:22.906Z"
   },
   {
    "duration": 4,
    "start_time": "2024-11-18T04:02:15.222Z"
   },
   {
    "duration": 4,
    "start_time": "2024-11-18T04:03:58.235Z"
   },
   {
    "duration": 18,
    "start_time": "2024-11-18T04:07:04.014Z"
   },
   {
    "duration": 343,
    "start_time": "2024-11-18T04:07:34.732Z"
   },
   {
    "duration": 287,
    "start_time": "2024-11-18T04:12:15.102Z"
   },
   {
    "duration": 248,
    "start_time": "2024-11-18T04:13:45.741Z"
   },
   {
    "duration": 270,
    "start_time": "2024-11-18T04:14:41.821Z"
   },
   {
    "duration": 4,
    "start_time": "2024-11-18T04:16:00.525Z"
   },
   {
    "duration": 4,
    "start_time": "2024-11-18T04:16:02.923Z"
   },
   {
    "duration": 4,
    "start_time": "2024-11-18T04:16:21.901Z"
   },
   {
    "duration": 265,
    "start_time": "2024-11-18T04:18:24.126Z"
   },
   {
    "duration": 4,
    "start_time": "2024-11-18T04:18:25.855Z"
   },
   {
    "duration": 4,
    "start_time": "2024-11-18T04:19:26.621Z"
   },
   {
    "duration": 3,
    "start_time": "2024-11-18T04:19:28.590Z"
   },
   {
    "duration": 5,
    "start_time": "2024-11-18T04:22:22.015Z"
   },
   {
    "duration": 646,
    "start_time": "2024-11-18T04:22:23.875Z"
   },
   {
    "duration": 581,
    "start_time": "2024-11-18T04:22:26.133Z"
   },
   {
    "duration": 155,
    "start_time": "2024-11-18T04:22:30.221Z"
   },
   {
    "duration": 449,
    "start_time": "2024-11-18T04:22:31.485Z"
   },
   {
    "duration": 4,
    "start_time": "2024-11-18T04:22:33.574Z"
   },
   {
    "duration": 6,
    "start_time": "2024-11-18T04:22:34.085Z"
   },
   {
    "duration": 4,
    "start_time": "2024-11-18T04:22:57.784Z"
   },
   {
    "duration": 7,
    "start_time": "2024-11-18T04:22:59.140Z"
   },
   {
    "duration": 7,
    "start_time": "2024-11-18T04:23:00.567Z"
   },
   {
    "duration": 3,
    "start_time": "2024-11-18T04:23:02.675Z"
   },
   {
    "duration": 8028,
    "start_time": "2024-11-18T04:23:03.272Z"
   },
   {
    "duration": 5,
    "start_time": "2024-11-18T04:23:11.301Z"
   },
   {
    "duration": 94,
    "start_time": "2024-11-18T04:23:12.640Z"
   },
   {
    "duration": 87,
    "start_time": "2024-11-18T04:23:24.505Z"
   },
   {
    "duration": 62,
    "start_time": "2024-11-18T04:23:31.709Z"
   },
   {
    "duration": 88,
    "start_time": "2024-11-18T04:23:45.086Z"
   },
   {
    "duration": 88,
    "start_time": "2024-11-18T04:23:51.277Z"
   },
   {
    "duration": 89,
    "start_time": "2024-11-18T04:23:58.745Z"
   },
   {
    "duration": 88,
    "start_time": "2024-11-18T04:24:09.319Z"
   },
   {
    "duration": 954,
    "start_time": "2024-11-18T04:24:35.872Z"
   },
   {
    "duration": 26,
    "start_time": "2024-11-18T04:24:36.828Z"
   },
   {
    "duration": 18,
    "start_time": "2024-11-18T04:24:36.856Z"
   },
   {
    "duration": 58,
    "start_time": "2024-11-18T04:24:36.877Z"
   },
   {
    "duration": 4,
    "start_time": "2024-11-18T04:24:36.937Z"
   },
   {
    "duration": 28,
    "start_time": "2024-11-18T04:24:36.943Z"
   },
   {
    "duration": 15,
    "start_time": "2024-11-18T04:24:36.972Z"
   },
   {
    "duration": 3,
    "start_time": "2024-11-18T04:24:36.989Z"
   },
   {
    "duration": 413,
    "start_time": "2024-11-18T04:24:36.993Z"
   },
   {
    "duration": 1810,
    "start_time": "2024-11-18T04:24:37.410Z"
   },
   {
    "duration": 448,
    "start_time": "2024-11-18T04:24:39.222Z"
   },
   {
    "duration": 6,
    "start_time": "2024-11-18T04:24:39.672Z"
   },
   {
    "duration": 6,
    "start_time": "2024-11-18T04:24:39.683Z"
   },
   {
    "duration": 78,
    "start_time": "2024-11-18T04:24:39.692Z"
   },
   {
    "duration": 405,
    "start_time": "2024-11-18T04:24:39.772Z"
   },
   {
    "duration": 8,
    "start_time": "2024-11-18T04:24:40.179Z"
   },
   {
    "duration": 670,
    "start_time": "2024-11-18T04:24:40.192Z"
   },
   {
    "duration": 150,
    "start_time": "2024-11-18T04:24:40.864Z"
   },
   {
    "duration": 390,
    "start_time": "2024-11-18T04:24:41.015Z"
   },
   {
    "duration": 3,
    "start_time": "2024-11-18T04:24:41.407Z"
   },
   {
    "duration": 8,
    "start_time": "2024-11-18T04:24:41.411Z"
   },
   {
    "duration": 4,
    "start_time": "2024-11-18T04:24:41.420Z"
   },
   {
    "duration": 6,
    "start_time": "2024-11-18T04:24:41.426Z"
   },
   {
    "duration": 36,
    "start_time": "2024-11-18T04:24:41.434Z"
   },
   {
    "duration": 4,
    "start_time": "2024-11-18T04:24:41.474Z"
   },
   {
    "duration": 8370,
    "start_time": "2024-11-18T04:24:41.480Z"
   },
   {
    "duration": 5,
    "start_time": "2024-11-18T04:24:49.852Z"
   },
   {
    "duration": 87,
    "start_time": "2024-11-18T04:24:49.870Z"
   },
   {
    "duration": 1818,
    "start_time": "2024-11-18T04:25:04.460Z"
   },
   {
    "duration": 1806,
    "start_time": "2024-11-18T04:25:28.388Z"
   },
   {
    "duration": 621,
    "start_time": "2024-11-18T04:26:01.947Z"
   },
   {
    "duration": 590,
    "start_time": "2024-11-18T04:27:30.110Z"
   },
   {
    "duration": 611,
    "start_time": "2024-11-18T04:27:45.580Z"
   },
   {
    "duration": 1867,
    "start_time": "2024-11-18T04:27:54.763Z"
   },
   {
    "duration": 1799,
    "start_time": "2024-11-18T04:28:22.076Z"
   },
   {
    "duration": 4,
    "start_time": "2024-11-18T04:31:26.065Z"
   },
   {
    "duration": 6,
    "start_time": "2024-11-18T04:32:04.859Z"
   },
   {
    "duration": 5,
    "start_time": "2024-11-18T04:32:38.284Z"
   },
   {
    "duration": 4,
    "start_time": "2024-11-18T04:32:52.205Z"
   },
   {
    "duration": 4,
    "start_time": "2024-11-18T04:33:03.739Z"
   },
   {
    "duration": 4,
    "start_time": "2024-11-18T04:34:25.582Z"
   },
   {
    "duration": 4,
    "start_time": "2024-11-18T04:34:47.871Z"
   },
   {
    "duration": 1803,
    "start_time": "2024-11-18T04:35:08.635Z"
   },
   {
    "duration": 1852,
    "start_time": "2024-11-18T04:35:26.076Z"
   },
   {
    "duration": 5,
    "start_time": "2024-11-18T04:35:38.190Z"
   },
   {
    "duration": 5,
    "start_time": "2024-11-18T04:35:41.324Z"
   },
   {
    "duration": 1840,
    "start_time": "2024-11-18T04:35:54.468Z"
   },
   {
    "duration": 2688,
    "start_time": "2024-11-18T04:36:52.558Z"
   },
   {
    "duration": 30,
    "start_time": "2024-11-18T04:36:55.249Z"
   },
   {
    "duration": 9,
    "start_time": "2024-11-18T04:36:55.280Z"
   },
   {
    "duration": 82,
    "start_time": "2024-11-18T04:36:55.291Z"
   },
   {
    "duration": 5,
    "start_time": "2024-11-18T04:36:55.374Z"
   },
   {
    "duration": 11,
    "start_time": "2024-11-18T04:36:55.380Z"
   },
   {
    "duration": 11,
    "start_time": "2024-11-18T04:36:55.393Z"
   },
   {
    "duration": 3,
    "start_time": "2024-11-18T04:36:55.406Z"
   },
   {
    "duration": 439,
    "start_time": "2024-11-18T04:36:55.410Z"
   },
   {
    "duration": 8,
    "start_time": "2024-11-18T04:36:55.851Z"
   },
   {
    "duration": 434,
    "start_time": "2024-11-18T04:36:55.860Z"
   },
   {
    "duration": 5,
    "start_time": "2024-11-18T04:36:56.371Z"
   },
   {
    "duration": 4,
    "start_time": "2024-11-18T04:36:56.378Z"
   },
   {
    "duration": 4,
    "start_time": "2024-11-18T04:36:56.384Z"
   },
   {
    "duration": 589,
    "start_time": "2024-11-18T04:36:56.390Z"
   },
   {
    "duration": 12,
    "start_time": "2024-11-18T04:36:56.981Z"
   },
   {
    "duration": 668,
    "start_time": "2024-11-18T04:36:56.994Z"
   },
   {
    "duration": 156,
    "start_time": "2024-11-18T04:36:57.665Z"
   },
   {
    "duration": 379,
    "start_time": "2024-11-18T04:36:57.823Z"
   },
   {
    "duration": 3,
    "start_time": "2024-11-18T04:36:58.204Z"
   },
   {
    "duration": 8,
    "start_time": "2024-11-18T04:36:58.209Z"
   },
   {
    "duration": 4,
    "start_time": "2024-11-18T04:36:58.219Z"
   },
   {
    "duration": 6,
    "start_time": "2024-11-18T04:36:58.225Z"
   },
   {
    "duration": 38,
    "start_time": "2024-11-18T04:36:58.233Z"
   },
   {
    "duration": 3,
    "start_time": "2024-11-18T04:36:58.274Z"
   },
   {
    "duration": 8133,
    "start_time": "2024-11-18T04:36:58.279Z"
   },
   {
    "duration": 5,
    "start_time": "2024-11-18T04:37:06.413Z"
   },
   {
    "duration": 100,
    "start_time": "2024-11-18T04:37:06.423Z"
   },
   {
    "duration": 2,
    "start_time": "2024-11-18T04:40:13.040Z"
   },
   {
    "duration": 5,
    "start_time": "2024-11-18T04:40:46.128Z"
   },
   {
    "duration": 5,
    "start_time": "2024-11-18T04:41:33.473Z"
   },
   {
    "duration": 2,
    "start_time": "2024-11-18T04:42:07.652Z"
   },
   {
    "duration": 145,
    "start_time": "2024-11-18T04:43:01.667Z"
   },
   {
    "duration": 5,
    "start_time": "2024-11-18T04:43:36.424Z"
   },
   {
    "duration": 16,
    "start_time": "2024-11-18T04:44:51.650Z"
   },
   {
    "duration": 15,
    "start_time": "2024-11-18T04:45:20.802Z"
   },
   {
    "duration": 27,
    "start_time": "2024-11-18T04:46:18.438Z"
   },
   {
    "duration": 26,
    "start_time": "2024-11-18T04:46:23.106Z"
   },
   {
    "duration": 15,
    "start_time": "2024-11-18T04:46:30.295Z"
   },
   {
    "duration": 16,
    "start_time": "2024-11-18T04:46:57.524Z"
   },
   {
    "duration": 16,
    "start_time": "2024-11-18T04:47:14.853Z"
   },
   {
    "duration": 3,
    "start_time": "2024-11-18T04:48:12.401Z"
   },
   {
    "duration": 168,
    "start_time": "2024-11-18T04:48:46.210Z"
   },
   {
    "duration": 15,
    "start_time": "2024-11-18T04:49:30.391Z"
   },
   {
    "duration": 15,
    "start_time": "2024-11-18T04:49:39.089Z"
   },
   {
    "duration": 15,
    "start_time": "2024-11-18T04:50:29.008Z"
   },
   {
    "duration": 158,
    "start_time": "2024-11-18T04:50:48.840Z"
   },
   {
    "duration": 366,
    "start_time": "2024-11-18T04:51:17.512Z"
   },
   {
    "duration": 15,
    "start_time": "2024-11-18T04:52:04.708Z"
   },
   {
    "duration": 414,
    "start_time": "2024-11-18T04:52:09.362Z"
   },
   {
    "duration": 157,
    "start_time": "2024-11-18T04:52:22.004Z"
   },
   {
    "duration": 384,
    "start_time": "2024-11-18T04:52:25.491Z"
   },
   {
    "duration": 2,
    "start_time": "2024-11-18T04:53:06.467Z"
   },
   {
    "duration": 6,
    "start_time": "2024-11-18T04:54:12.046Z"
   },
   {
    "duration": 5,
    "start_time": "2024-11-18T04:54:45.375Z"
   },
   {
    "duration": 5,
    "start_time": "2024-11-18T04:54:48.604Z"
   },
   {
    "duration": 3,
    "start_time": "2024-11-18T04:55:57.699Z"
   },
   {
    "duration": 3,
    "start_time": "2024-11-18T04:56:12.285Z"
   },
   {
    "duration": 382,
    "start_time": "2024-11-18T04:56:28.894Z"
   },
   {
    "duration": 3,
    "start_time": "2024-11-18T04:57:25.059Z"
   },
   {
    "duration": 13,
    "start_time": "2024-11-18T05:07:12.200Z"
   },
   {
    "duration": 16,
    "start_time": "2024-11-18T05:07:32.966Z"
   },
   {
    "duration": 15,
    "start_time": "2024-11-18T05:07:42.911Z"
   },
   {
    "duration": 160,
    "start_time": "2024-11-18T05:07:43.767Z"
   },
   {
    "duration": 417,
    "start_time": "2024-11-18T05:07:47.557Z"
   },
   {
    "duration": 4,
    "start_time": "2024-11-18T05:07:52.174Z"
   },
   {
    "duration": 12,
    "start_time": "2024-11-18T05:07:55.105Z"
   },
   {
    "duration": 6,
    "start_time": "2024-11-18T05:08:29.208Z"
   },
   {
    "duration": 628,
    "start_time": "2024-11-18T05:08:30.303Z"
   },
   {
    "duration": 337,
    "start_time": "2024-11-18T05:08:41.334Z"
   },
   {
    "duration": 350,
    "start_time": "2024-11-18T05:12:23.419Z"
   },
   {
    "duration": 517,
    "start_time": "2024-11-18T05:12:48.166Z"
   },
   {
    "duration": 366,
    "start_time": "2024-11-18T05:13:00.503Z"
   },
   {
    "duration": 15,
    "start_time": "2024-11-18T05:14:18.090Z"
   },
   {
    "duration": 139,
    "start_time": "2024-11-18T05:15:06.984Z"
   },
   {
    "duration": 491,
    "start_time": "2024-11-18T05:15:30.778Z"
   },
   {
    "duration": 6,
    "start_time": "2024-11-18T05:15:39.576Z"
   },
   {
    "duration": 585,
    "start_time": "2024-11-18T05:16:03.937Z"
   },
   {
    "duration": 41,
    "start_time": "2024-11-18T05:18:00.221Z"
   },
   {
    "duration": 407,
    "start_time": "2024-11-18T05:18:46.970Z"
   },
   {
    "duration": 43,
    "start_time": "2024-11-18T05:20:08.728Z"
   },
   {
    "duration": 12,
    "start_time": "2024-11-18T05:21:18.567Z"
   },
   {
    "duration": 13,
    "start_time": "2024-11-18T05:21:26.651Z"
   },
   {
    "duration": 15,
    "start_time": "2024-11-18T05:22:03.820Z"
   },
   {
    "duration": 13,
    "start_time": "2024-11-18T05:22:15.367Z"
   },
   {
    "duration": 228,
    "start_time": "2024-11-18T05:22:34.257Z"
   },
   {
    "duration": 3,
    "start_time": "2024-11-18T05:23:11.837Z"
   },
   {
    "duration": 24,
    "start_time": "2024-11-18T05:24:07.675Z"
   },
   {
    "duration": 8,
    "start_time": "2024-11-18T05:24:33.162Z"
   },
   {
    "duration": 26,
    "start_time": "2024-11-18T05:25:04.345Z"
   },
   {
    "duration": 7,
    "start_time": "2024-11-18T05:25:41.642Z"
   },
   {
    "duration": 393,
    "start_time": "2024-11-18T05:27:11.593Z"
   },
   {
    "duration": 2714,
    "start_time": "2024-11-18T05:27:19.923Z"
   },
   {
    "duration": 29,
    "start_time": "2024-11-18T05:27:22.639Z"
   },
   {
    "duration": 8,
    "start_time": "2024-11-18T05:27:22.669Z"
   },
   {
    "duration": 65,
    "start_time": "2024-11-18T05:27:22.679Z"
   },
   {
    "duration": 4,
    "start_time": "2024-11-18T05:27:22.747Z"
   },
   {
    "duration": 26,
    "start_time": "2024-11-18T05:27:22.753Z"
   },
   {
    "duration": 11,
    "start_time": "2024-11-18T05:27:22.781Z"
   },
   {
    "duration": 3,
    "start_time": "2024-11-18T05:27:22.793Z"
   },
   {
    "duration": 202,
    "start_time": "2024-11-18T05:27:22.798Z"
   },
   {
    "duration": 6,
    "start_time": "2024-11-18T05:27:23.002Z"
   },
   {
    "duration": 612,
    "start_time": "2024-11-18T05:27:23.010Z"
   },
   {
    "duration": 8,
    "start_time": "2024-11-18T05:27:23.624Z"
   },
   {
    "duration": 441,
    "start_time": "2024-11-18T05:27:23.634Z"
   },
   {
    "duration": 5,
    "start_time": "2024-11-18T05:27:24.079Z"
   },
   {
    "duration": 4,
    "start_time": "2024-11-18T05:27:24.085Z"
   },
   {
    "duration": 78,
    "start_time": "2024-11-18T05:27:24.093Z"
   },
   {
    "duration": 412,
    "start_time": "2024-11-18T05:27:24.172Z"
   },
   {
    "duration": 4,
    "start_time": "2024-11-18T05:27:24.586Z"
   },
   {
    "duration": 90,
    "start_time": "2024-11-18T05:27:24.592Z"
   },
   {
    "duration": 205,
    "start_time": "2024-11-18T05:27:24.684Z"
   },
   {
    "duration": 399,
    "start_time": "2024-11-18T05:27:24.890Z"
   },
   {
    "duration": 79,
    "start_time": "2024-11-18T05:27:25.291Z"
   },
   {
    "duration": 420,
    "start_time": "2024-11-18T05:27:25.372Z"
   },
   {
    "duration": 7,
    "start_time": "2024-11-18T05:27:25.870Z"
   },
   {
    "duration": 236,
    "start_time": "2024-11-18T05:27:25.879Z"
   },
   {
    "duration": 732,
    "start_time": "2024-11-18T05:27:26.117Z"
   },
   {
    "duration": 0,
    "start_time": "2024-11-18T05:27:26.851Z"
   },
   {
    "duration": 0,
    "start_time": "2024-11-18T05:27:26.852Z"
   },
   {
    "duration": 0,
    "start_time": "2024-11-18T05:27:26.854Z"
   },
   {
    "duration": 0,
    "start_time": "2024-11-18T05:27:26.854Z"
   },
   {
    "duration": 0,
    "start_time": "2024-11-18T05:27:26.856Z"
   },
   {
    "duration": 0,
    "start_time": "2024-11-18T05:27:26.857Z"
   },
   {
    "duration": 0,
    "start_time": "2024-11-18T05:27:26.870Z"
   },
   {
    "duration": 0,
    "start_time": "2024-11-18T05:27:26.873Z"
   },
   {
    "duration": 0,
    "start_time": "2024-11-18T05:27:26.874Z"
   },
   {
    "duration": 0,
    "start_time": "2024-11-18T05:27:26.875Z"
   },
   {
    "duration": 0,
    "start_time": "2024-11-18T05:27:26.876Z"
   },
   {
    "duration": 0,
    "start_time": "2024-11-18T05:27:26.877Z"
   },
   {
    "duration": 41,
    "start_time": "2024-11-18T05:27:42.196Z"
   },
   {
    "duration": 7,
    "start_time": "2024-11-18T05:27:50.108Z"
   },
   {
    "duration": 125,
    "start_time": "2024-11-18T05:27:56.541Z"
   },
   {
    "duration": 7,
    "start_time": "2024-11-18T05:28:10.091Z"
   },
   {
    "duration": 8,
    "start_time": "2024-11-18T05:28:16.877Z"
   },
   {
    "duration": 553,
    "start_time": "2024-11-18T05:28:23.470Z"
   },
   {
    "duration": 41,
    "start_time": "2024-11-18T05:30:09.245Z"
   },
   {
    "duration": 41,
    "start_time": "2024-11-18T05:30:16.092Z"
   },
   {
    "duration": 262,
    "start_time": "2024-11-18T05:30:44.508Z"
   },
   {
    "duration": 49,
    "start_time": "2024-11-18T05:31:09.196Z"
   },
   {
    "duration": 43,
    "start_time": "2024-11-18T05:31:49.083Z"
   },
   {
    "duration": 47,
    "start_time": "2024-11-18T05:31:50.698Z"
   },
   {
    "duration": 42,
    "start_time": "2024-11-18T05:31:51.518Z"
   },
   {
    "duration": 40,
    "start_time": "2024-11-18T05:31:51.997Z"
   },
   {
    "duration": 42,
    "start_time": "2024-11-18T05:31:52.318Z"
   },
   {
    "duration": 40,
    "start_time": "2024-11-18T05:32:06.171Z"
   },
   {
    "duration": 49,
    "start_time": "2024-11-18T05:32:07.146Z"
   },
   {
    "duration": 6,
    "start_time": "2024-11-18T05:32:20.174Z"
   },
   {
    "duration": 43,
    "start_time": "2024-11-18T05:32:28.818Z"
   },
   {
    "duration": 45,
    "start_time": "2024-11-18T05:32:47.053Z"
   },
   {
    "duration": 40,
    "start_time": "2024-11-18T05:32:48.204Z"
   },
   {
    "duration": 40,
    "start_time": "2024-11-18T05:32:55.586Z"
   },
   {
    "duration": 41,
    "start_time": "2024-11-18T05:32:59.344Z"
   },
   {
    "duration": 25,
    "start_time": "2024-11-18T05:34:46.525Z"
   },
   {
    "duration": 12,
    "start_time": "2024-11-18T05:35:31.870Z"
   },
   {
    "duration": 3,
    "start_time": "2024-11-18T05:35:43.380Z"
   },
   {
    "duration": 43,
    "start_time": "2024-11-18T05:36:15.981Z"
   },
   {
    "duration": 4,
    "start_time": "2024-11-18T05:36:23.377Z"
   },
   {
    "duration": 9,
    "start_time": "2024-11-18T05:37:01.584Z"
   },
   {
    "duration": 478,
    "start_time": "2024-11-18T05:38:12.622Z"
   },
   {
    "duration": 658,
    "start_time": "2024-11-18T05:40:31.725Z"
   },
   {
    "duration": 6,
    "start_time": "2024-11-18T05:41:40.220Z"
   },
   {
    "duration": 5,
    "start_time": "2024-11-18T05:41:46.302Z"
   },
   {
    "duration": 5,
    "start_time": "2024-11-18T05:43:37.825Z"
   },
   {
    "duration": 4,
    "start_time": "2024-11-18T05:43:58.751Z"
   },
   {
    "duration": 127,
    "start_time": "2024-11-18T05:44:07.811Z"
   },
   {
    "duration": 17,
    "start_time": "2024-11-18T05:44:19.071Z"
   },
   {
    "duration": 112,
    "start_time": "2024-11-18T05:44:31.568Z"
   },
   {
    "duration": 194,
    "start_time": "2024-11-18T05:45:49.790Z"
   },
   {
    "duration": 195,
    "start_time": "2024-11-18T05:45:55.667Z"
   },
   {
    "duration": 270,
    "start_time": "2024-11-18T05:47:04.896Z"
   },
   {
    "duration": 262,
    "start_time": "2024-11-18T05:47:33.282Z"
   },
   {
    "duration": 6,
    "start_time": "2024-11-18T05:50:20.144Z"
   },
   {
    "duration": 263,
    "start_time": "2024-11-18T05:50:22.531Z"
   },
   {
    "duration": 267,
    "start_time": "2024-11-18T05:51:09.313Z"
   },
   {
    "duration": 5,
    "start_time": "2024-11-18T05:51:42.015Z"
   },
   {
    "duration": 264,
    "start_time": "2024-11-18T05:51:44.303Z"
   },
   {
    "duration": 4,
    "start_time": "2024-11-18T05:52:26.798Z"
   },
   {
    "duration": 298,
    "start_time": "2024-11-18T05:52:29.008Z"
   },
   {
    "duration": 295,
    "start_time": "2024-11-18T05:52:49.839Z"
   },
   {
    "duration": 297,
    "start_time": "2024-11-18T05:54:11.842Z"
   },
   {
    "duration": 322,
    "start_time": "2024-11-18T05:54:25.744Z"
   },
   {
    "duration": 549,
    "start_time": "2024-11-18T05:54:39.871Z"
   },
   {
    "duration": 504,
    "start_time": "2024-11-18T05:55:53.760Z"
   },
   {
    "duration": 5,
    "start_time": "2024-11-18T05:56:10.737Z"
   },
   {
    "duration": 511,
    "start_time": "2024-11-18T05:56:12.417Z"
   },
   {
    "duration": 1334,
    "start_time": "2024-11-18T05:57:58.497Z"
   },
   {
    "duration": 583,
    "start_time": "2024-11-18T05:59:22.609Z"
   },
   {
    "duration": 787,
    "start_time": "2024-11-18T06:00:43.012Z"
   },
   {
    "duration": 5,
    "start_time": "2024-11-18T06:01:18.530Z"
   },
   {
    "duration": 954,
    "start_time": "2024-11-18T06:01:19.354Z"
   },
   {
    "duration": 778,
    "start_time": "2024-11-18T06:02:08.708Z"
   },
   {
    "duration": 356,
    "start_time": "2024-11-18T06:02:36.226Z"
   },
   {
    "duration": 368,
    "start_time": "2024-11-18T06:02:53.010Z"
   },
   {
    "duration": 4,
    "start_time": "2024-11-18T06:04:30.070Z"
   },
   {
    "duration": 4,
    "start_time": "2024-11-18T06:05:31.284Z"
   },
   {
    "duration": 10,
    "start_time": "2024-11-18T06:05:49.458Z"
   },
   {
    "duration": 7,
    "start_time": "2024-11-18T06:06:04.497Z"
   },
   {
    "duration": 2,
    "start_time": "2024-11-18T06:07:35.604Z"
   },
   {
    "duration": 841,
    "start_time": "2024-11-18T06:07:56.099Z"
   },
   {
    "duration": 814,
    "start_time": "2024-11-18T06:09:00.726Z"
   },
   {
    "duration": 151,
    "start_time": "2024-11-18T06:09:08.002Z"
   },
   {
    "duration": 358,
    "start_time": "2024-11-18T06:09:08.444Z"
   },
   {
    "duration": 4,
    "start_time": "2024-11-18T06:09:12.378Z"
   },
   {
    "duration": 51,
    "start_time": "2024-11-18T06:09:15.876Z"
   },
   {
    "duration": 5,
    "start_time": "2024-11-18T06:09:21.050Z"
   },
   {
    "duration": 284,
    "start_time": "2024-11-18T06:09:22.986Z"
   },
   {
    "duration": 3,
    "start_time": "2024-11-18T06:09:57.411Z"
   },
   {
    "duration": 7,
    "start_time": "2024-11-18T06:10:00.194Z"
   },
   {
    "duration": 5,
    "start_time": "2024-11-18T06:10:06.291Z"
   },
   {
    "duration": 4,
    "start_time": "2024-11-18T06:10:08.105Z"
   },
   {
    "duration": 6,
    "start_time": "2024-11-18T06:10:50.500Z"
   },
   {
    "duration": 148,
    "start_time": "2024-11-18T06:10:54.580Z"
   },
   {
    "duration": 4,
    "start_time": "2024-11-18T06:11:18.619Z"
   },
   {
    "duration": 7,
    "start_time": "2024-11-18T06:11:23.812Z"
   },
   {
    "duration": 62,
    "start_time": "2024-11-18T06:11:25.532Z"
   },
   {
    "duration": 2742,
    "start_time": "2024-11-18T06:12:17.516Z"
   },
   {
    "duration": 29,
    "start_time": "2024-11-18T06:12:20.262Z"
   },
   {
    "duration": 9,
    "start_time": "2024-11-18T06:12:20.293Z"
   },
   {
    "duration": 77,
    "start_time": "2024-11-18T06:12:20.303Z"
   },
   {
    "duration": 5,
    "start_time": "2024-11-18T06:12:20.382Z"
   },
   {
    "duration": 10,
    "start_time": "2024-11-18T06:12:20.389Z"
   },
   {
    "duration": 11,
    "start_time": "2024-11-18T06:12:20.401Z"
   },
   {
    "duration": 2,
    "start_time": "2024-11-18T06:12:20.414Z"
   },
   {
    "duration": 223,
    "start_time": "2024-11-18T06:12:20.418Z"
   },
   {
    "duration": 5,
    "start_time": "2024-11-18T06:12:20.643Z"
   },
   {
    "duration": 608,
    "start_time": "2024-11-18T06:12:20.650Z"
   },
   {
    "duration": 8,
    "start_time": "2024-11-18T06:12:21.260Z"
   },
   {
    "duration": 416,
    "start_time": "2024-11-18T06:12:21.270Z"
   },
   {
    "duration": 83,
    "start_time": "2024-11-18T06:12:21.690Z"
   },
   {
    "duration": 8,
    "start_time": "2024-11-18T06:12:21.774Z"
   },
   {
    "duration": 4,
    "start_time": "2024-11-18T06:12:21.786Z"
   },
   {
    "duration": 483,
    "start_time": "2024-11-18T06:12:21.792Z"
   },
   {
    "duration": 5,
    "start_time": "2024-11-18T06:12:22.277Z"
   },
   {
    "duration": 90,
    "start_time": "2024-11-18T06:12:22.285Z"
   },
   {
    "duration": 182,
    "start_time": "2024-11-18T06:12:22.377Z"
   },
   {
    "duration": 408,
    "start_time": "2024-11-18T06:12:22.569Z"
   },
   {
    "duration": 4,
    "start_time": "2024-11-18T06:12:22.979Z"
   },
   {
    "duration": 497,
    "start_time": "2024-11-18T06:12:22.984Z"
   },
   {
    "duration": 8,
    "start_time": "2024-11-18T06:12:23.483Z"
   },
   {
    "duration": 277,
    "start_time": "2024-11-18T06:12:23.493Z"
   },
   {
    "duration": 9,
    "start_time": "2024-11-18T06:12:23.773Z"
   },
   {
    "duration": 707,
    "start_time": "2024-11-18T06:12:23.784Z"
   },
   {
    "duration": 4,
    "start_time": "2024-11-18T06:12:24.493Z"
   },
   {
    "duration": 831,
    "start_time": "2024-11-18T06:12:24.498Z"
   },
   {
    "duration": 445,
    "start_time": "2024-11-18T06:12:25.331Z"
   },
   {
    "duration": 10,
    "start_time": "2024-11-18T06:12:25.778Z"
   },
   {
    "duration": 3,
    "start_time": "2024-11-18T06:12:25.789Z"
   },
   {
    "duration": 823,
    "start_time": "2024-11-18T06:12:25.872Z"
   },
   {
    "duration": 247,
    "start_time": "2024-11-18T06:12:26.697Z"
   },
   {
    "duration": 3,
    "start_time": "2024-11-18T06:12:26.947Z"
   },
   {
    "duration": 24,
    "start_time": "2024-11-18T06:12:26.953Z"
   },
   {
    "duration": 4,
    "start_time": "2024-11-18T06:12:26.979Z"
   },
   {
    "duration": 5,
    "start_time": "2024-11-18T06:12:26.985Z"
   },
   {
    "duration": 405,
    "start_time": "2024-11-18T06:12:26.992Z"
   },
   {
    "duration": 0,
    "start_time": "2024-11-18T06:12:27.401Z"
   },
   {
    "duration": 0,
    "start_time": "2024-11-18T06:12:27.402Z"
   },
   {
    "duration": 0,
    "start_time": "2024-11-18T06:12:27.403Z"
   },
   {
    "duration": 1,
    "start_time": "2024-11-18T06:12:27.403Z"
   },
   {
    "duration": 62,
    "start_time": "2024-11-18T06:12:49.100Z"
   },
   {
    "duration": 6,
    "start_time": "2024-11-18T06:12:58.381Z"
   },
   {
    "duration": 62,
    "start_time": "2024-11-18T06:13:01.526Z"
   },
   {
    "duration": 63,
    "start_time": "2024-11-18T06:13:04.511Z"
   },
   {
    "duration": 79,
    "start_time": "2024-11-18T06:13:06.483Z"
   },
   {
    "duration": 2,
    "start_time": "2024-11-18T06:13:29.204Z"
   },
   {
    "duration": 739,
    "start_time": "2024-11-18T06:13:30.643Z"
   },
   {
    "duration": 1283,
    "start_time": "2024-11-18T06:13:57.188Z"
   },
   {
    "duration": 36,
    "start_time": "2024-11-18T06:14:04.738Z"
   },
   {
    "duration": 64,
    "start_time": "2024-11-18T06:14:13.028Z"
   },
   {
    "duration": 2769,
    "start_time": "2024-11-18T06:14:26.098Z"
   },
   {
    "duration": 28,
    "start_time": "2024-11-18T06:14:28.870Z"
   },
   {
    "duration": 8,
    "start_time": "2024-11-18T06:14:28.900Z"
   },
   {
    "duration": 79,
    "start_time": "2024-11-18T06:14:28.910Z"
   },
   {
    "duration": 5,
    "start_time": "2024-11-18T06:14:28.991Z"
   },
   {
    "duration": 11,
    "start_time": "2024-11-18T06:14:28.997Z"
   },
   {
    "duration": 11,
    "start_time": "2024-11-18T06:14:29.009Z"
   },
   {
    "duration": 3,
    "start_time": "2024-11-18T06:14:29.022Z"
   },
   {
    "duration": 209,
    "start_time": "2024-11-18T06:14:29.027Z"
   },
   {
    "duration": 7,
    "start_time": "2024-11-18T06:14:29.239Z"
   },
   {
    "duration": 607,
    "start_time": "2024-11-18T06:14:29.247Z"
   },
   {
    "duration": 8,
    "start_time": "2024-11-18T06:14:29.856Z"
   },
   {
    "duration": 419,
    "start_time": "2024-11-18T06:14:29.866Z"
   },
   {
    "duration": 5,
    "start_time": "2024-11-18T06:14:30.287Z"
   },
   {
    "duration": 6,
    "start_time": "2024-11-18T06:14:30.372Z"
   },
   {
    "duration": 4,
    "start_time": "2024-11-18T06:14:30.383Z"
   },
   {
    "duration": 485,
    "start_time": "2024-11-18T06:14:30.389Z"
   },
   {
    "duration": 7,
    "start_time": "2024-11-18T06:14:30.876Z"
   },
   {
    "duration": 86,
    "start_time": "2024-11-18T06:14:30.885Z"
   },
   {
    "duration": 175,
    "start_time": "2024-11-18T06:14:30.973Z"
   },
   {
    "duration": 441,
    "start_time": "2024-11-18T06:14:31.150Z"
   },
   {
    "duration": 78,
    "start_time": "2024-11-18T06:14:31.593Z"
   },
   {
    "duration": 420,
    "start_time": "2024-11-18T06:14:31.674Z"
   },
   {
    "duration": 8,
    "start_time": "2024-11-18T06:14:32.171Z"
   },
   {
    "duration": 232,
    "start_time": "2024-11-18T06:14:32.181Z"
   },
   {
    "duration": 10,
    "start_time": "2024-11-18T06:14:32.416Z"
   },
   {
    "duration": 727,
    "start_time": "2024-11-18T06:14:32.427Z"
   },
   {
    "duration": 13,
    "start_time": "2024-11-18T06:14:33.159Z"
   },
   {
    "duration": 775,
    "start_time": "2024-11-18T06:14:33.173Z"
   },
   {
    "duration": 430,
    "start_time": "2024-11-18T06:14:33.950Z"
   },
   {
    "duration": 89,
    "start_time": "2024-11-18T06:14:34.383Z"
   },
   {
    "duration": 3,
    "start_time": "2024-11-18T06:14:34.478Z"
   },
   {
    "duration": 841,
    "start_time": "2024-11-18T06:14:34.483Z"
   },
   {
    "duration": 235,
    "start_time": "2024-11-18T06:14:35.326Z"
   },
   {
    "duration": 5,
    "start_time": "2024-11-18T06:14:35.570Z"
   },
   {
    "duration": 8,
    "start_time": "2024-11-18T06:14:35.578Z"
   },
   {
    "duration": 4,
    "start_time": "2024-11-18T06:14:35.587Z"
   },
   {
    "duration": 6,
    "start_time": "2024-11-18T06:14:35.593Z"
   },
   {
    "duration": 387,
    "start_time": "2024-11-18T06:14:35.600Z"
   },
   {
    "duration": 0,
    "start_time": "2024-11-18T06:14:35.990Z"
   },
   {
    "duration": 0,
    "start_time": "2024-11-18T06:14:35.991Z"
   },
   {
    "duration": 0,
    "start_time": "2024-11-18T06:14:35.993Z"
   },
   {
    "duration": 0,
    "start_time": "2024-11-18T06:14:35.994Z"
   },
   {
    "duration": 2,
    "start_time": "2024-11-18T06:16:03.106Z"
   },
   {
    "duration": 723,
    "start_time": "2024-11-18T06:16:04.755Z"
   },
   {
    "duration": 103,
    "start_time": "2024-11-18T06:21:54.034Z"
   },
   {
    "duration": 22,
    "start_time": "2024-11-18T06:22:27.412Z"
   },
   {
    "duration": 14,
    "start_time": "2024-11-18T06:22:36.128Z"
   },
   {
    "duration": 14,
    "start_time": "2024-11-18T06:22:46.451Z"
   },
   {
    "duration": 485,
    "start_time": "2024-11-18T06:23:38.643Z"
   },
   {
    "duration": 3,
    "start_time": "2024-11-18T06:23:49.210Z"
   },
   {
    "duration": 6,
    "start_time": "2024-11-18T06:23:52.995Z"
   },
   {
    "duration": 4,
    "start_time": "2024-11-18T06:23:54.787Z"
   },
   {
    "duration": 7,
    "start_time": "2024-11-18T06:23:56.667Z"
   },
   {
    "duration": 2681,
    "start_time": "2024-11-18T06:24:10.218Z"
   },
   {
    "duration": 28,
    "start_time": "2024-11-18T06:24:12.902Z"
   },
   {
    "duration": 8,
    "start_time": "2024-11-18T06:24:12.932Z"
   },
   {
    "duration": 68,
    "start_time": "2024-11-18T06:24:12.942Z"
   },
   {
    "duration": 4,
    "start_time": "2024-11-18T06:24:13.012Z"
   },
   {
    "duration": 11,
    "start_time": "2024-11-18T06:24:13.018Z"
   },
   {
    "duration": 12,
    "start_time": "2024-11-18T06:24:13.030Z"
   },
   {
    "duration": 27,
    "start_time": "2024-11-18T06:24:13.044Z"
   },
   {
    "duration": 190,
    "start_time": "2024-11-18T06:24:13.072Z"
   },
   {
    "duration": 511,
    "start_time": "2024-11-18T06:24:13.264Z"
   },
   {
    "duration": 4,
    "start_time": "2024-11-18T06:24:13.777Z"
   },
   {
    "duration": 4,
    "start_time": "2024-11-18T06:24:13.784Z"
   },
   {
    "duration": 80,
    "start_time": "2024-11-18T06:24:13.790Z"
   },
   {
    "duration": 403,
    "start_time": "2024-11-18T06:24:13.875Z"
   },
   {
    "duration": 336,
    "start_time": "2024-11-18T06:24:14.280Z"
   },
   {
    "duration": 0,
    "start_time": "2024-11-18T06:24:14.618Z"
   },
   {
    "duration": 0,
    "start_time": "2024-11-18T06:24:14.620Z"
   },
   {
    "duration": 0,
    "start_time": "2024-11-18T06:24:14.621Z"
   },
   {
    "duration": 0,
    "start_time": "2024-11-18T06:24:14.623Z"
   },
   {
    "duration": 0,
    "start_time": "2024-11-18T06:24:14.624Z"
   },
   {
    "duration": 0,
    "start_time": "2024-11-18T06:24:14.625Z"
   },
   {
    "duration": 0,
    "start_time": "2024-11-18T06:24:14.627Z"
   },
   {
    "duration": 0,
    "start_time": "2024-11-18T06:24:14.629Z"
   },
   {
    "duration": 0,
    "start_time": "2024-11-18T06:24:14.629Z"
   },
   {
    "duration": 0,
    "start_time": "2024-11-18T06:24:14.631Z"
   },
   {
    "duration": 0,
    "start_time": "2024-11-18T06:24:14.632Z"
   },
   {
    "duration": 0,
    "start_time": "2024-11-18T06:24:14.633Z"
   },
   {
    "duration": 0,
    "start_time": "2024-11-18T06:24:14.634Z"
   },
   {
    "duration": 3,
    "start_time": "2024-11-18T06:24:29.671Z"
   },
   {
    "duration": 3,
    "start_time": "2024-11-18T06:24:39.319Z"
   },
   {
    "duration": 8,
    "start_time": "2024-11-18T06:24:41.575Z"
   },
   {
    "duration": 4,
    "start_time": "2024-11-18T06:24:45.095Z"
   },
   {
    "duration": 407,
    "start_time": "2024-11-18T06:24:57.633Z"
   },
   {
    "duration": 7,
    "start_time": "2024-11-18T06:25:07.593Z"
   },
   {
    "duration": 8,
    "start_time": "2024-11-18T06:25:10.360Z"
   },
   {
    "duration": 3,
    "start_time": "2024-11-18T06:25:14.182Z"
   },
   {
    "duration": 47,
    "start_time": "2024-11-18T06:25:20.389Z"
   },
   {
    "duration": 8070,
    "start_time": "2024-11-18T06:25:24.440Z"
   },
   {
    "duration": 6,
    "start_time": "2024-11-18T06:25:34.405Z"
   },
   {
    "duration": 89,
    "start_time": "2024-11-18T06:25:40.887Z"
   },
   {
    "duration": 88,
    "start_time": "2024-11-18T06:26:29.796Z"
   },
   {
    "duration": 3,
    "start_time": "2024-11-18T06:26:45.217Z"
   },
   {
    "duration": 8083,
    "start_time": "2024-11-18T06:26:46.071Z"
   },
   {
    "duration": 5,
    "start_time": "2024-11-18T06:26:54.157Z"
   },
   {
    "duration": 99,
    "start_time": "2024-11-18T06:26:54.171Z"
   },
   {
    "duration": 13,
    "start_time": "2024-11-18T06:28:18.426Z"
   },
   {
    "duration": 15,
    "start_time": "2024-11-18T06:28:26.661Z"
   },
   {
    "duration": 13,
    "start_time": "2024-11-18T06:28:51.098Z"
   },
   {
    "duration": 440,
    "start_time": "2024-11-18T06:28:56.856Z"
   },
   {
    "duration": 13,
    "start_time": "2024-11-18T06:29:03.545Z"
   },
   {
    "duration": 15,
    "start_time": "2024-11-18T06:29:04.840Z"
   },
   {
    "duration": 13,
    "start_time": "2024-11-18T06:29:05.814Z"
   },
   {
    "duration": 13,
    "start_time": "2024-11-18T06:29:06.025Z"
   },
   {
    "duration": 14,
    "start_time": "2024-11-18T06:29:06.200Z"
   },
   {
    "duration": 14,
    "start_time": "2024-11-18T06:29:06.404Z"
   },
   {
    "duration": 117,
    "start_time": "2024-11-18T06:29:13.846Z"
   },
   {
    "duration": 14,
    "start_time": "2024-11-18T06:29:26.055Z"
   },
   {
    "duration": 107,
    "start_time": "2024-11-18T06:29:31.923Z"
   },
   {
    "duration": 177,
    "start_time": "2024-11-18T06:29:53.367Z"
   },
   {
    "duration": 238,
    "start_time": "2024-11-18T06:30:23.863Z"
   },
   {
    "duration": 2679,
    "start_time": "2024-11-18T06:31:17.331Z"
   },
   {
    "duration": 28,
    "start_time": "2024-11-18T06:31:20.013Z"
   },
   {
    "duration": 9,
    "start_time": "2024-11-18T06:31:20.042Z"
   },
   {
    "duration": 66,
    "start_time": "2024-11-18T06:31:20.053Z"
   },
   {
    "duration": 6,
    "start_time": "2024-11-18T06:31:20.121Z"
   },
   {
    "duration": 11,
    "start_time": "2024-11-18T06:31:20.128Z"
   },
   {
    "duration": 35,
    "start_time": "2024-11-18T06:31:20.141Z"
   },
   {
    "duration": 3,
    "start_time": "2024-11-18T06:31:20.177Z"
   },
   {
    "duration": 192,
    "start_time": "2024-11-18T06:31:20.182Z"
   },
   {
    "duration": 498,
    "start_time": "2024-11-18T06:31:20.377Z"
   },
   {
    "duration": 6,
    "start_time": "2024-11-18T06:31:20.877Z"
   },
   {
    "duration": 4,
    "start_time": "2024-11-18T06:31:20.887Z"
   },
   {
    "duration": 79,
    "start_time": "2024-11-18T06:31:20.893Z"
   },
   {
    "duration": 418,
    "start_time": "2024-11-18T06:31:20.974Z"
   },
   {
    "duration": 344,
    "start_time": "2024-11-18T06:31:21.394Z"
   },
   {
    "duration": 161,
    "start_time": "2024-11-18T06:31:21.740Z"
   },
   {
    "duration": 4,
    "start_time": "2024-11-18T06:31:21.903Z"
   },
   {
    "duration": 7,
    "start_time": "2024-11-18T06:31:21.908Z"
   },
   {
    "duration": 4,
    "start_time": "2024-11-18T06:31:21.916Z"
   },
   {
    "duration": 5,
    "start_time": "2024-11-18T06:31:21.922Z"
   },
   {
    "duration": 42,
    "start_time": "2024-11-18T06:31:21.929Z"
   },
   {
    "duration": 5,
    "start_time": "2024-11-18T06:31:21.974Z"
   },
   {
    "duration": 8144,
    "start_time": "2024-11-18T06:31:21.983Z"
   },
   {
    "duration": 5,
    "start_time": "2024-11-18T06:31:30.129Z"
   },
   {
    "duration": 101,
    "start_time": "2024-11-18T06:31:30.135Z"
   },
   {
    "duration": 88,
    "start_time": "2024-11-18T06:31:48.087Z"
   },
   {
    "duration": 237,
    "start_time": "2024-11-18T06:32:13.928Z"
   },
   {
    "duration": 762,
    "start_time": "2024-11-18T06:32:44.361Z"
   },
   {
    "duration": 1867,
    "start_time": "2024-11-18T06:32:55.976Z"
   },
   {
    "duration": 1836,
    "start_time": "2024-11-18T06:33:00.808Z"
   },
   {
    "duration": 1814,
    "start_time": "2024-11-18T06:33:06.152Z"
   },
   {
    "duration": 4,
    "start_time": "2024-11-18T06:33:14.392Z"
   },
   {
    "duration": 17,
    "start_time": "2024-11-18T06:33:33.303Z"
   },
   {
    "duration": 767,
    "start_time": "2024-11-18T06:33:55.239Z"
   },
   {
    "duration": 757,
    "start_time": "2024-11-18T06:34:06.390Z"
   },
   {
    "duration": 832,
    "start_time": "2024-11-18T06:34:26.663Z"
   },
   {
    "duration": 1865,
    "start_time": "2024-11-18T06:34:35.353Z"
   },
   {
    "duration": 1848,
    "start_time": "2024-11-18T06:36:49.912Z"
   },
   {
    "duration": 1836,
    "start_time": "2024-11-18T06:37:28.386Z"
   },
   {
    "duration": 3,
    "start_time": "2024-11-18T06:37:30.224Z"
   },
   {
    "duration": 2044,
    "start_time": "2024-11-18T06:38:18.753Z"
   },
   {
    "duration": 155,
    "start_time": "2024-11-18T06:38:47.159Z"
   },
   {
    "duration": 242,
    "start_time": "2024-11-18T06:42:06.841Z"
   },
   {
    "duration": 338,
    "start_time": "2024-11-18T06:42:10.937Z"
   },
   {
    "duration": 89,
    "start_time": "2024-11-18T06:43:00.217Z"
   },
   {
    "duration": 6,
    "start_time": "2024-11-18T06:43:04.297Z"
   },
   {
    "duration": 5,
    "start_time": "2024-11-18T06:46:40.458Z"
   },
   {
    "duration": 3,
    "start_time": "2024-11-18T06:48:04.040Z"
   },
   {
    "duration": 2,
    "start_time": "2024-11-18T06:48:21.161Z"
   },
   {
    "duration": 5119,
    "start_time": "2024-11-18T06:49:25.951Z"
   },
   {
    "duration": 6,
    "start_time": "2024-11-18T06:49:31.072Z"
   },
   {
    "duration": 5,
    "start_time": "2024-11-18T06:49:41.900Z"
   },
   {
    "duration": 3,
    "start_time": "2024-11-18T06:50:05.973Z"
   },
   {
    "duration": 25378,
    "start_time": "2024-11-18T06:53:04.392Z"
   },
   {
    "duration": 5,
    "start_time": "2024-11-18T06:53:29.772Z"
   },
   {
    "duration": 5,
    "start_time": "2024-11-18T06:53:46.482Z"
   },
   {
    "duration": 25088,
    "start_time": "2024-11-18T06:54:27.896Z"
   },
   {
    "duration": 4,
    "start_time": "2024-11-18T06:54:52.986Z"
   },
   {
    "duration": 33362,
    "start_time": "2024-11-18T06:55:17.439Z"
   },
   {
    "duration": 69,
    "start_time": "2024-11-18T06:55:50.803Z"
   },
   {
    "duration": 29998,
    "start_time": "2024-11-18T06:56:12.891Z"
   },
   {
    "duration": 4,
    "start_time": "2024-11-18T06:56:42.892Z"
   },
   {
    "duration": 41324,
    "start_time": "2024-11-18T06:56:56.377Z"
   },
   {
    "duration": 5,
    "start_time": "2024-11-18T06:57:37.704Z"
   },
   {
    "duration": 5,
    "start_time": "2024-11-18T06:57:49.265Z"
   },
   {
    "duration": 48072,
    "start_time": "2024-11-18T06:58:16.812Z"
   },
   {
    "duration": 4,
    "start_time": "2024-11-18T06:59:04.887Z"
   },
   {
    "duration": 5,
    "start_time": "2024-11-18T07:00:15.770Z"
   },
   {
    "duration": 123,
    "start_time": "2024-11-18T07:01:15.325Z"
   },
   {
    "duration": 14,
    "start_time": "2024-11-18T07:02:07.349Z"
   },
   {
    "duration": 1962,
    "start_time": "2024-11-18T15:52:15.781Z"
   },
   {
    "duration": 2618,
    "start_time": "2024-11-18T15:52:38.695Z"
   },
   {
    "duration": 1806,
    "start_time": "2024-11-18T15:54:11.706Z"
   },
   {
    "duration": 3,
    "start_time": "2024-11-18T15:54:13.547Z"
   },
   {
    "duration": 35,
    "start_time": "2024-11-18T15:54:16.629Z"
   },
   {
    "duration": 1798,
    "start_time": "2024-11-18T15:54:23.286Z"
   },
   {
    "duration": 946,
    "start_time": "2024-11-18T15:54:25.086Z"
   },
   {
    "duration": 25,
    "start_time": "2024-11-18T15:54:26.034Z"
   },
   {
    "duration": 14,
    "start_time": "2024-11-18T15:54:26.060Z"
   },
   {
    "duration": 58,
    "start_time": "2024-11-18T15:54:26.077Z"
   },
   {
    "duration": 5,
    "start_time": "2024-11-18T15:54:26.137Z"
   },
   {
    "duration": 32,
    "start_time": "2024-11-18T15:54:26.144Z"
   },
   {
    "duration": 3,
    "start_time": "2024-11-18T15:54:26.178Z"
   },
   {
    "duration": 11,
    "start_time": "2024-11-18T15:54:26.183Z"
   },
   {
    "duration": 496,
    "start_time": "2024-11-18T15:54:26.195Z"
   },
   {
    "duration": 78,
    "start_time": "2024-11-18T15:54:26.693Z"
   },
   {
    "duration": 4,
    "start_time": "2024-11-18T15:54:26.773Z"
   },
   {
    "duration": 5,
    "start_time": "2024-11-18T15:54:26.779Z"
   },
   {
    "duration": 499,
    "start_time": "2024-11-18T15:54:26.788Z"
   },
   {
    "duration": 333,
    "start_time": "2024-11-18T15:54:27.290Z"
   },
   {
    "duration": 163,
    "start_time": "2024-11-18T15:54:27.624Z"
   },
   {
    "duration": 3,
    "start_time": "2024-11-18T15:54:27.789Z"
   },
   {
    "duration": 7,
    "start_time": "2024-11-18T15:54:27.794Z"
   },
   {
    "duration": 4,
    "start_time": "2024-11-18T15:54:27.803Z"
   },
   {
    "duration": 6,
    "start_time": "2024-11-18T15:54:27.808Z"
   },
   {
    "duration": 7,
    "start_time": "2024-11-18T15:54:27.816Z"
   },
   {
    "duration": 46,
    "start_time": "2024-11-18T15:54:27.825Z"
   },
   {
    "duration": 8128,
    "start_time": "2024-11-18T15:54:27.873Z"
   },
   {
    "duration": 92,
    "start_time": "2024-11-18T15:54:36.003Z"
   },
   {
    "duration": 5,
    "start_time": "2024-11-18T15:54:36.097Z"
   },
   {
    "duration": 106,
    "start_time": "2024-11-18T15:54:36.104Z"
   },
   {
    "duration": 4338272,
    "start_time": "2024-11-18T15:54:36.211Z"
   },
   {
    "duration": 47607,
    "start_time": "2024-11-18T17:06:54.485Z"
   },
   {
    "duration": 6,
    "start_time": "2024-11-18T17:07:42.094Z"
   },
   {
    "duration": 69,
    "start_time": "2024-11-18T17:07:42.101Z"
   },
   {
    "duration": 0,
    "start_time": "2024-11-18T17:07:42.172Z"
   },
   {
    "duration": 1,
    "start_time": "2024-11-18T17:07:42.172Z"
   },
   {
    "duration": 5,
    "start_time": "2024-11-18T17:16:13.590Z"
   },
   {
    "duration": 3,
    "start_time": "2024-11-18T17:16:49.483Z"
   },
   {
    "duration": 821,
    "start_time": "2024-11-18T17:17:11.898Z"
   },
   {
    "duration": 1846,
    "start_time": "2024-11-18T17:18:20.601Z"
   },
   {
    "duration": 4,
    "start_time": "2024-11-18T17:18:22.450Z"
   },
   {
    "duration": 83,
    "start_time": "2024-11-18T17:18:27.854Z"
   },
   {
    "duration": 79,
    "start_time": "2024-11-18T17:19:02.259Z"
   },
   {
    "duration": 597,
    "start_time": "2024-11-18T17:21:00.585Z"
   },
   {
    "duration": 667,
    "start_time": "2024-11-18T17:21:51.807Z"
   },
   {
    "duration": 337,
    "start_time": "2024-11-18T17:21:59.642Z"
   },
   {
    "duration": 4,
    "start_time": "2024-11-18T17:22:01.142Z"
   },
   {
    "duration": 4,
    "start_time": "2024-11-18T17:22:07.556Z"
   },
   {
    "duration": 4,
    "start_time": "2024-11-18T17:22:10.097Z"
   },
   {
    "duration": 309,
    "start_time": "2024-11-18T17:22:13.880Z"
   },
   {
    "duration": 384,
    "start_time": "2024-11-18T17:22:20.288Z"
   },
   {
    "duration": 162,
    "start_time": "2024-11-18T17:22:26.943Z"
   },
   {
    "duration": 3,
    "start_time": "2024-11-18T17:22:34.007Z"
   },
   {
    "duration": 5,
    "start_time": "2024-11-18T17:22:37.296Z"
   },
   {
    "duration": 4,
    "start_time": "2024-11-18T17:23:10.383Z"
   },
   {
    "duration": 7,
    "start_time": "2024-11-18T17:23:13.095Z"
   },
   {
    "duration": 6,
    "start_time": "2024-11-18T17:23:15.150Z"
   },
   {
    "duration": 3,
    "start_time": "2024-11-18T17:23:17.670Z"
   },
   {
    "duration": 7979,
    "start_time": "2024-11-18T17:23:18.527Z"
   },
   {
    "duration": 98,
    "start_time": "2024-11-18T17:23:26.508Z"
   },
   {
    "duration": 5,
    "start_time": "2024-11-18T17:23:26.607Z"
   },
   {
    "duration": 91,
    "start_time": "2024-11-18T17:23:36.281Z"
   },
   {
    "duration": 87,
    "start_time": "2024-11-18T17:27:27.835Z"
   },
   {
    "duration": 78,
    "start_time": "2024-11-18T17:27:35.209Z"
   },
   {
    "duration": 171,
    "start_time": "2024-11-18T17:28:23.992Z"
   },
   {
    "duration": 90,
    "start_time": "2024-11-18T17:28:29.513Z"
   },
   {
    "duration": 75,
    "start_time": "2024-11-18T17:28:42.522Z"
   },
   {
    "duration": 75,
    "start_time": "2024-11-18T17:30:18.681Z"
   },
   {
    "duration": 76,
    "start_time": "2024-11-18T17:30:54.171Z"
   },
   {
    "duration": 49732,
    "start_time": "2024-11-18T17:32:18.842Z"
   },
   {
    "duration": 5,
    "start_time": "2024-11-18T17:34:16.027Z"
   },
   {
    "duration": 1114,
    "start_time": "2024-11-18T17:34:18.520Z"
   },
   {
    "duration": 6,
    "start_time": "2024-11-18T17:37:26.849Z"
   },
   {
    "duration": 51154,
    "start_time": "2024-11-18T17:37:29.594Z"
   },
   {
    "duration": 50413,
    "start_time": "2024-11-18T17:41:36.862Z"
   },
   {
    "duration": 49912,
    "start_time": "2024-11-18T17:43:59.984Z"
   },
   {
    "duration": 50508,
    "start_time": "2024-11-18T17:45:09.776Z"
   },
   {
    "duration": 5,
    "start_time": "2024-11-18T17:46:00.287Z"
   },
   {
    "duration": 5,
    "start_time": "2024-11-18T17:46:10.727Z"
   },
   {
    "duration": 3,
    "start_time": "2024-11-18T17:46:25.005Z"
   },
   {
    "duration": 50512,
    "start_time": "2024-11-18T17:48:10.411Z"
   },
   {
    "duration": 3,
    "start_time": "2024-11-18T17:49:00.932Z"
   },
   {
    "duration": 5,
    "start_time": "2024-11-18T17:49:00.938Z"
   }
  ],
  "kernelspec": {
   "display_name": "Python 3",
   "language": "python",
   "name": "python3"
  },
  "language_info": {
   "codemirror_mode": {
    "name": "ipython",
    "version": 3
   },
   "file_extension": ".py",
   "mimetype": "text/x-python",
   "name": "python",
   "nbconvert_exporter": "python",
   "pygments_lexer": "ipython3",
   "version": "3.12.7"
  },
  "toc": {
   "base_numbering": 1,
   "nav_menu": {},
   "number_sections": true,
   "sideBar": true,
   "skip_h1_title": true,
   "title_cell": "Table of Contents",
   "title_sidebar": "Contents",
   "toc_cell": false,
   "toc_position": {},
   "toc_section_display": true,
   "toc_window_display": false
  }
 },
 "nbformat": 4,
 "nbformat_minor": 2
}
